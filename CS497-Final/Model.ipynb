{
 "cells": [
  {
   "cell_type": "markdown",
   "metadata": {},
   "source": [
    "# Following the tutorial below\n",
    "* [Tutorial](https://github.com/fchollet/deep-learning-with-python-notebooks/blob/master/5.3-using-a-pretrained-convnet.ipynb)"
   ]
  },
  {
   "cell_type": "code",
   "execution_count": 1,
   "metadata": {},
   "outputs": [
    {
     "name": "stderr",
     "output_type": "stream",
     "text": [
      "Using TensorFlow backend.\n"
     ]
    }
   ],
   "source": [
    "import keras"
   ]
  },
  {
   "cell_type": "code",
   "execution_count": 2,
   "metadata": {},
   "outputs": [],
   "source": [
    "from keras.applications import VGG16\n",
    "\n",
    "conv_base = VGG16(weights='imagenet',\n",
    "                  include_top=False,\n",
    "                  input_shape=(150, 150, 3))"
   ]
  },
  {
   "cell_type": "code",
   "execution_count": null,
   "metadata": {
    "scrolled": true
   },
   "outputs": [
    {
     "name": "stdout",
     "output_type": "stream",
     "text": [
      "Found 47 images belonging to 2 classes.\n",
      "Found 48 images belonging to 2 classes.\n"
     ]
    },
    {
     "name": "stderr",
     "output_type": "stream",
     "text": [
      "/Users/jguevara/miniconda3/lib/python3.6/site-packages/PIL/Image.py:916: UserWarning: Palette images with Transparency   expressed in bytes should be converted to RGBA images\n",
      "  'to RGBA images')\n"
     ]
    }
   ],
   "source": [
    "import os\n",
    "import numpy as np\n",
    "from keras.preprocessing.image import ImageDataGenerator\n",
    "\n",
    "base_dir = './Data/'\n",
    "\n",
    "train_dir = os.path.join(base_dir, 'train')\n",
    "validation_dir = os.path.join(base_dir, 'validation')\n",
    "test_dir = os.path.join(base_dir, 'test')\n",
    "\n",
    "datagen = ImageDataGenerator(rescale=1./255)\n",
    "batch_size = 1\n",
    "\n",
    "def extract_features(directory, sample_count):\n",
    "    features = np.zeros(shape=(sample_count, 4, 4, 512))\n",
    "    labels = np.zeros(shape=(sample_count))\n",
    "    generator = datagen.flow_from_directory(\n",
    "        directory,\n",
    "        target_size=(150, 150),\n",
    "        batch_size=batch_size,\n",
    "        class_mode='binary')\n",
    "    i = 0\n",
    "    for inputs_batch, labels_batch in generator:\n",
    "        features_batch = conv_base.predict(inputs_batch)\n",
    "        features[i * batch_size : (i + 1) * batch_size] = features_batch\n",
    "        labels[i * batch_size : (i + 1) * batch_size] = labels_batch\n",
    "        i += 1\n",
    "        if i * batch_size >= sample_count:\n",
    "            # Note that since generators yield data indefinitely in a loop,\n",
    "            # we must `break` after every image has been seen once.\n",
    "            break\n",
    "    return features, labels\n",
    "\n",
    "train_features, train_labels = extract_features(train_dir, 2000)\n",
    "validation_features, validation_labels = extract_features(validation_dir, 1000)\n",
    "test_features, test_labels = extract_features(test_dir, 1000)"
   ]
  },
  {
   "cell_type": "code",
   "execution_count": 11,
   "metadata": {},
   "outputs": [],
   "source": [
    "train_features = np.reshape(train_features, (2000, 4 * 4 * 512))\n",
    "validation_features = np.reshape(validation_features, (1000, 4 * 4 * 512))\n",
    "test_features = np.reshape(test_features, (1000, 4 * 4 * 512))"
   ]
  },
  {
   "cell_type": "code",
   "execution_count": 12,
   "metadata": {},
   "outputs": [
    {
     "name": "stdout",
     "output_type": "stream",
     "text": [
      "WARNING:tensorflow:From C:\\Users\\Mayson\\Anaconda3\\lib\\site-packages\\keras\\backend\\tensorflow_backend.py:3445: calling dropout (from tensorflow.python.ops.nn_ops) with keep_prob is deprecated and will be removed in a future version.\n",
      "Instructions for updating:\n",
      "Please use `rate` instead of `keep_prob`. Rate should be set to `rate = 1 - keep_prob`.\n",
      "WARNING:tensorflow:From C:\\Users\\Mayson\\Anaconda3\\lib\\site-packages\\tensorflow\\python\\ops\\math_ops.py:3066: to_int32 (from tensorflow.python.ops.math_ops) is deprecated and will be removed in a future version.\n",
      "Instructions for updating:\n",
      "Use tf.cast instead.\n",
      "Train on 2000 samples, validate on 1000 samples\n",
      "Epoch 1/30\n",
      "2000/2000 [==============================] - 5s 3ms/step - loss: 0.3945 - acc: 0.8475 - val_loss: 0.4097 - val_acc: 0.8120\n",
      "Epoch 2/30\n",
      "2000/2000 [==============================] - 4s 2ms/step - loss: 0.1011 - acc: 0.9955 - val_loss: 0.3247 - val_acc: 0.8750\n",
      "Epoch 3/30\n",
      "2000/2000 [==============================] - 5s 2ms/step - loss: 0.0272 - acc: 1.0000 - val_loss: 0.2945 - val_acc: 0.8750\n",
      "Epoch 4/30\n",
      "2000/2000 [==============================] - 5s 2ms/step - loss: 0.0079 - acc: 1.0000 - val_loss: 0.2867 - val_acc: 0.8750\n",
      "Epoch 5/30\n",
      "2000/2000 [==============================] - 5s 2ms/step - loss: 0.0023 - acc: 1.0000 - val_loss: 0.3221 - val_acc: 0.8540\n",
      "Epoch 6/30\n",
      "2000/2000 [==============================] - 5s 2ms/step - loss: 7.5196e-04 - acc: 1.0000 - val_loss: 0.3293 - val_acc: 0.8340\n",
      "Epoch 7/30\n",
      "2000/2000 [==============================] - 4s 2ms/step - loss: 2.7492e-04 - acc: 1.0000 - val_loss: 0.3525 - val_acc: 0.8340\n",
      "Epoch 8/30\n",
      "2000/2000 [==============================] - 5s 2ms/step - loss: 9.9229e-05 - acc: 1.0000 - val_loss: 0.3717 - val_acc: 0.8340\n",
      "Epoch 9/30\n",
      "2000/2000 [==============================] - 4s 2ms/step - loss: 3.6596e-05 - acc: 1.0000 - val_loss: 0.4119 - val_acc: 0.8340\n",
      "Epoch 10/30\n",
      "2000/2000 [==============================] - 5s 2ms/step - loss: 2.0200e-05 - acc: 1.0000 - val_loss: 0.4244 - val_acc: 0.8340\n",
      "Epoch 11/30\n",
      "2000/2000 [==============================] - 5s 2ms/step - loss: 9.4962e-06 - acc: 1.0000 - val_loss: 0.4309 - val_acc: 0.8340\n",
      "Epoch 12/30\n",
      "2000/2000 [==============================] - 5s 2ms/step - loss: 5.3820e-06 - acc: 1.0000 - val_loss: 0.4678 - val_acc: 0.8340\n",
      "Epoch 13/30\n",
      "2000/2000 [==============================] - 4s 2ms/step - loss: 2.8823e-06 - acc: 1.0000 - val_loss: 0.4632 - val_acc: 0.8340\n",
      "Epoch 14/30\n",
      "2000/2000 [==============================] - 4s 2ms/step - loss: 1.9529e-06 - acc: 1.0000 - val_loss: 0.4874 - val_acc: 0.8340\n",
      "Epoch 15/30\n",
      "2000/2000 [==============================] - 6s 3ms/step - loss: 1.2544e-06 - acc: 1.0000 - val_loss: 0.4884 - val_acc: 0.8340\n",
      "Epoch 16/30\n",
      "2000/2000 [==============================] - 5s 2ms/step - loss: 1.2208e-06 - acc: 1.0000 - val_loss: 0.5141 - val_acc: 0.8340\n",
      "Epoch 17/30\n",
      "2000/2000 [==============================] - 7s 4ms/step - loss: 7.5413e-07 - acc: 1.0000 - val_loss: 0.5314 - val_acc: 0.8340\n",
      "Epoch 18/30\n",
      "2000/2000 [==============================] - 5s 3ms/step - loss: 7.6357e-07 - acc: 1.0000 - val_loss: 0.5240 - val_acc: 0.8340\n",
      "Epoch 19/30\n",
      "2000/2000 [==============================] - 5s 2ms/step - loss: 6.2591e-07 - acc: 1.0000 - val_loss: 0.5359 - val_acc: 0.8340\n",
      "Epoch 20/30\n",
      "2000/2000 [==============================] - 6s 3ms/step - loss: 5.1452e-07 - acc: 1.0000 - val_loss: 0.5428 - val_acc: 0.8340\n",
      "Epoch 21/30\n",
      "2000/2000 [==============================] - 6s 3ms/step - loss: 4.0669e-07 - acc: 1.0000 - val_loss: 0.5521 - val_acc: 0.8340\n",
      "Epoch 22/30\n",
      "2000/2000 [==============================] - 6s 3ms/step - loss: 3.0338e-07 - acc: 1.0000 - val_loss: 0.5583 - val_acc: 0.8340\n",
      "Epoch 23/30\n",
      "2000/2000 [==============================] - 7s 3ms/step - loss: 3.0264e-07 - acc: 1.0000 - val_loss: 0.5576 - val_acc: 0.8340\n",
      "Epoch 24/30\n",
      "2000/2000 [==============================] - 5s 3ms/step - loss: 2.6843e-07 - acc: 1.0000 - val_loss: 0.5699 - val_acc: 0.8340\n",
      "Epoch 25/30\n",
      "2000/2000 [==============================] - 5s 2ms/step - loss: 2.3599e-07 - acc: 1.0000 - val_loss: 0.5703 - val_acc: 0.8340\n",
      "Epoch 26/30\n",
      "2000/2000 [==============================] - 5s 2ms/step - loss: 2.6938e-07 - acc: 1.0000 - val_loss: 0.5761 - val_acc: 0.8340\n",
      "Epoch 27/30\n",
      "2000/2000 [==============================] - 5s 2ms/step - loss: 2.2957e-07 - acc: 1.0000 - val_loss: 0.5843 - val_acc: 0.8340\n",
      "Epoch 28/30\n",
      "2000/2000 [==============================] - 5s 2ms/step - loss: 2.0988e-07 - acc: 1.0000 - val_loss: 0.5811 - val_acc: 0.8340\n",
      "Epoch 29/30\n",
      "2000/2000 [==============================] - 5s 2ms/step - loss: 1.9901e-07 - acc: 1.0000 - val_loss: 0.5813 - val_acc: 0.8340\n",
      "Epoch 30/30\n",
      "2000/2000 [==============================] - 5s 2ms/step - loss: 1.8167e-07 - acc: 1.0000 - val_loss: 0.5917 - val_acc: 0.8340\n"
     ]
    }
   ],
   "source": [
    "from keras import models\n",
    "from keras import layers\n",
    "from keras import optimizers\n",
    "\n",
    "model = models.Sequential()\n",
    "model.add(layers.Dense(256, activation='relu', input_dim=4 * 4 * 512))\n",
    "model.add(layers.Dropout(0.5))\n",
    "model.add(layers.Dense(1, activation='sigmoid'))\n",
    "\n",
    "model.compile(optimizer=optimizers.RMSprop(lr=2e-5),\n",
    "              loss='binary_crossentropy',\n",
    "              metrics=['acc'])\n",
    "\n",
    "history = model.fit(train_features, train_labels,\n",
    "                    epochs=30,\n",
    "                    batch_size=20,\n",
    "                    validation_data=(validation_features, validation_labels))"
   ]
  },
  {
   "cell_type": "code",
   "execution_count": 14,
   "metadata": {},
   "outputs": [
    {
     "data": {
      "image/png": "[encoded data removed]",
      "text/plain": [
       "<Figure size 432x288 with 1 Axes>"
      ]
     },
     "metadata": {
      "needs_background": "light"
     },
     "output_type": "display_data"
    },
    {
     "data": {
      "image/png": "[encoded data removed]",
      "text/plain": [
       "<Figure size 432x288 with 1 Axes>"
      ]
     },
     "metadata": {
      "needs_background": "light"
     },
     "output_type": "display_data"
    }
   ],
   "source": [
    "import matplotlib.pyplot as plt\n",
    "\n",
    "acc = history.history['acc']\n",
    "val_acc = history.history['val_acc']\n",
    "loss = history.history['loss']\n",
    "val_loss = history.history['val_loss']\n",
    "\n",
    "epochs = range(len(acc))\n",
    "\n",
    "plt.plot(epochs, acc, 'bo', label='Training acc')\n",
    "plt.plot(epochs, val_acc, 'b', label='Validation acc')\n",
    "plt.title('Training and validation accuracy')\n",
    "plt.legend()\n",
    "\n",
    "plt.figure()\n",
    "\n",
    "plt.plot(epochs, loss, 'bo', label='Training loss')\n",
    "plt.plot(epochs, val_loss, 'b', label='Validation loss')\n",
    "plt.title('Training and validation loss')\n",
    "plt.legend()\n",
    "\n",
    "plt.show()"
   ]
  },
  {
   "cell_type": "code",
   "execution_count": null,
   "metadata": {},
   "outputs": [],
   "source": []
  }
 ],
 "metadata": {
  "kernelspec": {
   "display_name": "Python 3",
   "language": "python",
   "name": "python3"
  },
  "language_info": {
   "codemirror_mode": {
    "name": "ipython",
    "version": 3
   },
   "file_extension": ".py",
   "mimetype": "text/x-python",
   "name": "python",
   "nbconvert_exporter": "python",
   "pygments_lexer": "ipython3",
   "version": "3.6.8"
  }
 },
 "nbformat": 4,
 "nbformat_minor": 2
}
