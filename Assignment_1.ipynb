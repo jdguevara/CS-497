{
 "cells": [
  {
   "cell_type": "markdown",
   "metadata": {},
   "source": [
    "<html>\n",
    "    <h5>Jaime Guevara<br/>\n",
    "        CS-497 Spring 2019<br/>\n",
    "        01/14/2019\n",
    "        <br/>\n",
    "        Assignment 1 Questions:\n",
    "    </h5>\n",
    "    <ol>\n",
    "        <li><strong>Name:</strong><br/>Jaime Guevara</li>\n",
    "        <li><strong>Planned graduation date:</strong><br/>December 2019</li>\n",
    "        <li><p><strong>What are your plans for after graduation?</strong><br/>&emsp;I'd like to go into industry, not sure what field just yet (though I have enjoyed Web Dev and Software Engineering so far), but I'm open to anything. Eventually down the road I'd like to get a PhD. but since I'm still not sure as to what I'd like to focus on I will leave that after I've built up my skills more through hands-on industry experience.</p></li>\n",
    "        <li><p><strong>Why did you sign up for this class?</strong><br/>&emsp;I think it's an interesting topic, and if I can get more knowledge of this particular CS area and at the same time knock out some credit for my degree then all the better. Also the lab that I currently work in does Machine Learning on Organic Photovoltaics, but they use random forests and I thought learning about another aspect of Machine Learning (such as Neural Networks) might be a neat thing to do.</p></li>\n",
    "        <li><p><strong>What are some things you hope to learn from this class?</strong><br/>&emsp;More about Neural Networks and Machine Learning models/algorithms in general<p></li>\n",
    "        <li><p><strong>What other classes or experiences do you have with machine learning?</strong><br/>&emsp;None from myself (at least not building models for ML) but I have read some of the literature from work and it seems like really fascinating stuff.</p></li>\n",
    "    </ol>\n",
    "</html>"
   ]
  },
  {
   "cell_type": "code",
   "execution_count": 7,
   "metadata": {},
   "outputs": [
    {
     "name": "stdout",
     "output_type": "stream",
     "text": [
      "[('Matty', 'Jon'), ('Alex', 'Daniele'), ('Bob', 'Austin'), ('Sara',)]\n"
     ]
    }
   ],
   "source": [
    "# Import shuffle from the random module\n",
    "from random import shuffle\n",
    "\n",
    "# Creating a list in Python\n",
    "names = [\"Bob\", \"Alex\", \"Daniele\", \"Austin\", \"Sara\", \"Jon\", \"Matty\"]\n",
    "\n",
    "# Integer that defines the max size of groups allowed to be formed\n",
    "max_size = 2\n",
    "\n",
    "# The function we want: it takes in a name list, and a max group size. \n",
    "def shuffle_groups(name_list, max_group_size):\n",
    "    \"\"\"\n",
    "    \n",
    "    \"\"\"\n",
    "    # We shuffle the names prior, as shuffling them during iteration may cause duplicates\n",
    "    shuffle(name_list) \n",
    "    # Iterate over the list, incrementing based on our group size (i.e. our step-size)\n",
    "    for i in range(0, len(name_list), max_group_size):\n",
    "        group = name_list[i:i+max_group_size]\n",
    "        # If we've met our group size goal yield a group as a tuple\n",
    "        if len(group) == max_group_size: \n",
    "            yield tuple(group)\n",
    "        # It takes the remaining names in the list\n",
    "        elif len(name_list) - i < max_size:\n",
    "            group = name_list[i:len(name_list)] \n",
    "            yield tuple(group)\n",
    "\n",
    "# List out the groups, but assign them to a variable to be used later/printed\n",
    "group_list = list(shuffle_groups(names, max_size)) \n",
    "\n",
    "# Print out the group list\n",
    "print(group_list)"
   ]
  },
  {
   "cell_type": "code",
   "execution_count": null,
   "metadata": {},
   "outputs": [],
   "source": []
  }
 ],
 "metadata": {
  "kernelspec": {
   "display_name": "Python 3",
   "language": "python",
   "name": "python3"
  },
  "language_info": {
   "codemirror_mode": {
    "name": "ipython",
    "version": 3
   },
   "file_extension": ".py",
   "mimetype": "text/x-python",
   "name": "python",
   "nbconvert_exporter": "python",
   "pygments_lexer": "ipython3",
   "version": "3.6.8"
  }
 },
 "nbformat": 4,
 "nbformat_minor": 2
}
