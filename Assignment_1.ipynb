{
 "cells": [
  {
   "cell_type": "markdown",
   "metadata": {},
   "source": [
    "This will be an intro to iPython notebooks and Jupyter in general.\n",
    "The following lines will showcase some of the things that can be done with this type of notebook.\n",
    "\n",
    "Assignment 1 Questions:\n",
    "\n",
    "1. Name:\n",
    "    Jaime Guevara\n",
    "\n",
    "2. Planned graduation date:\n",
    "    December 2019\n",
    "\n",
    "3. What are your plans for after graduation?\n",
    "    I'd like to go into industry, not sure what position just yet (though I have enjoyed Web \n",
    "    Dev and Software Engineering so far), but I'm open to anything. Eventually down the road \n",
    "    I'd like to get a PhD. but since I'm still not sure as to what I'd like to focus on I \n",
    "    will leave that after I've built up my skills more through hands-on industry experience.\n",
    "       \n",
    "4. Why did you sign up for this class?\n",
    "    I think it's an interesting topic, and if I can get more knowledge of this particular CS\n",
    "    area and at the same time knock out some credit for my degree then all the better. Also the\n",
    "    lab that I currently work in does Machine Learning on Organic Photovoltaics, but they use\n",
    "    random forests and I thought learning about another aspect of Machine Learning (such as \n",
    "    Neural Networks) might be a neat thing to do.\n",
    "    \n",
    "5. What are some things you hope to learn from this class?\n",
    "    More about Neural Networks and Machine Learning models/algorithms in general\n",
    "    \n",
    "6. What other classes or experiences do you have with machine learning?\n",
    "    None from myself (at least not building models for ML) but I have read some of the\n",
    "    literature from work and it seems like really fascinating stuff."
   ]
  },
  {
   "cell_type": "code",
   "execution_count": null,
   "metadata": {},
   "outputs": [],
   "source": []
  }
 ],
 "metadata": {
  "kernelspec": {
   "display_name": "Python 3",
   "language": "python",
   "name": "python3"
  },
  "language_info": {
   "codemirror_mode": {
    "name": "ipython",
    "version": 3
   },
   "file_extension": ".py",
   "mimetype": "text/x-python",
   "name": "python",
   "nbconvert_exporter": "python",
   "pygments_lexer": "ipython3",
   "version": "3.6.8"
  }
 },
 "nbformat": 4,
 "nbformat_minor": 2
}
