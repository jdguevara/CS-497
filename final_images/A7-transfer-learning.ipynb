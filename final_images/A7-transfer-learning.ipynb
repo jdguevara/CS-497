{
 "cells": [
  {
   "cell_type": "markdown",
   "metadata": {},
   "source": [
    "In this assignment, you will use a pre-trained convnet to produce features for a classifier that can detect a single object type. This notebook has some code to help you get started. "
   ]
  },
  {
   "cell_type": "code",
   "execution_count": 1,
   "metadata": {},
   "outputs": [],
   "source": [
    "from imutils import paths\n",
    "import pandas as pd\n",
    "import requests\n",
    "import cv2\n",
    "import os\n",
    "from os import listdir\n",
    "from os.path import isfile, join\n",
    "import os.path as osp\n",
    "from tqdm import tqdm_notebook as tqdm\n",
    "from google_images_download import google_images_download\n",
    "\n",
    "img_folder = '../downloads'"
   ]
  },
  {
   "cell_type": "code",
   "execution_count": 2,
   "metadata": {},
   "outputs": [],
   "source": [
    "def build_arguments(word):\n",
    "    args = {}\n",
    "    args['keywords'] = word\n",
    "    args['limit'] = 100\n",
    "    args['format'] = 'png'\n",
    "    #args['usage_rights'] = 'labeled-for-nocommercial-reuse'\n",
    "    return args\n",
    "\n",
    "response = google_images_download.googleimagesdownload()"
   ]
  },
  {
   "cell_type": "markdown",
   "metadata": {},
   "source": [
    "### Run the following two cells\n",
    "\n",
    "- change the positive and negative words\n",
    "- running each cell downloads 100 images into a `downloads` folder with a subfolder of your word\n",
    "- `word` can be any string or search criteria"
   ]
  },
  {
   "cell_type": "code",
   "execution_count": 3,
   "metadata": {},
   "outputs": [
    {
     "name": "stdout",
     "output_type": "stream",
     "text": [
      "\n",
      "Item no.: 1 --> Item name = University logo\n",
      "Evaluating...\n",
      "Starting Download...\n",
      "Completed Image ====> 1. 1280px-athabasca_university_logo_2017.svg.png\n",
      "Completed Image ====> 2. vert2_blue_seal_wilkes.png\n",
      "Completed Image ====> 3. nmu_stack_transparent.png\n",
      "Completed Image ====> 4. university.logo_.small_.vertical.white_.png\n",
      "Completed Image ====> 5. university_of_oxford-logo-2acbb1aa61-seeklogo.com.png\n",
      "Completed Image ====> 6. university_logo_small_vertical_blue.png\n",
      "Completed Image ====> 7. towsonu-logo.png\n",
      "Completed Image ====> 8. filetodownload,200788,en.png\n",
      "Completed Image ====> 9. ?media_id=109914737339.jpg\n",
      "Completed Image ====> 10. cincinnati_christian_university_logo_detail.png\n",
      "Completed Image ====> 11. university_logos_buildings.png\n",
      "Completed Image ====> 12. gu-logo-stacked.png\n",
      "Completed Image ====> 13. nccu_vert_color_logo.png\n",
      "Completed Image ====> 14. logorev-1.png\n",
      "Completed Image ====> 15. ashford_university_full_color_logo.png\n",
      "Completed Image ====> 16. academic-donts2.png\n",
      "Completed Image ====> 17. stacked-banner-1426x840.png\n",
      "Completed Image ====> 18. cwru-logos.png\n",
      "Completed Image ====> 19. uni-hohenheim-logo-blau-en.png\n",
      "Completed Image ====> 20. uwa-logo-square.png\n",
      "Completed Image ====> 21. 1200px-murdoch_university_logo.svg.png\n",
      "Completed Image ====> 22. braxton_university_logo_wiki.png\n",
      "Completed Image ====> 23. bu_black_gold_vert.png\n",
      "Completed Image ====> 24. horizontal-logo.png\n",
      "Completed Image ====> 25. logo+1794+black+orange+black.png\n",
      "Completed Image ====> 26. slu_logoleftaligned_rgb.png\n",
      "URLError on an image...trying next one... Error: <urlopen error [SSL: CERTIFICATE_VERIFY_FAILED] certificate verify failed: unable to get local issuer certificate (_ssl.c:1051)>\n",
      "Completed Image ====> 27. logos-01_-tru_logo_left_900px37269.png\n",
      "Completed Image ====> 28. kent_state_university+horizontal_2g-cmyk.png\n",
      "Completed Image ====> 29. csu_logo_primary1.png\n",
      "Completed Image ====> 30. cu-style-guide-10.png\n",
      "Completed Image ====> 31. university-of-toronto-vector-logo-small.png\n",
      "URLError on an image...trying next one... Error: <urlopen error [SSL: CERTIFICATE_VERIFY_FAILED] certificate verify failed: unable to get local issuer certificate (_ssl.c:1051)>\n",
      "Completed Image ====> 32. core-logo-example.png\n",
      "Completed Image ====> 33. og-logo-biola.png\n",
      "Completed Image ====> 34. 1459281566840.png\n",
      "Completed Image ====> 35. 1200px-jacobs_university_bremen_logo.svg.png\n",
      "Completed Image ====> 36. ecuad-logo_rgb.png\n",
      "Completed Image ====> 37. customer-reference_gunma-university-10.png\n",
      "URLError on an image...trying next one... Error: <urlopen error [SSL: CERTIFICATE_VERIFY_FAILED] certificate verify failed: unable to get local issuer certificate (_ssl.c:1051)>\n",
      "Completed Image ====> 38. 1459281757968.png\n",
      "Completed Image ====> 39. graphic-purduelogousage.png\n",
      "Completed Image ====> 40. university-of-california-logo.png\n",
      "Completed Image ====> 41. athletic_logos_0.png\n",
      "Completed Image ====> 42. university.logo_.small_.horizontal.white_.png\n",
      "Completed Image ====> 43. elon-signature.png\n",
      "Completed Image ====> 44. rmu_official_seal.png\n",
      "Completed Image ====> 45. bolt.png\n",
      "URLError on an image...trying next one... Error: <urlopen error [SSL: CERTIFICATE_VERIFY_FAILED] certificate verify failed: unable to get local issuer certificate (_ssl.c:1051)>\n",
      "Completed Image ====> 46. logo-png\n",
      "Completed Image ====> 47. 1460123040155.png\n",
      "Completed Image ====> 48. utu_logo_en_rgb.png\n",
      "Completed Image ====> 49. howard_social.png\n",
      "Completed Image ====> 50. western_logo_stack_rgb_rev_fotter.png\n",
      "Completed Image ====> 51. tu+logo+black+orange-03.png\n",
      "Completed Image ====> 52. roosevelt-university-logo.png\n",
      "Completed Image ====> 53. avancezchalmersu_black_centered.png\n",
      "Completed Image ====> 54. sau-logos.png\n",
      "URLError on an image...trying next one... Error: <urlopen error [SSL: CERTIFICATE_VERIFY_FAILED] certificate verify failed: unable to get local issuer certificate (_ssl.c:1051)>\n",
      "Completed Image ====> 55. regis_logo_blue_rgb.png\n",
      "Completed Image ====> 56. bu_black_gold_wide.png\n",
      "Completed Image ====> 57. 1200px-york_st_john_university_logo.svg.png\n",
      "Completed Image ====> 58. dhvtsu_logo512px.png\n",
      "Completed Image ====> 59. pace_university_logo-22uhi82.png\n",
      "Completed Image ====> 60. nau_acronym_primary-281_3514-300x213.png\n",
      "Completed Image ====> 61. logo-home-en.png\n",
      "Completed Image ====> 62. ju-seal-green-web.png\n",
      "Completed Image ====> 63. logo-no-nos.png\n",
      "Completed Image ====> 64. university-of-embu-logo.png\n",
      "Completed Image ====> 65. nu-reg-logo.png\n",
      "Completed Image ====> 66. logo+orange+black.png\n",
      "Completed Image ====> 67. phoenix-logo.png\n",
      "Completed Image ====> 68. lu_logo.png\n",
      "Completed Image ====> 69. mu_universitysig_vert_rgb.png\n",
      "Completed Image ====> 70. clarkson-logo-stacked.png\n",
      "Completed Image ====> 71. uniseal.png\n",
      "Completed Image ====> 72. large-logo.png\n",
      "Completed Image ====> 73. lehi-go-wht_crest-rgb.png\n",
      "Completed Image ====> 74. logo-creation-flat-white-01.png\n",
      "Completed Image ====> 75. xu_logo_type_ver_2.png\n",
      "Completed Image ====> 76. 1200px-brandeis_university_seal.svg.png\n",
      "Completed Image ====> 77. other-variations.png\n",
      "Completed Image ====> 78. logo_en.png\n",
      "Completed Image ====> 79. athletic-logo.png\n",
      "Completed Image ====> 80. towsonulogo-horiz-color-pos.png\n",
      "Completed Image ====> 81. hr_logo_vinstri_transparent.png\n",
      "Completed Image ====> 82. averett-logo-web.png\n",
      "Completed Image ====> 83. graphic-logoseal.png\n",
      "Completed Image ====> 84. gcu-footer-logo.png\n",
      "Completed Image ====> 85. lamar-university-tsus.png\n",
      "Completed Image ====> 86. national-university-bangladesh-logo-download.png\n",
      "Completed Image ====> 87. unu-logo-elements-new.png\n",
      "Completed Image ====> 88. logo+black.png\n",
      "Completed Image ====> 89. ur_logo_primary_black.png\n",
      "Completed Image ====> 90. npu-logo.png\n",
      "Completed Image ====> 91. um_l_bwn_vrt(1).png\n",
      "Completed Image ====> 92. img-elements_of_the_university_identity-2.png\n",
      "Completed Image ====> 93. logo-stacked.png\n",
      "Completed Image ====> 94. ju-stacked-green-for-white-bg.png\n",
      "Completed Image ====> 95. 0000_redesign_footer_fairfield-university-logo_stacked_07312017.png\n",
      "\n",
      "\n",
      "Unfortunately all 100 could not be downloaded because some images were not downloadable. 95 is all we got for this search filter!\n",
      "\n",
      "Errors: 5\n",
      "\n"
     ]
    }
   ],
   "source": [
    "# positive examples\n",
    "\n",
    "word = 'University logo'\n",
    "absolute_image_paths = response.download(build_arguments(word))"
   ]
  },
  {
   "cell_type": "code",
   "execution_count": 5,
   "metadata": {},
   "outputs": [
    {
     "name": "stdout",
     "output_type": "stream",
     "text": [
      "\n",
      "Item no.: 1 --> Item name = random\n",
      "Evaluating...\n",
      "Looks like we cannot locate the path the 'chromedriver' (use the '--chromedriver' argument to specify the path to the executable.) or google chrome browser is not installed on your machine (exception: argument of type 'NoneType' is not iterable)\n"
     ]
    },
    {
     "ename": "SystemExit",
     "evalue": "",
     "output_type": "error",
     "traceback": [
      "An exception has occurred, use %tb to see the full traceback.\n",
      "\u001b[1;31mSystemExit\u001b[0m\n"
     ]
    }
   ],
   "source": [
    "# negative examples\n",
    "\n",
    "word = 'random'\n",
    "absolute_image_paths = response.download(build_arguments(word))"
   ]
  },
  {
   "cell_type": "markdown",
   "metadata": {},
   "source": [
    "## 1.) Run the following cell\n",
    "\n",
    "* This imports needed Keras libraries\n",
    "* Then, it gets the trained VGG19 imagenet model\n",
    "* Then, it prints out the names of all the layers in that model"
   ]
  },
  {
   "cell_type": "code",
   "execution_count": 74,
   "metadata": {},
   "outputs": [
    {
     "name": "stdout",
     "output_type": "stream",
     "text": [
      "input_6\n",
      "block1_conv1\n",
      "block1_conv2\n",
      "block1_pool\n",
      "block2_conv1\n",
      "block2_conv2\n",
      "block2_pool\n",
      "block3_conv1\n",
      "block3_conv2\n",
      "block3_conv3\n",
      "block3_conv4\n",
      "block3_pool\n",
      "block4_conv1\n",
      "block4_conv2\n",
      "block4_conv3\n",
      "block4_conv4\n",
      "block4_pool\n",
      "block5_conv1\n",
      "block5_conv2\n",
      "block5_conv3\n",
      "block5_conv4\n",
      "block5_pool\n",
      "flatten\n",
      "fc1\n",
      "fc2\n",
      "predictions\n"
     ]
    }
   ],
   "source": [
    "import numpy as np\n",
    "from keras.applications.vgg19 import VGG19\n",
    "from keras.preprocessing import image\n",
    "from keras.applications.vgg19 import preprocess_input\n",
    "from keras.models import Model\n",
    "\n",
    "base_model = VGG19(weights='imagenet')\n",
    "\n",
    "for layer in base_model.layers:\n",
    "    print(layer.name)"
   ]
  },
  {
   "cell_type": "markdown",
   "metadata": {},
   "source": [
    "### 2.) Determine your output layer\n",
    "\n",
    "- try `predictions` first"
   ]
  },
  {
   "cell_type": "code",
   "execution_count": 103,
   "metadata": {},
   "outputs": [
    {
     "name": "stderr",
     "output_type": "stream",
     "text": [
      "C:\\Users\\Mayson\\Anaconda3\\lib\\site-packages\\ipykernel_launcher.py:3: UserWarning: Update your `Model` call to the Keras 2 API: `Model(inputs=Tensor(\"in..., outputs=Tensor(\"bl...)`\n",
      "  This is separate from the ipykernel package so we can avoid doing imports until\n"
     ]
    }
   ],
   "source": [
    "layer = 'predictions'\n",
    "\n",
    "model = Model(input=base_model.input, output=base_model.get_layer(layer).output)"
   ]
  },
  {
   "cell_type": "markdown",
   "metadata": {},
   "source": [
    "### Run the following cell"
   ]
  },
  {
   "cell_type": "code",
   "execution_count": 76,
   "metadata": {},
   "outputs": [],
   "source": [
    "def get_image(img_path, xs=224,ys=224):\n",
    "    x = image.load_img(img_path, target_size=(xs, ys))\n",
    "    x = image.img_to_array(x)\n",
    "    x = np.expand_dims(x, axis=0)\n",
    "    return x\n",
    "\n",
    "def get_img_features(model, img):\n",
    "    img = preprocess_input(img)\n",
    "    yhat = model.predict(img)\n",
    "    return yhat\n",
    "\n",
    "def get_image_features(word):\n",
    "    files = [f for f in listdir(osp.join(img_folder, word))] # grab all of the images in the folder\n",
    "    image_vectors = []\n",
    "    for f in tqdm(files):\n",
    "        img = get_image(osp.join(img_folder, word, f)) \n",
    "        x_feats = get_img_features(model, img).flatten() # get features for each image\n",
    "        image_vectors.append(x_feats) \n",
    "    return np.array(image_vectors)"
   ]
  },
  {
   "cell_type": "markdown",
   "metadata": {},
   "source": [
    "## 3.) Evaluate a classifier for your `word`\n",
    "\n",
    "* Using the positive and negative output from `base_model`, train a classifier (it can be a linear classifier from scikit-learn, if you'd like, but I would recommend the Keras Dense network we built for the previous assignment). \n",
    "* You'll need to split your data into Train and Test (I would recommend using half of the data for training, half for testing; you may opt for downloading more positive and negative examples)"
   ]
  },
  {
   "cell_type": "code",
   "execution_count": 39,
   "metadata": {},
   "outputs": [
    {
     "data": {
      "application/vnd.jupyter.widget-view+json": {
       "model_id": "1d66e1bbeed3413a93f0689272d87972",
       "version_major": 2,
       "version_minor": 0
      },
      "text/plain": [
       "HBox(children=(IntProgress(value=0, max=183), HTML(value='')))"
      ]
     },
     "metadata": {},
     "output_type": "display_data"
    },
    {
     "data": {
      "application/vnd.jupyter.widget-view+json": {
       "model_id": "39985d0a24984935ba2cd28ea27acb24",
       "version_major": 2,
       "version_minor": 0
      },
      "text/plain": [
       "HBox(children=(IntProgress(value=0, max=91), HTML(value='')))"
      ]
     },
     "metadata": {},
     "output_type": "display_data"
    }
   ],
   "source": [
    "pos_images = get_image_features('red') # get positive image vectors\n",
    "neg_images = get_image_features('random') # get negative image vectors"
   ]
  },
  {
   "cell_type": "markdown",
   "metadata": {},
   "source": [
    "### Prepare the data. Split to train/test sets"
   ]
  },
  {
   "cell_type": "code",
   "execution_count": 77,
   "metadata": {},
   "outputs": [],
   "source": [
    "from sklearn.model_selection import train_test_split"
   ]
  },
  {
   "cell_type": "code",
   "execution_count": 78,
   "metadata": {},
   "outputs": [],
   "source": [
    "pos_images = pd.DataFrame(pos_images)\n",
    "neg_images = pd.DataFrame(neg_images)\n",
    "# Set labels for each set of data\n",
    "pos_images['label'] = 1\n",
    "neg_images['label'] = 0\n",
    "\n",
    "# Combine the data\n",
    "images = pos_images.append(neg_images, ignore_index=True)\n",
    "\n",
    "# Shuffle the data \n",
    "images = images.sample(frac=1).reset_index(drop=True)\n",
    "\n",
    "# Drop the labels\n",
    "y = images['label']\n",
    "images.drop(columns=[\"label\"], inplace=True)\n",
    "\n",
    "#split into train and test\n",
    "X_train, X_test, y_train, y_test = train_test_split(images, y)"
   ]
  },
  {
   "cell_type": "code",
   "execution_count": 79,
   "metadata": {},
   "outputs": [
    {
     "data": {
      "text/html": [
       "<div>\n",
       "<style scoped>\n",
       "    .dataframe tbody tr th:only-of-type {\n",
       "        vertical-align: middle;\n",
       "    }\n",
       "\n",
       "    .dataframe tbody tr th {\n",
       "        vertical-align: top;\n",
       "    }\n",
       "\n",
       "    .dataframe thead th {\n",
       "        text-align: right;\n",
       "    }\n",
       "</style>\n",
       "<table border=\"1\" class=\"dataframe\">\n",
       "  <thead>\n",
       "    <tr style=\"text-align: right;\">\n",
       "      <th></th>\n",
       "      <th>0</th>\n",
       "      <th>1</th>\n",
       "      <th>2</th>\n",
       "      <th>3</th>\n",
       "      <th>4</th>\n",
       "      <th>5</th>\n",
       "      <th>6</th>\n",
       "      <th>7</th>\n",
       "      <th>8</th>\n",
       "      <th>9</th>\n",
       "      <th>...</th>\n",
       "      <th>990</th>\n",
       "      <th>991</th>\n",
       "      <th>992</th>\n",
       "      <th>993</th>\n",
       "      <th>994</th>\n",
       "      <th>995</th>\n",
       "      <th>996</th>\n",
       "      <th>997</th>\n",
       "      <th>998</th>\n",
       "      <th>999</th>\n",
       "    </tr>\n",
       "  </thead>\n",
       "  <tbody>\n",
       "    <tr>\n",
       "      <th>0</th>\n",
       "      <td>6.301458e-09</td>\n",
       "      <td>5.907184e-06</td>\n",
       "      <td>8.037114e-07</td>\n",
       "      <td>1.626123e-06</td>\n",
       "      <td>1.852689e-07</td>\n",
       "      <td>1.096791e-07</td>\n",
       "      <td>1.542192e-07</td>\n",
       "      <td>0.000006</td>\n",
       "      <td>1.241482e-06</td>\n",
       "      <td>2.855139e-06</td>\n",
       "      <td>...</td>\n",
       "      <td>6.277209e-07</td>\n",
       "      <td>0.000095</td>\n",
       "      <td>1.048783e-06</td>\n",
       "      <td>2.340776e-08</td>\n",
       "      <td>5.418072e-07</td>\n",
       "      <td>0.000005</td>\n",
       "      <td>0.000008</td>\n",
       "      <td>4.838635e-08</td>\n",
       "      <td>0.000002</td>\n",
       "      <td>0.000073</td>\n",
       "    </tr>\n",
       "    <tr>\n",
       "      <th>1</th>\n",
       "      <td>1.135017e-08</td>\n",
       "      <td>1.531346e-05</td>\n",
       "      <td>4.887981e-07</td>\n",
       "      <td>2.511569e-07</td>\n",
       "      <td>4.812061e-07</td>\n",
       "      <td>2.258283e-06</td>\n",
       "      <td>4.827080e-08</td>\n",
       "      <td>0.000001</td>\n",
       "      <td>2.384241e-07</td>\n",
       "      <td>5.345002e-06</td>\n",
       "      <td>...</td>\n",
       "      <td>9.852550e-06</td>\n",
       "      <td>0.000004</td>\n",
       "      <td>6.402079e-06</td>\n",
       "      <td>1.458465e-08</td>\n",
       "      <td>6.983396e-07</td>\n",
       "      <td>0.000002</td>\n",
       "      <td>0.000004</td>\n",
       "      <td>1.067255e-06</td>\n",
       "      <td>0.000004</td>\n",
       "      <td>0.000035</td>\n",
       "    </tr>\n",
       "    <tr>\n",
       "      <th>2</th>\n",
       "      <td>1.191789e-04</td>\n",
       "      <td>1.543166e-03</td>\n",
       "      <td>5.016750e-04</td>\n",
       "      <td>5.494332e-04</td>\n",
       "      <td>1.478872e-03</td>\n",
       "      <td>6.702818e-04</td>\n",
       "      <td>2.337048e-04</td>\n",
       "      <td>0.000241</td>\n",
       "      <td>9.305143e-05</td>\n",
       "      <td>3.954895e-04</td>\n",
       "      <td>...</td>\n",
       "      <td>5.605357e-04</td>\n",
       "      <td>0.000431</td>\n",
       "      <td>1.631531e-04</td>\n",
       "      <td>6.200447e-05</td>\n",
       "      <td>3.375948e-04</td>\n",
       "      <td>0.000373</td>\n",
       "      <td>0.000118</td>\n",
       "      <td>1.471096e-04</td>\n",
       "      <td>0.000480</td>\n",
       "      <td>0.001219</td>\n",
       "    </tr>\n",
       "    <tr>\n",
       "      <th>3</th>\n",
       "      <td>4.082322e-07</td>\n",
       "      <td>6.750598e-07</td>\n",
       "      <td>5.681961e-07</td>\n",
       "      <td>4.025774e-06</td>\n",
       "      <td>3.143018e-06</td>\n",
       "      <td>3.651271e-06</td>\n",
       "      <td>1.250586e-05</td>\n",
       "      <td>0.000004</td>\n",
       "      <td>4.498328e-06</td>\n",
       "      <td>7.097250e-07</td>\n",
       "      <td>...</td>\n",
       "      <td>2.134363e-06</td>\n",
       "      <td>0.000005</td>\n",
       "      <td>4.505874e-07</td>\n",
       "      <td>1.340546e-05</td>\n",
       "      <td>1.052134e-05</td>\n",
       "      <td>0.000003</td>\n",
       "      <td>0.000065</td>\n",
       "      <td>2.912846e-06</td>\n",
       "      <td>0.000090</td>\n",
       "      <td>0.004610</td>\n",
       "    </tr>\n",
       "    <tr>\n",
       "      <th>4</th>\n",
       "      <td>7.473658e-08</td>\n",
       "      <td>5.709233e-05</td>\n",
       "      <td>1.214775e-06</td>\n",
       "      <td>2.123569e-06</td>\n",
       "      <td>2.062873e-06</td>\n",
       "      <td>2.842061e-06</td>\n",
       "      <td>1.706382e-07</td>\n",
       "      <td>0.000001</td>\n",
       "      <td>1.056008e-06</td>\n",
       "      <td>1.879740e-05</td>\n",
       "      <td>...</td>\n",
       "      <td>3.620785e-05</td>\n",
       "      <td>0.000011</td>\n",
       "      <td>3.839684e-06</td>\n",
       "      <td>9.268224e-08</td>\n",
       "      <td>1.594954e-06</td>\n",
       "      <td>0.000007</td>\n",
       "      <td>0.000006</td>\n",
       "      <td>1.191560e-06</td>\n",
       "      <td>0.000022</td>\n",
       "      <td>0.000062</td>\n",
       "    </tr>\n",
       "  </tbody>\n",
       "</table>\n",
       "<p>5 rows × 1000 columns</p>\n",
       "</div>"
      ],
      "text/plain": [
       "            0             1             2             3             4    \\\n",
       "0  6.301458e-09  5.907184e-06  8.037114e-07  1.626123e-06  1.852689e-07   \n",
       "1  1.135017e-08  1.531346e-05  4.887981e-07  2.511569e-07  4.812061e-07   \n",
       "2  1.191789e-04  1.543166e-03  5.016750e-04  5.494332e-04  1.478872e-03   \n",
       "3  4.082322e-07  6.750598e-07  5.681961e-07  4.025774e-06  3.143018e-06   \n",
       "4  7.473658e-08  5.709233e-05  1.214775e-06  2.123569e-06  2.062873e-06   \n",
       "\n",
       "            5             6         7             8             9      ...     \\\n",
       "0  1.096791e-07  1.542192e-07  0.000006  1.241482e-06  2.855139e-06    ...      \n",
       "1  2.258283e-06  4.827080e-08  0.000001  2.384241e-07  5.345002e-06    ...      \n",
       "2  6.702818e-04  2.337048e-04  0.000241  9.305143e-05  3.954895e-04    ...      \n",
       "3  3.651271e-06  1.250586e-05  0.000004  4.498328e-06  7.097250e-07    ...      \n",
       "4  2.842061e-06  1.706382e-07  0.000001  1.056008e-06  1.879740e-05    ...      \n",
       "\n",
       "            990       991           992           993           994       995  \\\n",
       "0  6.277209e-07  0.000095  1.048783e-06  2.340776e-08  5.418072e-07  0.000005   \n",
       "1  9.852550e-06  0.000004  6.402079e-06  1.458465e-08  6.983396e-07  0.000002   \n",
       "2  5.605357e-04  0.000431  1.631531e-04  6.200447e-05  3.375948e-04  0.000373   \n",
       "3  2.134363e-06  0.000005  4.505874e-07  1.340546e-05  1.052134e-05  0.000003   \n",
       "4  3.620785e-05  0.000011  3.839684e-06  9.268224e-08  1.594954e-06  0.000007   \n",
       "\n",
       "        996           997       998       999  \n",
       "0  0.000008  4.838635e-08  0.000002  0.000073  \n",
       "1  0.000004  1.067255e-06  0.000004  0.000035  \n",
       "2  0.000118  1.471096e-04  0.000480  0.001219  \n",
       "3  0.000065  2.912846e-06  0.000090  0.004610  \n",
       "4  0.000006  1.191560e-06  0.000022  0.000062  \n",
       "\n",
       "[5 rows x 1000 columns]"
      ]
     },
     "execution_count": 79,
     "metadata": {},
     "output_type": "execute_result"
    }
   ],
   "source": [
    "images[:5]"
   ]
  },
  {
   "cell_type": "markdown",
   "metadata": {},
   "source": [
    "### Define model, train"
   ]
  },
  {
   "cell_type": "code",
   "execution_count": 80,
   "metadata": {},
   "outputs": [],
   "source": [
    "from sklearn.linear_model import LogisticRegression\n",
    "from sklearn.metrics import accuracy_score"
   ]
  },
  {
   "cell_type": "code",
   "execution_count": 81,
   "metadata": {},
   "outputs": [
    {
     "name": "stderr",
     "output_type": "stream",
     "text": [
      "C:\\Users\\Mayson\\Anaconda3\\lib\\site-packages\\sklearn\\linear_model\\logistic.py:433: FutureWarning: Default solver will be changed to 'lbfgs' in 0.22. Specify a solver to silence this warning.\n",
      "  FutureWarning)\n"
     ]
    }
   ],
   "source": [
    "lr = LogisticRegression()\n",
    "model = lr.fit(X_train, y_train)"
   ]
  },
  {
   "cell_type": "markdown",
   "metadata": {},
   "source": [
    "### Evaluate"
   ]
  },
  {
   "cell_type": "code",
   "execution_count": 82,
   "metadata": {},
   "outputs": [],
   "source": [
    "y_prediction = model.predict(X_test)"
   ]
  },
  {
   "cell_type": "code",
   "execution_count": 83,
   "metadata": {},
   "outputs": [
    {
     "data": {
      "text/plain": [
       "0.6376811594202898"
      ]
     },
     "execution_count": 83,
     "metadata": {},
     "output_type": "execute_result"
    }
   ],
   "source": [
    "accuracy_score(y_test, y_prediction)"
   ]
  },
  {
   "cell_type": "markdown",
   "metadata": {},
   "source": [
    "## 4.) Try a Different `base_model` \n",
    "\n",
    "* Repeat steps 3 and 4 above, only this time use a [pre-trained model other than VGG19](https://keras.io/applications/)\n",
    "* (Answer in a markdown cell): Which model+layer works the best for this data? Why do you think that is?"
   ]
  },
  {
   "cell_type": "code",
   "execution_count": 95,
   "metadata": {},
   "outputs": [],
   "source": [
    "from keras.applications.xception import Xception\n",
    "from keras.preprocessing import image\n",
    "from keras.applications.xception import preprocess_input"
   ]
  },
  {
   "cell_type": "code",
   "execution_count": 102,
   "metadata": {},
   "outputs": [],
   "source": [
    "base_model = Xception(weights='imagenet')"
   ]
  },
  {
   "cell_type": "code",
   "execution_count": 106,
   "metadata": {},
   "outputs": [
    {
     "name": "stderr",
     "output_type": "stream",
     "text": [
      "C:\\Users\\Mayson\\Anaconda3\\lib\\site-packages\\ipykernel_launcher.py:3: UserWarning: Update your `Model` call to the Keras 2 API: `Model(inputs=Tensor(\"in..., outputs=Tensor(\"bl...)`\n",
      "  This is separate from the ipykernel package so we can avoid doing imports until\n"
     ]
    }
   ],
   "source": [
    "layer = 'block4_pool'\n",
    "\n",
    "model = Model(input=base_model.input, output=base_model.get_layer(layer).output)"
   ]
  },
  {
   "cell_type": "code",
   "execution_count": 107,
   "metadata": {},
   "outputs": [
    {
     "data": {
      "application/vnd.jupyter.widget-view+json": {
       "model_id": "421b7f1a655f45a383b3d9c65c9a3908",
       "version_major": 2,
       "version_minor": 0
      },
      "text/plain": [
       "HBox(children=(IntProgress(value=0, max=183), HTML(value='')))"
      ]
     },
     "metadata": {},
     "output_type": "display_data"
    },
    {
     "name": "stderr",
     "output_type": "stream",
     "text": [
      "C:\\Users\\Mayson\\Anaconda3\\lib\\site-packages\\PIL\\Image.py:952: UserWarning: Palette images with Transparency   expressed in bytes should be converted to RGBA images\n",
      "  ' expressed in bytes should be converted ' +\n"
     ]
    },
    {
     "data": {
      "application/vnd.jupyter.widget-view+json": {
       "model_id": "4eca67ec6e734f049ad2a7e2142c63fc",
       "version_major": 2,
       "version_minor": 0
      },
      "text/plain": [
       "HBox(children=(IntProgress(value=0, max=91), HTML(value='')))"
      ]
     },
     "metadata": {},
     "output_type": "display_data"
    }
   ],
   "source": [
    "pos_images = get_image_features('red') # get positive image vectors\n",
    "neg_images = get_image_features('random') # get negative image vectors"
   ]
  },
  {
   "cell_type": "code",
   "execution_count": 108,
   "metadata": {},
   "outputs": [],
   "source": [
    "pos_images = pd.DataFrame(pos_images)\n",
    "neg_images = pd.DataFrame(neg_images)\n",
    "# Set labels for each set of data\n",
    "pos_images['label'] = 1\n",
    "neg_images['label'] = 0\n",
    "\n",
    "# Combine the data\n",
    "images = pos_images.append(neg_images, ignore_index=True)\n",
    "\n",
    "# Shuffle the data \n",
    "images = images.sample(frac=1).reset_index(drop=True)\n",
    "\n",
    "# Drop the labels\n",
    "y = images['label']\n",
    "images.drop(columns=[\"label\"], inplace=True)\n",
    "\n",
    "#split into train and test\n",
    "X_train, X_test, y_train, y_test = train_test_split(images, y)"
   ]
  },
  {
   "cell_type": "code",
   "execution_count": 109,
   "metadata": {},
   "outputs": [
    {
     "name": "stderr",
     "output_type": "stream",
     "text": [
      "C:\\Users\\Mayson\\Anaconda3\\lib\\site-packages\\sklearn\\linear_model\\logistic.py:433: FutureWarning: Default solver will be changed to 'lbfgs' in 0.22. Specify a solver to silence this warning.\n",
      "  FutureWarning)\n"
     ]
    }
   ],
   "source": [
    "lr2 = LogisticRegression()\n",
    "model = lr2.fit(X_train, y_train)"
   ]
  },
  {
   "cell_type": "code",
   "execution_count": 111,
   "metadata": {},
   "outputs": [],
   "source": [
    "y_prediction2 = model.predict(X_test)"
   ]
  },
  {
   "cell_type": "code",
   "execution_count": 112,
   "metadata": {},
   "outputs": [
    {
     "data": {
      "text/plain": [
       "0.8405797101449275"
      ]
     },
     "execution_count": 112,
     "metadata": {},
     "output_type": "execute_result"
    }
   ],
   "source": [
    "accuracy_score(y_test, y_prediction2)"
   ]
  },
  {
   "cell_type": "markdown",
   "metadata": {},
   "source": [
    "The block4_pool layer worked better for me than the predictions layer. I believe that is because earlier layers are more generic than later layers"
   ]
  },
  {
   "cell_type": "code",
   "execution_count": 113,
   "metadata": {},
   "outputs": [
    {
     "name": "stdout",
     "output_type": "stream",
     "text": [
      "=====================================================================\n",
      "Assignment: A7 Transfer Learning\n",
      "OK, version v1.13.11\n",
      "=====================================================================\n",
      "\n"
     ]
    },
    {
     "name": "stderr",
     "output_type": "stream",
     "text": [
      "ERROR  | auth.py:91 | {'error': 'invalid_grant'}\n"
     ]
    },
    {
     "name": "stdout",
     "output_type": "stream",
     "text": [
      "\n",
      "Open the following URL:\n",
      "\n",
      "https://okpy.org/client/login/\n",
      "\n",
      "After logging in, copy the code from the web page and paste it into the box.\n",
      "Then press the \"Enter\" key on your keyboard.\n",
      "\n",
      "Paste your code here: bYZYyUQk1Q3uxRkuacqSC3PGM8VHPT\n",
      "Successfully logged in as MaysonGreen@u.boisestate.edu\n"
     ]
    }
   ],
   "source": [
    "from client.api.notebook import Notebook\n",
    "ok = Notebook('a7.ok')\n",
    "ok.auth(inline=True)"
   ]
  },
  {
   "cell_type": "code",
   "execution_count": 114,
   "metadata": {},
   "outputs": [
    {
     "data": {
      "application/javascript": [
       "IPython.notebook.save_checkpoint();"
      ],
      "text/plain": [
       "<IPython.core.display.Javascript object>"
      ]
     },
     "metadata": {},
     "output_type": "display_data"
    },
    {
     "data": {
      "application/javascript": [
       "IPython.notebook.save_notebook();"
      ],
      "text/plain": [
       "<IPython.core.display.Javascript object>"
      ]
     },
     "metadata": {},
     "output_type": "display_data"
    },
    {
     "name": "stdout",
     "output_type": "stream",
     "text": [
      "Saving notebook... Saved 'A7-transfer-learning.ipynb'.\n",
      "Submit... 100% complete\n",
      "Submission successful for user: MaysonGreen@u.boisestate.edu\n",
      "URL: https://okpy.org/boisestate/cs4-533/sp19/a7/submissions/k8MzgE\n",
      "\n"
     ]
    }
   ],
   "source": [
    "ok.submit()"
   ]
  },
  {
   "cell_type": "code",
   "execution_count": null,
   "metadata": {},
   "outputs": [],
   "source": []
  }
 ],
 "metadata": {
  "kernelspec": {
   "display_name": "Python 3",
   "language": "python",
   "name": "python3"
  },
  "language_info": {
   "codemirror_mode": {
    "name": "ipython",
    "version": 3
   },
   "file_extension": ".py",
   "mimetype": "text/x-python",
   "name": "python",
   "nbconvert_exporter": "python",
   "pygments_lexer": "ipython3",
   "version": "3.6.8"
  }
 },
 "nbformat": 4,
 "nbformat_minor": 2
}
