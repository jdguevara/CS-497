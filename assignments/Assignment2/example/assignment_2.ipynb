{
 "cells": [
  {
   "cell_type": "markdown",
   "metadata": {},
   "source": [
    "# Assignment 2: Predicting house prices\n",
    "\n",
    "You are a data scientist consulting with a local high-end real estate agency that wants you to build a model to help them price their homes in the Boston area. After clarifying their objectives with them and meeting with a few market experts, they have provided you a dataset that you both think is relevant that contains the actual sale price for homes with various different features. \n",
    "\n",
    "You have agreed that your goal will be to the acutal sale price based on the past data. From this the company plans to build a tool that will show agents a first-take of what they can price a house at to sell it. \n",
    "\n"
   ]
  },
  {
   "cell_type": "code",
   "execution_count": 1,
   "metadata": {},
   "outputs": [],
   "source": [
    "import pandas as pd\n",
    "import numpy as np\n",
    "import matplotlib.pyplot as plt\n",
    "import sklearn"
   ]
  },
  {
   "cell_type": "code",
   "execution_count": 2,
   "metadata": {},
   "outputs": [],
   "source": [
    "housing_data = pd.read_csv(\"housing_data.csv\")"
   ]
  },
  {
   "cell_type": "markdown",
   "metadata": {},
   "source": [
    "When getting any new dataset, it is a good idea to do some **exploratory data analysis** before jumping into any kind of modelling. This serves several purposes:\n",
    "\n",
    "1. **It allows you to build an intuition for what kind of data you have**, which you will need later in a project at several steps: as you are engineering new features, as you are troubleshooting model performance, and as you are determining what additional data you might need. \n",
    "\n",
    "2. **Taking a 'sanity check' first often enables you to catch data errors that might have occurred 'upstream' of where you are on the data pipeline**. For instance, someone may have entered data incorrectly, a schema might have gotten messed up somewhere and columns mismapped, or there could be a bug in an upstream pipeline that populates a database table that you are using. It can save weeks of time to identify this type of issue up front. \n",
    "\n",
    "3. **Even if data is not wrong, it may need to be cleaned**. This itself has several components, there will be NA data points that you must deal with either by eliminating them from the dataset, imputing an assumed value (for instance the median of all points in your data) or setting to zero. Depending on what model you use, outlier points may also have an outsized impact on your algorithm and it may be a good idea to do some kind of 'winsorization' by capping them at something like the 98th or 2nd percentile of all points within the data set, or in some cases elmiinating them entirely from the dataset. \n",
    "\n",
    "4. **Even clean data will need to be prepared for modelling steps**. For instance categorical data should be mapped to numerical values and data will also need to be re-scaled. \n",
    "\n"
   ]
  },
  {
   "cell_type": "code",
   "execution_count": 3,
   "metadata": {},
   "outputs": [
    {
     "data": {
      "text/plain": [
       "(1460, 14)"
      ]
     },
     "execution_count": 3,
     "metadata": {},
     "output_type": "execute_result"
    }
   ],
   "source": [
    "#Let's start by looking at how much data we have. Use the shape command to return the data size\n",
    "housing_data.shape"
   ]
  },
  {
   "cell_type": "markdown",
   "metadata": {},
   "source": [
    "How many examples do you have?\n",
    "How many features does the data have?"
   ]
  },
  {
   "cell_type": "code",
   "execution_count": 4,
   "metadata": {},
   "outputs": [
    {
     "data": {
      "text/plain": [
       "Unnamed: 0       int64\n",
       "MSZoning        object\n",
       "GrLivArea        int64\n",
       "YrSold           int64\n",
       "YearBuilt        int64\n",
       "SalePrice        int64\n",
       "LotArea          int64\n",
       "FullBath         int64\n",
       "BedroomAbvGr     int64\n",
       "TotRmsAbvGrd     int64\n",
       "GarageCars       int64\n",
       "GarageFinish    object\n",
       "1stFlrSF         int64\n",
       "2ndFlrSF         int64\n",
       "dtype: object"
      ]
     },
     "execution_count": 4,
     "metadata": {},
     "output_type": "execute_result"
    }
   ],
   "source": [
    "#Let's look at the data types of all columns using dtypes\n",
    "housing_data.dtypes"
   ]
  },
  {
   "cell_type": "markdown",
   "metadata": {},
   "source": [
    "We have a couple categorical columns we'll have to encode. Let's come back to that and first use describe to get a feel for our numerical data. "
   ]
  },
  {
   "cell_type": "code",
   "execution_count": 5,
   "metadata": {},
   "outputs": [
    {
     "data": {
      "text/html": [
       "<div>\n",
       "<style scoped>\n",
       "    .dataframe tbody tr th:only-of-type {\n",
       "        vertical-align: middle;\n",
       "    }\n",
       "\n",
       "    .dataframe tbody tr th {\n",
       "        vertical-align: top;\n",
       "    }\n",
       "\n",
       "    .dataframe thead th {\n",
       "        text-align: right;\n",
       "    }\n",
       "</style>\n",
       "<table border=\"1\" class=\"dataframe\">\n",
       "  <thead>\n",
       "    <tr style=\"text-align: right;\">\n",
       "      <th></th>\n",
       "      <th>Unnamed: 0</th>\n",
       "      <th>GrLivArea</th>\n",
       "      <th>YrSold</th>\n",
       "      <th>YearBuilt</th>\n",
       "      <th>SalePrice</th>\n",
       "      <th>LotArea</th>\n",
       "      <th>FullBath</th>\n",
       "      <th>BedroomAbvGr</th>\n",
       "      <th>TotRmsAbvGrd</th>\n",
       "      <th>GarageCars</th>\n",
       "      <th>1stFlrSF</th>\n",
       "      <th>2ndFlrSF</th>\n",
       "    </tr>\n",
       "  </thead>\n",
       "  <tbody>\n",
       "    <tr>\n",
       "      <th>count</th>\n",
       "      <td>1460.000000</td>\n",
       "      <td>1460.000000</td>\n",
       "      <td>1460.000000</td>\n",
       "      <td>1460.000000</td>\n",
       "      <td>1460.000000</td>\n",
       "      <td>1460.000000</td>\n",
       "      <td>1460.000000</td>\n",
       "      <td>1460.000000</td>\n",
       "      <td>1460.000000</td>\n",
       "      <td>1460.000000</td>\n",
       "      <td>1460.000000</td>\n",
       "      <td>1460.000000</td>\n",
       "    </tr>\n",
       "    <tr>\n",
       "      <th>mean</th>\n",
       "      <td>729.500000</td>\n",
       "      <td>1515.463699</td>\n",
       "      <td>2007.815753</td>\n",
       "      <td>1971.267808</td>\n",
       "      <td>180921.195890</td>\n",
       "      <td>10516.828082</td>\n",
       "      <td>1.565068</td>\n",
       "      <td>2.866438</td>\n",
       "      <td>6.517808</td>\n",
       "      <td>1.767123</td>\n",
       "      <td>1162.626712</td>\n",
       "      <td>346.992466</td>\n",
       "    </tr>\n",
       "    <tr>\n",
       "      <th>std</th>\n",
       "      <td>421.610009</td>\n",
       "      <td>525.480383</td>\n",
       "      <td>1.328095</td>\n",
       "      <td>30.202904</td>\n",
       "      <td>79442.502883</td>\n",
       "      <td>9981.264932</td>\n",
       "      <td>0.550916</td>\n",
       "      <td>0.815778</td>\n",
       "      <td>1.625393</td>\n",
       "      <td>0.747315</td>\n",
       "      <td>386.587738</td>\n",
       "      <td>436.528436</td>\n",
       "    </tr>\n",
       "    <tr>\n",
       "      <th>min</th>\n",
       "      <td>0.000000</td>\n",
       "      <td>334.000000</td>\n",
       "      <td>2006.000000</td>\n",
       "      <td>1872.000000</td>\n",
       "      <td>34900.000000</td>\n",
       "      <td>1300.000000</td>\n",
       "      <td>0.000000</td>\n",
       "      <td>0.000000</td>\n",
       "      <td>2.000000</td>\n",
       "      <td>0.000000</td>\n",
       "      <td>334.000000</td>\n",
       "      <td>0.000000</td>\n",
       "    </tr>\n",
       "    <tr>\n",
       "      <th>25%</th>\n",
       "      <td>364.750000</td>\n",
       "      <td>1129.500000</td>\n",
       "      <td>2007.000000</td>\n",
       "      <td>1954.000000</td>\n",
       "      <td>129975.000000</td>\n",
       "      <td>7553.500000</td>\n",
       "      <td>1.000000</td>\n",
       "      <td>2.000000</td>\n",
       "      <td>5.000000</td>\n",
       "      <td>1.000000</td>\n",
       "      <td>882.000000</td>\n",
       "      <td>0.000000</td>\n",
       "    </tr>\n",
       "    <tr>\n",
       "      <th>50%</th>\n",
       "      <td>729.500000</td>\n",
       "      <td>1464.000000</td>\n",
       "      <td>2008.000000</td>\n",
       "      <td>1973.000000</td>\n",
       "      <td>163000.000000</td>\n",
       "      <td>9478.500000</td>\n",
       "      <td>2.000000</td>\n",
       "      <td>3.000000</td>\n",
       "      <td>6.000000</td>\n",
       "      <td>2.000000</td>\n",
       "      <td>1087.000000</td>\n",
       "      <td>0.000000</td>\n",
       "    </tr>\n",
       "    <tr>\n",
       "      <th>75%</th>\n",
       "      <td>1094.250000</td>\n",
       "      <td>1776.750000</td>\n",
       "      <td>2009.000000</td>\n",
       "      <td>2000.000000</td>\n",
       "      <td>214000.000000</td>\n",
       "      <td>11601.500000</td>\n",
       "      <td>2.000000</td>\n",
       "      <td>3.000000</td>\n",
       "      <td>7.000000</td>\n",
       "      <td>2.000000</td>\n",
       "      <td>1391.250000</td>\n",
       "      <td>728.000000</td>\n",
       "    </tr>\n",
       "    <tr>\n",
       "      <th>max</th>\n",
       "      <td>1459.000000</td>\n",
       "      <td>5642.000000</td>\n",
       "      <td>2010.000000</td>\n",
       "      <td>2010.000000</td>\n",
       "      <td>755000.000000</td>\n",
       "      <td>215245.000000</td>\n",
       "      <td>3.000000</td>\n",
       "      <td>8.000000</td>\n",
       "      <td>14.000000</td>\n",
       "      <td>4.000000</td>\n",
       "      <td>4692.000000</td>\n",
       "      <td>2065.000000</td>\n",
       "    </tr>\n",
       "  </tbody>\n",
       "</table>\n",
       "</div>"
      ],
      "text/plain": [
       "        Unnamed: 0    GrLivArea       YrSold    YearBuilt      SalePrice  \\\n",
       "count  1460.000000  1460.000000  1460.000000  1460.000000    1460.000000   \n",
       "mean    729.500000  1515.463699  2007.815753  1971.267808  180921.195890   \n",
       "std     421.610009   525.480383     1.328095    30.202904   79442.502883   \n",
       "min       0.000000   334.000000  2006.000000  1872.000000   34900.000000   \n",
       "25%     364.750000  1129.500000  2007.000000  1954.000000  129975.000000   \n",
       "50%     729.500000  1464.000000  2008.000000  1973.000000  163000.000000   \n",
       "75%    1094.250000  1776.750000  2009.000000  2000.000000  214000.000000   \n",
       "max    1459.000000  5642.000000  2010.000000  2010.000000  755000.000000   \n",
       "\n",
       "             LotArea     FullBath  BedroomAbvGr  TotRmsAbvGrd   GarageCars  \\\n",
       "count    1460.000000  1460.000000   1460.000000   1460.000000  1460.000000   \n",
       "mean    10516.828082     1.565068      2.866438      6.517808     1.767123   \n",
       "std      9981.264932     0.550916      0.815778      1.625393     0.747315   \n",
       "min      1300.000000     0.000000      0.000000      2.000000     0.000000   \n",
       "25%      7553.500000     1.000000      2.000000      5.000000     1.000000   \n",
       "50%      9478.500000     2.000000      3.000000      6.000000     2.000000   \n",
       "75%     11601.500000     2.000000      3.000000      7.000000     2.000000   \n",
       "max    215245.000000     3.000000      8.000000     14.000000     4.000000   \n",
       "\n",
       "          1stFlrSF     2ndFlrSF  \n",
       "count  1460.000000  1460.000000  \n",
       "mean   1162.626712   346.992466  \n",
       "std     386.587738   436.528436  \n",
       "min     334.000000     0.000000  \n",
       "25%     882.000000     0.000000  \n",
       "50%    1087.000000     0.000000  \n",
       "75%    1391.250000   728.000000  \n",
       "max    4692.000000  2065.000000  "
      ]
     },
     "execution_count": 5,
     "metadata": {},
     "output_type": "execute_result"
    }
   ],
   "source": [
    "#Use the describe command to glance at the values of all numerical columns and see if they look okay\n",
    "housing_data.describe()"
   ]
  },
  {
   "cell_type": "markdown",
   "metadata": {},
   "source": [
    "From this, we see that NAs will not be too much of a problem with this dataset, likely because it has already been cleaned by someone else. \n",
    "\n",
    "Still, it's worth digging in and taking a look. A good thing to do is often to just take a peek at a snippet of data. Pull up rows 150 to 165 below using the iloc indexing functionality\n",
    "\n",
    "\n"
   ]
  },
  {
   "cell_type": "code",
   "execution_count": 6,
   "metadata": {
    "scrolled": true
   },
   "outputs": [
    {
     "data": {
      "text/html": [
       "<div>\n",
       "<style scoped>\n",
       "    .dataframe tbody tr th:only-of-type {\n",
       "        vertical-align: middle;\n",
       "    }\n",
       "\n",
       "    .dataframe tbody tr th {\n",
       "        vertical-align: top;\n",
       "    }\n",
       "\n",
       "    .dataframe thead th {\n",
       "        text-align: right;\n",
       "    }\n",
       "</style>\n",
       "<table border=\"1\" class=\"dataframe\">\n",
       "  <thead>\n",
       "    <tr style=\"text-align: right;\">\n",
       "      <th></th>\n",
       "      <th>Unnamed: 0</th>\n",
       "      <th>MSZoning</th>\n",
       "      <th>GrLivArea</th>\n",
       "      <th>YrSold</th>\n",
       "      <th>YearBuilt</th>\n",
       "      <th>SalePrice</th>\n",
       "      <th>LotArea</th>\n",
       "      <th>FullBath</th>\n",
       "      <th>BedroomAbvGr</th>\n",
       "      <th>TotRmsAbvGrd</th>\n",
       "      <th>GarageCars</th>\n",
       "      <th>GarageFinish</th>\n",
       "      <th>1stFlrSF</th>\n",
       "      <th>2ndFlrSF</th>\n",
       "    </tr>\n",
       "  </thead>\n",
       "  <tbody>\n",
       "    <tr>\n",
       "      <th>150</th>\n",
       "      <td>150</td>\n",
       "      <td>RL</td>\n",
       "      <td>969</td>\n",
       "      <td>2007</td>\n",
       "      <td>1975</td>\n",
       "      <td>122000</td>\n",
       "      <td>10356</td>\n",
       "      <td>1</td>\n",
       "      <td>3</td>\n",
       "      <td>5</td>\n",
       "      <td>2</td>\n",
       "      <td>Unf</td>\n",
       "      <td>969</td>\n",
       "      <td>0</td>\n",
       "    </tr>\n",
       "    <tr>\n",
       "      <th>151</th>\n",
       "      <td>151</td>\n",
       "      <td>RL</td>\n",
       "      <td>1710</td>\n",
       "      <td>2008</td>\n",
       "      <td>2007</td>\n",
       "      <td>372402</td>\n",
       "      <td>13891</td>\n",
       "      <td>2</td>\n",
       "      <td>2</td>\n",
       "      <td>6</td>\n",
       "      <td>3</td>\n",
       "      <td>RFn</td>\n",
       "      <td>1710</td>\n",
       "      <td>0</td>\n",
       "    </tr>\n",
       "    <tr>\n",
       "      <th>152</th>\n",
       "      <td>152</td>\n",
       "      <td>RL</td>\n",
       "      <td>1993</td>\n",
       "      <td>2006</td>\n",
       "      <td>1971</td>\n",
       "      <td>190000</td>\n",
       "      <td>14803</td>\n",
       "      <td>2</td>\n",
       "      <td>4</td>\n",
       "      <td>8</td>\n",
       "      <td>2</td>\n",
       "      <td>RFn</td>\n",
       "      <td>1097</td>\n",
       "      <td>896</td>\n",
       "    </tr>\n",
       "    <tr>\n",
       "      <th>153</th>\n",
       "      <td>153</td>\n",
       "      <td>RL</td>\n",
       "      <td>1252</td>\n",
       "      <td>2008</td>\n",
       "      <td>1960</td>\n",
       "      <td>235000</td>\n",
       "      <td>13500</td>\n",
       "      <td>1</td>\n",
       "      <td>1</td>\n",
       "      <td>4</td>\n",
       "      <td>2</td>\n",
       "      <td>RFn</td>\n",
       "      <td>1252</td>\n",
       "      <td>0</td>\n",
       "    </tr>\n",
       "    <tr>\n",
       "      <th>154</th>\n",
       "      <td>154</td>\n",
       "      <td>RM</td>\n",
       "      <td>1200</td>\n",
       "      <td>2006</td>\n",
       "      <td>1923</td>\n",
       "      <td>125000</td>\n",
       "      <td>11340</td>\n",
       "      <td>1</td>\n",
       "      <td>4</td>\n",
       "      <td>7</td>\n",
       "      <td>1</td>\n",
       "      <td>Unf</td>\n",
       "      <td>1200</td>\n",
       "      <td>0</td>\n",
       "    </tr>\n",
       "    <tr>\n",
       "      <th>155</th>\n",
       "      <td>155</td>\n",
       "      <td>RL</td>\n",
       "      <td>1096</td>\n",
       "      <td>2008</td>\n",
       "      <td>1924</td>\n",
       "      <td>79000</td>\n",
       "      <td>9600</td>\n",
       "      <td>1</td>\n",
       "      <td>2</td>\n",
       "      <td>5</td>\n",
       "      <td>0</td>\n",
       "      <td>NaN</td>\n",
       "      <td>572</td>\n",
       "      <td>524</td>\n",
       "    </tr>\n",
       "    <tr>\n",
       "      <th>156</th>\n",
       "      <td>156</td>\n",
       "      <td>RL</td>\n",
       "      <td>1040</td>\n",
       "      <td>2006</td>\n",
       "      <td>1950</td>\n",
       "      <td>109500</td>\n",
       "      <td>7200</td>\n",
       "      <td>1</td>\n",
       "      <td>2</td>\n",
       "      <td>5</td>\n",
       "      <td>2</td>\n",
       "      <td>Unf</td>\n",
       "      <td>1040</td>\n",
       "      <td>0</td>\n",
       "    </tr>\n",
       "    <tr>\n",
       "      <th>157</th>\n",
       "      <td>157</td>\n",
       "      <td>RL</td>\n",
       "      <td>1968</td>\n",
       "      <td>2010</td>\n",
       "      <td>2009</td>\n",
       "      <td>269500</td>\n",
       "      <td>12003</td>\n",
       "      <td>2</td>\n",
       "      <td>4</td>\n",
       "      <td>8</td>\n",
       "      <td>3</td>\n",
       "      <td>Fin</td>\n",
       "      <td>774</td>\n",
       "      <td>1194</td>\n",
       "    </tr>\n",
       "    <tr>\n",
       "      <th>158</th>\n",
       "      <td>158</td>\n",
       "      <td>FV</td>\n",
       "      <td>1947</td>\n",
       "      <td>2010</td>\n",
       "      <td>2004</td>\n",
       "      <td>254900</td>\n",
       "      <td>12552</td>\n",
       "      <td>2</td>\n",
       "      <td>3</td>\n",
       "      <td>8</td>\n",
       "      <td>2</td>\n",
       "      <td>RFn</td>\n",
       "      <td>991</td>\n",
       "      <td>956</td>\n",
       "    </tr>\n",
       "    <tr>\n",
       "      <th>159</th>\n",
       "      <td>159</td>\n",
       "      <td>RL</td>\n",
       "      <td>2462</td>\n",
       "      <td>2006</td>\n",
       "      <td>2005</td>\n",
       "      <td>320000</td>\n",
       "      <td>19378</td>\n",
       "      <td>2</td>\n",
       "      <td>4</td>\n",
       "      <td>9</td>\n",
       "      <td>2</td>\n",
       "      <td>RFn</td>\n",
       "      <td>1392</td>\n",
       "      <td>1070</td>\n",
       "    </tr>\n",
       "    <tr>\n",
       "      <th>160</th>\n",
       "      <td>160</td>\n",
       "      <td>RL</td>\n",
       "      <td>1232</td>\n",
       "      <td>2008</td>\n",
       "      <td>1984</td>\n",
       "      <td>162500</td>\n",
       "      <td>11120</td>\n",
       "      <td>2</td>\n",
       "      <td>3</td>\n",
       "      <td>6</td>\n",
       "      <td>2</td>\n",
       "      <td>Unf</td>\n",
       "      <td>1232</td>\n",
       "      <td>0</td>\n",
       "    </tr>\n",
       "    <tr>\n",
       "      <th>161</th>\n",
       "      <td>161</td>\n",
       "      <td>RL</td>\n",
       "      <td>2668</td>\n",
       "      <td>2008</td>\n",
       "      <td>2003</td>\n",
       "      <td>412500</td>\n",
       "      <td>13688</td>\n",
       "      <td>2</td>\n",
       "      <td>3</td>\n",
       "      <td>10</td>\n",
       "      <td>3</td>\n",
       "      <td>Fin</td>\n",
       "      <td>1572</td>\n",
       "      <td>1096</td>\n",
       "    </tr>\n",
       "    <tr>\n",
       "      <th>162</th>\n",
       "      <td>162</td>\n",
       "      <td>RL</td>\n",
       "      <td>1541</td>\n",
       "      <td>2010</td>\n",
       "      <td>2005</td>\n",
       "      <td>220000</td>\n",
       "      <td>12182</td>\n",
       "      <td>2</td>\n",
       "      <td>3</td>\n",
       "      <td>7</td>\n",
       "      <td>2</td>\n",
       "      <td>RFn</td>\n",
       "      <td>1541</td>\n",
       "      <td>0</td>\n",
       "    </tr>\n",
       "    <tr>\n",
       "      <th>163</th>\n",
       "      <td>163</td>\n",
       "      <td>RL</td>\n",
       "      <td>882</td>\n",
       "      <td>2007</td>\n",
       "      <td>1956</td>\n",
       "      <td>103200</td>\n",
       "      <td>5500</td>\n",
       "      <td>1</td>\n",
       "      <td>1</td>\n",
       "      <td>4</td>\n",
       "      <td>0</td>\n",
       "      <td>NaN</td>\n",
       "      <td>882</td>\n",
       "      <td>0</td>\n",
       "    </tr>\n",
       "    <tr>\n",
       "      <th>164</th>\n",
       "      <td>164</td>\n",
       "      <td>RM</td>\n",
       "      <td>1616</td>\n",
       "      <td>2007</td>\n",
       "      <td>1926</td>\n",
       "      <td>152000</td>\n",
       "      <td>5400</td>\n",
       "      <td>2</td>\n",
       "      <td>3</td>\n",
       "      <td>5</td>\n",
       "      <td>1</td>\n",
       "      <td>Unf</td>\n",
       "      <td>1149</td>\n",
       "      <td>467</td>\n",
       "    </tr>\n",
       "    <tr>\n",
       "      <th>165</th>\n",
       "      <td>165</td>\n",
       "      <td>RL</td>\n",
       "      <td>1355</td>\n",
       "      <td>2008</td>\n",
       "      <td>1940</td>\n",
       "      <td>127500</td>\n",
       "      <td>10106</td>\n",
       "      <td>2</td>\n",
       "      <td>4</td>\n",
       "      <td>6</td>\n",
       "      <td>0</td>\n",
       "      <td>NaN</td>\n",
       "      <td>808</td>\n",
       "      <td>547</td>\n",
       "    </tr>\n",
       "  </tbody>\n",
       "</table>\n",
       "</div>"
      ],
      "text/plain": [
       "     Unnamed: 0 MSZoning  GrLivArea  YrSold  YearBuilt  SalePrice  LotArea  \\\n",
       "150         150       RL        969    2007       1975     122000    10356   \n",
       "151         151       RL       1710    2008       2007     372402    13891   \n",
       "152         152       RL       1993    2006       1971     190000    14803   \n",
       "153         153       RL       1252    2008       1960     235000    13500   \n",
       "154         154       RM       1200    2006       1923     125000    11340   \n",
       "155         155       RL       1096    2008       1924      79000     9600   \n",
       "156         156       RL       1040    2006       1950     109500     7200   \n",
       "157         157       RL       1968    2010       2009     269500    12003   \n",
       "158         158       FV       1947    2010       2004     254900    12552   \n",
       "159         159       RL       2462    2006       2005     320000    19378   \n",
       "160         160       RL       1232    2008       1984     162500    11120   \n",
       "161         161       RL       2668    2008       2003     412500    13688   \n",
       "162         162       RL       1541    2010       2005     220000    12182   \n",
       "163         163       RL        882    2007       1956     103200     5500   \n",
       "164         164       RM       1616    2007       1926     152000     5400   \n",
       "165         165       RL       1355    2008       1940     127500    10106   \n",
       "\n",
       "     FullBath  BedroomAbvGr  TotRmsAbvGrd  GarageCars GarageFinish  1stFlrSF  \\\n",
       "150         1             3             5           2          Unf       969   \n",
       "151         2             2             6           3          RFn      1710   \n",
       "152         2             4             8           2          RFn      1097   \n",
       "153         1             1             4           2          RFn      1252   \n",
       "154         1             4             7           1          Unf      1200   \n",
       "155         1             2             5           0          NaN       572   \n",
       "156         1             2             5           2          Unf      1040   \n",
       "157         2             4             8           3          Fin       774   \n",
       "158         2             3             8           2          RFn       991   \n",
       "159         2             4             9           2          RFn      1392   \n",
       "160         2             3             6           2          Unf      1232   \n",
       "161         2             3            10           3          Fin      1572   \n",
       "162         2             3             7           2          RFn      1541   \n",
       "163         1             1             4           0          NaN       882   \n",
       "164         2             3             5           1          Unf      1149   \n",
       "165         2             4             6           0          NaN       808   \n",
       "\n",
       "     2ndFlrSF  \n",
       "150         0  \n",
       "151         0  \n",
       "152       896  \n",
       "153         0  \n",
       "154         0  \n",
       "155       524  \n",
       "156         0  \n",
       "157      1194  \n",
       "158       956  \n",
       "159      1070  \n",
       "160         0  \n",
       "161      1096  \n",
       "162         0  \n",
       "163         0  \n",
       "164       467  \n",
       "165       547  "
      ]
     },
     "execution_count": 6,
     "metadata": {},
     "output_type": "execute_result"
    }
   ],
   "source": [
    "## Your code here\n",
    "housing_data.iloc[150:166]"
   ]
  },
  {
   "cell_type": "markdown",
   "metadata": {},
   "source": [
    "Based on intuition, GrLivArea is likely to have the largest impact on price. Let's make a plot of GrLivArea vs. sale price and see what kind of trend the data shows"
   ]
  },
  {
   "cell_type": "code",
   "execution_count": 7,
   "metadata": {},
   "outputs": [
    {
     "name": "stderr",
     "output_type": "stream",
     "text": [
      "/Users/jguevara/miniconda3/lib/python3.6/site-packages/matplotlib/figure.py:2267: UserWarning: This figure includes Axes that are not compatible with tight_layout, so results might be incorrect.\n",
      "  warnings.warn(\"This figure includes Axes that are not compatible \"\n"
     ]
    },
    {
     "data": {
      "image/png": "[encoded data removed]",
      "text/plain": [
       "<Figure size 504x432 with 1 Axes>"
      ]
     },
     "metadata": {},
     "output_type": "display_data"
    }
   ],
   "source": [
    "#Use plt.scatter to plot sale price vs. GrLivArea\n",
    "plt.figure(figsize=(7,6))\n",
    "GrLivArea = housing_data['GrLivArea']\n",
    "SalePrice = housing_data['SalePrice']\n",
    "plt.scatter(SalePrice, GrLivArea)\n",
    "plt.xlabel(\"Sale Price (\\$)\",fontsize=18)\n",
    "plt.ylabel(\"GrLivArea\", fontsize=18)\n",
    "plt.show()"
   ]
  },
  {
   "cell_type": "markdown",
   "metadata": {},
   "source": [
    "From the plot above, it looks like there are two outliers with very large living areas but comparitvely low square feet. These could drive large errors in algorithms like linear regression and thus need to be dealt with. From talking to business stakeholders, our algorithm is not likely to be applied to homes larger than 4000 feet as these tend to be highly 'custom sales' anyway. Given this, we will eliminate all points of greater than 4000 square feet from the dataset. You may have to read about pandas slicing and selection to complete this. "
   ]
  },
  {
   "cell_type": "code",
   "execution_count": 8,
   "metadata": {},
   "outputs": [
    {
     "data": {
      "text/html": [
       "<div>\n",
       "<style scoped>\n",
       "    .dataframe tbody tr th:only-of-type {\n",
       "        vertical-align: middle;\n",
       "    }\n",
       "\n",
       "    .dataframe tbody tr th {\n",
       "        vertical-align: top;\n",
       "    }\n",
       "\n",
       "    .dataframe thead th {\n",
       "        text-align: right;\n",
       "    }\n",
       "</style>\n",
       "<table border=\"1\" class=\"dataframe\">\n",
       "  <thead>\n",
       "    <tr style=\"text-align: right;\">\n",
       "      <th></th>\n",
       "      <th>Unnamed: 0</th>\n",
       "      <th>GrLivArea</th>\n",
       "      <th>YrSold</th>\n",
       "      <th>YearBuilt</th>\n",
       "      <th>SalePrice</th>\n",
       "      <th>LotArea</th>\n",
       "      <th>FullBath</th>\n",
       "      <th>BedroomAbvGr</th>\n",
       "      <th>TotRmsAbvGrd</th>\n",
       "      <th>GarageCars</th>\n",
       "      <th>1stFlrSF</th>\n",
       "      <th>2ndFlrSF</th>\n",
       "    </tr>\n",
       "  </thead>\n",
       "  <tbody>\n",
       "    <tr>\n",
       "      <th>count</th>\n",
       "      <td>1456.000000</td>\n",
       "      <td>1456.000000</td>\n",
       "      <td>1456.000000</td>\n",
       "      <td>1456.00000</td>\n",
       "      <td>1456.000000</td>\n",
       "      <td>1456.000000</td>\n",
       "      <td>1456.000000</td>\n",
       "      <td>1456.000000</td>\n",
       "      <td>1456.000000</td>\n",
       "      <td>1456.000000</td>\n",
       "      <td>1456.000000</td>\n",
       "      <td>1456.000000</td>\n",
       "    </tr>\n",
       "    <tr>\n",
       "      <th>mean</th>\n",
       "      <td>728.967033</td>\n",
       "      <td>1506.502060</td>\n",
       "      <td>2007.817308</td>\n",
       "      <td>1971.18544</td>\n",
       "      <td>180151.233516</td>\n",
       "      <td>10448.784341</td>\n",
       "      <td>1.561813</td>\n",
       "      <td>2.864698</td>\n",
       "      <td>6.506181</td>\n",
       "      <td>1.764423</td>\n",
       "      <td>1157.108516</td>\n",
       "      <td>343.532967</td>\n",
       "    </tr>\n",
       "    <tr>\n",
       "      <th>std</th>\n",
       "      <td>421.722909</td>\n",
       "      <td>496.815378</td>\n",
       "      <td>1.329394</td>\n",
       "      <td>30.20159</td>\n",
       "      <td>76696.592530</td>\n",
       "      <td>9860.763449</td>\n",
       "      <td>0.547683</td>\n",
       "      <td>0.815800</td>\n",
       "      <td>1.611800</td>\n",
       "      <td>0.746215</td>\n",
       "      <td>369.307331</td>\n",
       "      <td>431.528915</td>\n",
       "    </tr>\n",
       "    <tr>\n",
       "      <th>min</th>\n",
       "      <td>0.000000</td>\n",
       "      <td>334.000000</td>\n",
       "      <td>2006.000000</td>\n",
       "      <td>1872.00000</td>\n",
       "      <td>34900.000000</td>\n",
       "      <td>1300.000000</td>\n",
       "      <td>0.000000</td>\n",
       "      <td>0.000000</td>\n",
       "      <td>2.000000</td>\n",
       "      <td>0.000000</td>\n",
       "      <td>334.000000</td>\n",
       "      <td>0.000000</td>\n",
       "    </tr>\n",
       "    <tr>\n",
       "      <th>25%</th>\n",
       "      <td>363.750000</td>\n",
       "      <td>1128.000000</td>\n",
       "      <td>2007.000000</td>\n",
       "      <td>1954.00000</td>\n",
       "      <td>129900.000000</td>\n",
       "      <td>7538.750000</td>\n",
       "      <td>1.000000</td>\n",
       "      <td>2.000000</td>\n",
       "      <td>5.000000</td>\n",
       "      <td>1.000000</td>\n",
       "      <td>882.000000</td>\n",
       "      <td>0.000000</td>\n",
       "    </tr>\n",
       "    <tr>\n",
       "      <th>50%</th>\n",
       "      <td>729.500000</td>\n",
       "      <td>1458.500000</td>\n",
       "      <td>2008.000000</td>\n",
       "      <td>1972.00000</td>\n",
       "      <td>163000.000000</td>\n",
       "      <td>9468.500000</td>\n",
       "      <td>2.000000</td>\n",
       "      <td>3.000000</td>\n",
       "      <td>6.000000</td>\n",
       "      <td>2.000000</td>\n",
       "      <td>1086.000000</td>\n",
       "      <td>0.000000</td>\n",
       "    </tr>\n",
       "    <tr>\n",
       "      <th>75%</th>\n",
       "      <td>1093.250000</td>\n",
       "      <td>1775.250000</td>\n",
       "      <td>2009.000000</td>\n",
       "      <td>2000.00000</td>\n",
       "      <td>214000.000000</td>\n",
       "      <td>11588.000000</td>\n",
       "      <td>2.000000</td>\n",
       "      <td>3.000000</td>\n",
       "      <td>7.000000</td>\n",
       "      <td>2.000000</td>\n",
       "      <td>1389.250000</td>\n",
       "      <td>728.000000</td>\n",
       "    </tr>\n",
       "    <tr>\n",
       "      <th>max</th>\n",
       "      <td>1459.000000</td>\n",
       "      <td>3627.000000</td>\n",
       "      <td>2010.000000</td>\n",
       "      <td>2010.00000</td>\n",
       "      <td>625000.000000</td>\n",
       "      <td>215245.000000</td>\n",
       "      <td>3.000000</td>\n",
       "      <td>8.000000</td>\n",
       "      <td>14.000000</td>\n",
       "      <td>4.000000</td>\n",
       "      <td>3228.000000</td>\n",
       "      <td>1818.000000</td>\n",
       "    </tr>\n",
       "  </tbody>\n",
       "</table>\n",
       "</div>"
      ],
      "text/plain": [
       "        Unnamed: 0    GrLivArea       YrSold   YearBuilt      SalePrice  \\\n",
       "count  1456.000000  1456.000000  1456.000000  1456.00000    1456.000000   \n",
       "mean    728.967033  1506.502060  2007.817308  1971.18544  180151.233516   \n",
       "std     421.722909   496.815378     1.329394    30.20159   76696.592530   \n",
       "min       0.000000   334.000000  2006.000000  1872.00000   34900.000000   \n",
       "25%     363.750000  1128.000000  2007.000000  1954.00000  129900.000000   \n",
       "50%     729.500000  1458.500000  2008.000000  1972.00000  163000.000000   \n",
       "75%    1093.250000  1775.250000  2009.000000  2000.00000  214000.000000   \n",
       "max    1459.000000  3627.000000  2010.000000  2010.00000  625000.000000   \n",
       "\n",
       "             LotArea     FullBath  BedroomAbvGr  TotRmsAbvGrd   GarageCars  \\\n",
       "count    1456.000000  1456.000000   1456.000000   1456.000000  1456.000000   \n",
       "mean    10448.784341     1.561813      2.864698      6.506181     1.764423   \n",
       "std      9860.763449     0.547683      0.815800      1.611800     0.746215   \n",
       "min      1300.000000     0.000000      0.000000      2.000000     0.000000   \n",
       "25%      7538.750000     1.000000      2.000000      5.000000     1.000000   \n",
       "50%      9468.500000     2.000000      3.000000      6.000000     2.000000   \n",
       "75%     11588.000000     2.000000      3.000000      7.000000     2.000000   \n",
       "max    215245.000000     3.000000      8.000000     14.000000     4.000000   \n",
       "\n",
       "          1stFlrSF     2ndFlrSF  \n",
       "count  1456.000000  1456.000000  \n",
       "mean   1157.108516   343.532967  \n",
       "std     369.307331   431.528915  \n",
       "min     334.000000     0.000000  \n",
       "25%     882.000000     0.000000  \n",
       "50%    1086.000000     0.000000  \n",
       "75%    1389.250000   728.000000  \n",
       "max    3228.000000  1818.000000  "
      ]
     },
     "execution_count": 8,
     "metadata": {},
     "output_type": "execute_result"
    }
   ],
   "source": [
    "#your code here (hint: you should be able to do this in one line of code)\n",
    "GrLivArea = housing_data.loc[housing_data['GrLivArea'] < 4000]\n",
    "# J.G.: Wanted to see if the code above had selected the correct data (i.e. below 4000 sq.ft.)\n",
    "GrLivArea.describe()"
   ]
  },
  {
   "cell_type": "markdown",
   "metadata": {},
   "source": [
    "Another feature likely to have a large impact on home price is garage finish. Houses with finished garages should sell more than those without. It wouldn't make sense to use a scatter plot here because this is discrete / categorized data, so let's instead use pandas groupby command to group all homes by garage finish and then use the aggregate functionality to find the mean sale price of each group. "
   ]
  },
  {
   "cell_type": "code",
   "execution_count": 9,
   "metadata": {},
   "outputs": [
    {
     "data": {
      "text/plain": [
       "GarageFinish\n",
       "Fin    240052.690341\n",
       "RFn    202068.869668\n",
       "Unf    142156.423140\n",
       "Name: SalePrice, dtype: float64"
      ]
     },
     "execution_count": 9,
     "metadata": {},
     "output_type": "execute_result"
    }
   ],
   "source": [
    "housing_data.groupby(\"GarageFinish\")[\"SalePrice\"].aggregate(\"mean\")"
   ]
  },
  {
   "cell_type": "markdown",
   "metadata": {},
   "source": [
    "Sometimes it will make sense to transform a column or combine two columns into one which has a more sensible relationship with your objective. When the house was first built is probably not the linear relationship with price, how old the house is is a better indicator. Create a new feature for how old the house was at the time of sale. \n"
   ]
  },
  {
   "cell_type": "code",
   "execution_count": 10,
   "metadata": {},
   "outputs": [
    {
     "data": {
      "text/html": [
       "<div>\n",
       "<style scoped>\n",
       "    .dataframe tbody tr th:only-of-type {\n",
       "        vertical-align: middle;\n",
       "    }\n",
       "\n",
       "    .dataframe tbody tr th {\n",
       "        vertical-align: top;\n",
       "    }\n",
       "\n",
       "    .dataframe thead th {\n",
       "        text-align: right;\n",
       "    }\n",
       "</style>\n",
       "<table border=\"1\" class=\"dataframe\">\n",
       "  <thead>\n",
       "    <tr style=\"text-align: right;\">\n",
       "      <th></th>\n",
       "      <th>Unnamed: 0</th>\n",
       "      <th>MSZoning</th>\n",
       "      <th>GrLivArea</th>\n",
       "      <th>YrSold</th>\n",
       "      <th>YearBuilt</th>\n",
       "      <th>SalePrice</th>\n",
       "      <th>LotArea</th>\n",
       "      <th>FullBath</th>\n",
       "      <th>BedroomAbvGr</th>\n",
       "      <th>TotRmsAbvGrd</th>\n",
       "      <th>GarageCars</th>\n",
       "      <th>GarageFinish</th>\n",
       "      <th>1stFlrSF</th>\n",
       "      <th>2ndFlrSF</th>\n",
       "      <th>YearsOld</th>\n",
       "    </tr>\n",
       "  </thead>\n",
       "  <tbody>\n",
       "    <tr>\n",
       "      <th>0</th>\n",
       "      <td>0</td>\n",
       "      <td>RL</td>\n",
       "      <td>1710</td>\n",
       "      <td>2008</td>\n",
       "      <td>2003</td>\n",
       "      <td>208500</td>\n",
       "      <td>8450</td>\n",
       "      <td>2</td>\n",
       "      <td>3</td>\n",
       "      <td>8</td>\n",
       "      <td>2</td>\n",
       "      <td>RFn</td>\n",
       "      <td>856</td>\n",
       "      <td>854</td>\n",
       "      <td>5</td>\n",
       "    </tr>\n",
       "    <tr>\n",
       "      <th>1</th>\n",
       "      <td>1</td>\n",
       "      <td>RL</td>\n",
       "      <td>1262</td>\n",
       "      <td>2007</td>\n",
       "      <td>1976</td>\n",
       "      <td>181500</td>\n",
       "      <td>9600</td>\n",
       "      <td>2</td>\n",
       "      <td>3</td>\n",
       "      <td>6</td>\n",
       "      <td>2</td>\n",
       "      <td>RFn</td>\n",
       "      <td>1262</td>\n",
       "      <td>0</td>\n",
       "      <td>31</td>\n",
       "    </tr>\n",
       "    <tr>\n",
       "      <th>2</th>\n",
       "      <td>2</td>\n",
       "      <td>RL</td>\n",
       "      <td>1786</td>\n",
       "      <td>2008</td>\n",
       "      <td>2001</td>\n",
       "      <td>223500</td>\n",
       "      <td>11250</td>\n",
       "      <td>2</td>\n",
       "      <td>3</td>\n",
       "      <td>6</td>\n",
       "      <td>2</td>\n",
       "      <td>RFn</td>\n",
       "      <td>920</td>\n",
       "      <td>866</td>\n",
       "      <td>7</td>\n",
       "    </tr>\n",
       "    <tr>\n",
       "      <th>3</th>\n",
       "      <td>3</td>\n",
       "      <td>RL</td>\n",
       "      <td>1717</td>\n",
       "      <td>2006</td>\n",
       "      <td>1915</td>\n",
       "      <td>140000</td>\n",
       "      <td>9550</td>\n",
       "      <td>1</td>\n",
       "      <td>3</td>\n",
       "      <td>7</td>\n",
       "      <td>3</td>\n",
       "      <td>Unf</td>\n",
       "      <td>961</td>\n",
       "      <td>756</td>\n",
       "      <td>91</td>\n",
       "    </tr>\n",
       "    <tr>\n",
       "      <th>4</th>\n",
       "      <td>4</td>\n",
       "      <td>RL</td>\n",
       "      <td>2198</td>\n",
       "      <td>2008</td>\n",
       "      <td>2000</td>\n",
       "      <td>250000</td>\n",
       "      <td>14260</td>\n",
       "      <td>2</td>\n",
       "      <td>4</td>\n",
       "      <td>9</td>\n",
       "      <td>3</td>\n",
       "      <td>RFn</td>\n",
       "      <td>1145</td>\n",
       "      <td>1053</td>\n",
       "      <td>8</td>\n",
       "    </tr>\n",
       "  </tbody>\n",
       "</table>\n",
       "</div>"
      ],
      "text/plain": [
       "   Unnamed: 0 MSZoning  GrLivArea  YrSold  YearBuilt  SalePrice  LotArea  \\\n",
       "0           0       RL       1710    2008       2003     208500     8450   \n",
       "1           1       RL       1262    2007       1976     181500     9600   \n",
       "2           2       RL       1786    2008       2001     223500    11250   \n",
       "3           3       RL       1717    2006       1915     140000     9550   \n",
       "4           4       RL       2198    2008       2000     250000    14260   \n",
       "\n",
       "   FullBath  BedroomAbvGr  TotRmsAbvGrd  GarageCars GarageFinish  1stFlrSF  \\\n",
       "0         2             3             8           2          RFn       856   \n",
       "1         2             3             6           2          RFn      1262   \n",
       "2         2             3             6           2          RFn       920   \n",
       "3         1             3             7           3          Unf       961   \n",
       "4         2             4             9           3          RFn      1145   \n",
       "\n",
       "   2ndFlrSF  YearsOld  \n",
       "0       854         5  \n",
       "1         0        31  \n",
       "2       866         7  \n",
       "3       756        91  \n",
       "4      1053         8  "
      ]
     },
     "execution_count": 10,
     "metadata": {},
     "output_type": "execute_result"
    }
   ],
   "source": [
    "## Your Code here\n",
    "housing_data['YearsOld'] = housing_data['YrSold'] - housing_data['YearBuilt']\n",
    "housing_data.head()"
   ]
  },
  {
   "cell_type": "markdown",
   "metadata": {},
   "source": [
    "Now we want to look at how our new house age feature impacts price. \n",
    "\n",
    "We could use a scatter plot again but instead lets use the pd.qcut to divide the data into quartiles based on house age, and the use groupby to find the average sale price by each quartile of house age. Quartiling / quintiling / deciling like this is often a simple and intuitive thing to do when analyzing data, to see if there is a linear relationship between quartiles and sale price, i.e. if quartile 2 has a higher sale price then quartile 1, and quartile 3 then quartile 2, etc. \n",
    "\n",
    "Quartile the data then plot your results in a bar plot. Give it a title and make sure the x ticks on the graph are 1, 2, 3, 4 for 1st through 4th quartiles. You may have to look at the matplotlib commands to find this. "
   ]
  },
  {
   "cell_type": "code",
   "execution_count": 11,
   "metadata": {},
   "outputs": [
    {
     "data": {
      "text/plain": [
       "Text(0,0.5,'Avg. Sale Price ($)')"
      ]
     },
     "execution_count": 11,
     "metadata": {},
     "output_type": "execute_result"
    },
    {
     "name": "stderr",
     "output_type": "stream",
     "text": [
      "/Users/jguevara/miniconda3/lib/python3.6/site-packages/matplotlib/figure.py:2267: UserWarning: This figure includes Axes that are not compatible with tight_layout, so results might be incorrect.\n",
      "  warnings.warn(\"This figure includes Axes that are not compatible \"\n"
     ]
    },
    {
     "data": {
      "image/png": "[encoded data removed]",
      "text/plain": [
       "<Figure size 504x432 with 1 Axes>"
      ]
     },
     "metadata": {},
     "output_type": "display_data"
    }
   ],
   "source": [
    "### Your code here\n",
    "AgeQuartiles = pd.qcut(housing_data['YearsOld'],4, labels=False)\n",
    "PriceQuartiles = housing_data.groupby(AgeQuartiles)['SalePrice'].aggregate(\"mean\")\n",
    "plt.figure(figsize=(7,6))\n",
    "plt.bar(range(1,5), PriceQuartiles)\n",
    "plt.xlabel(\"Age Quartiles\", fontsize=18)\n",
    "plt.ylabel(\"Avg. Sale Price ($)\", fontsize=18)"
   ]
  },
  {
   "cell_type": "markdown",
   "metadata": {},
   "source": [
    "When a house was sold could have an impact independently of how old it was. Below, group by year sold and use aggregate to find the mean sale price by each year sold to see if this variable has any impact. "
   ]
  },
  {
   "cell_type": "code",
   "execution_count": 12,
   "metadata": {},
   "outputs": [
    {
     "data": {
      "text/plain": [
       "YrSold\n",
       "2006    182549.458599\n",
       "2007    186063.151976\n",
       "2008    177360.838816\n",
       "2009    179432.103550\n",
       "2010    177393.674286\n",
       "Name: SalePrice, dtype: float64"
      ]
     },
     "execution_count": 12,
     "metadata": {},
     "output_type": "execute_result"
    }
   ],
   "source": [
    "##Your code here\n",
    "housing_data.groupby('YrSold')['SalePrice'].aggregate(\"mean\")"
   ]
  },
  {
   "cell_type": "markdown",
   "metadata": {},
   "source": [
    "It looks like there is some relationship there, but it looks like the main determinant is whether a house was sold pre-2008 or after 2008. Let's convert this into a dummy variable of \"pre_housing_crisis\" and give it a value of 1 if the house was sold before 2008 and 0 2008 or after. Then you can remove year_sold and the rest from your dataset. "
   ]
  },
  {
   "cell_type": "code",
   "execution_count": 13,
   "metadata": {},
   "outputs": [],
   "source": [
    "## Your code here\n",
    "pre_housing_crisis = housing_data['YrSold'] < 2008\n",
    "housing_data['before_\\'08'] = pre_housing_crisis * 1"
   ]
  },
  {
   "cell_type": "code",
   "execution_count": 14,
   "metadata": {},
   "outputs": [
    {
     "data": {
      "text/html": [
       "<div>\n",
       "<style scoped>\n",
       "    .dataframe tbody tr th:only-of-type {\n",
       "        vertical-align: middle;\n",
       "    }\n",
       "\n",
       "    .dataframe tbody tr th {\n",
       "        vertical-align: top;\n",
       "    }\n",
       "\n",
       "    .dataframe thead th {\n",
       "        text-align: right;\n",
       "    }\n",
       "</style>\n",
       "<table border=\"1\" class=\"dataframe\">\n",
       "  <thead>\n",
       "    <tr style=\"text-align: right;\">\n",
       "      <th></th>\n",
       "      <th>Unnamed: 0</th>\n",
       "      <th>MSZoning</th>\n",
       "      <th>GrLivArea</th>\n",
       "      <th>YearBuilt</th>\n",
       "      <th>SalePrice</th>\n",
       "      <th>LotArea</th>\n",
       "      <th>FullBath</th>\n",
       "      <th>BedroomAbvGr</th>\n",
       "      <th>TotRmsAbvGrd</th>\n",
       "      <th>GarageCars</th>\n",
       "      <th>GarageFinish</th>\n",
       "      <th>1stFlrSF</th>\n",
       "      <th>2ndFlrSF</th>\n",
       "      <th>YearsOld</th>\n",
       "      <th>before_'08</th>\n",
       "    </tr>\n",
       "  </thead>\n",
       "  <tbody>\n",
       "    <tr>\n",
       "      <th>0</th>\n",
       "      <td>0</td>\n",
       "      <td>RL</td>\n",
       "      <td>1710</td>\n",
       "      <td>2003</td>\n",
       "      <td>208500</td>\n",
       "      <td>8450</td>\n",
       "      <td>2</td>\n",
       "      <td>3</td>\n",
       "      <td>8</td>\n",
       "      <td>2</td>\n",
       "      <td>RFn</td>\n",
       "      <td>856</td>\n",
       "      <td>854</td>\n",
       "      <td>5</td>\n",
       "      <td>0</td>\n",
       "    </tr>\n",
       "    <tr>\n",
       "      <th>1</th>\n",
       "      <td>1</td>\n",
       "      <td>RL</td>\n",
       "      <td>1262</td>\n",
       "      <td>1976</td>\n",
       "      <td>181500</td>\n",
       "      <td>9600</td>\n",
       "      <td>2</td>\n",
       "      <td>3</td>\n",
       "      <td>6</td>\n",
       "      <td>2</td>\n",
       "      <td>RFn</td>\n",
       "      <td>1262</td>\n",
       "      <td>0</td>\n",
       "      <td>31</td>\n",
       "      <td>1</td>\n",
       "    </tr>\n",
       "    <tr>\n",
       "      <th>2</th>\n",
       "      <td>2</td>\n",
       "      <td>RL</td>\n",
       "      <td>1786</td>\n",
       "      <td>2001</td>\n",
       "      <td>223500</td>\n",
       "      <td>11250</td>\n",
       "      <td>2</td>\n",
       "      <td>3</td>\n",
       "      <td>6</td>\n",
       "      <td>2</td>\n",
       "      <td>RFn</td>\n",
       "      <td>920</td>\n",
       "      <td>866</td>\n",
       "      <td>7</td>\n",
       "      <td>0</td>\n",
       "    </tr>\n",
       "    <tr>\n",
       "      <th>3</th>\n",
       "      <td>3</td>\n",
       "      <td>RL</td>\n",
       "      <td>1717</td>\n",
       "      <td>1915</td>\n",
       "      <td>140000</td>\n",
       "      <td>9550</td>\n",
       "      <td>1</td>\n",
       "      <td>3</td>\n",
       "      <td>7</td>\n",
       "      <td>3</td>\n",
       "      <td>Unf</td>\n",
       "      <td>961</td>\n",
       "      <td>756</td>\n",
       "      <td>91</td>\n",
       "      <td>1</td>\n",
       "    </tr>\n",
       "    <tr>\n",
       "      <th>4</th>\n",
       "      <td>4</td>\n",
       "      <td>RL</td>\n",
       "      <td>2198</td>\n",
       "      <td>2000</td>\n",
       "      <td>250000</td>\n",
       "      <td>14260</td>\n",
       "      <td>2</td>\n",
       "      <td>4</td>\n",
       "      <td>9</td>\n",
       "      <td>3</td>\n",
       "      <td>RFn</td>\n",
       "      <td>1145</td>\n",
       "      <td>1053</td>\n",
       "      <td>8</td>\n",
       "      <td>0</td>\n",
       "    </tr>\n",
       "  </tbody>\n",
       "</table>\n",
       "</div>"
      ],
      "text/plain": [
       "   Unnamed: 0 MSZoning  GrLivArea  YearBuilt  SalePrice  LotArea  FullBath  \\\n",
       "0           0       RL       1710       2003     208500     8450         2   \n",
       "1           1       RL       1262       1976     181500     9600         2   \n",
       "2           2       RL       1786       2001     223500    11250         2   \n",
       "3           3       RL       1717       1915     140000     9550         1   \n",
       "4           4       RL       2198       2000     250000    14260         2   \n",
       "\n",
       "   BedroomAbvGr  TotRmsAbvGrd  GarageCars GarageFinish  1stFlrSF  2ndFlrSF  \\\n",
       "0             3             8           2          RFn       856       854   \n",
       "1             3             6           2          RFn      1262         0   \n",
       "2             3             6           2          RFn       920       866   \n",
       "3             3             7           3          Unf       961       756   \n",
       "4             4             9           3          RFn      1145      1053   \n",
       "\n",
       "   YearsOld  before_'08  \n",
       "0         5           0  \n",
       "1        31           1  \n",
       "2         7           0  \n",
       "3        91           1  \n",
       "4         8           0  "
      ]
     },
     "execution_count": 14,
     "metadata": {},
     "output_type": "execute_result"
    }
   ],
   "source": [
    "# Removing YrSold from the set\n",
    "housing_data = housing_data.drop(columns=['YrSold'])\n",
    "housing_data.head()"
   ]
  },
  {
   "cell_type": "markdown",
   "metadata": {},
   "source": [
    "Looking at the results of the 'describe' command above, it also looked like there were some houses with extremely large lot areas, possibly outliers. Below, use pandas indexing / slicing operations (hint: .loc) to find how many houses have a lot area greater than 50000 square feet. Then, set the lot area for all of these houses to 50,000 square feet. "
   ]
  },
  {
   "cell_type": "code",
   "execution_count": 15,
   "metadata": {},
   "outputs": [
    {
     "data": {
      "text/html": [
       "<div>\n",
       "<style scoped>\n",
       "    .dataframe tbody tr th:only-of-type {\n",
       "        vertical-align: middle;\n",
       "    }\n",
       "\n",
       "    .dataframe tbody tr th {\n",
       "        vertical-align: top;\n",
       "    }\n",
       "\n",
       "    .dataframe thead th {\n",
       "        text-align: right;\n",
       "    }\n",
       "</style>\n",
       "<table border=\"1\" class=\"dataframe\">\n",
       "  <thead>\n",
       "    <tr style=\"text-align: right;\">\n",
       "      <th></th>\n",
       "      <th>Unnamed: 0</th>\n",
       "      <th>MSZoning</th>\n",
       "      <th>GrLivArea</th>\n",
       "      <th>YearBuilt</th>\n",
       "      <th>SalePrice</th>\n",
       "      <th>LotArea</th>\n",
       "      <th>FullBath</th>\n",
       "      <th>BedroomAbvGr</th>\n",
       "      <th>TotRmsAbvGrd</th>\n",
       "      <th>GarageCars</th>\n",
       "      <th>GarageFinish</th>\n",
       "      <th>1stFlrSF</th>\n",
       "      <th>2ndFlrSF</th>\n",
       "      <th>YearsOld</th>\n",
       "      <th>before_'08</th>\n",
       "    </tr>\n",
       "  </thead>\n",
       "  <tbody>\n",
       "    <tr>\n",
       "      <th>53</th>\n",
       "      <td>53</td>\n",
       "      <td>RL</td>\n",
       "      <td>1842</td>\n",
       "      <td>1981</td>\n",
       "      <td>385000</td>\n",
       "      <td>50000</td>\n",
       "      <td>0</td>\n",
       "      <td>0</td>\n",
       "      <td>5</td>\n",
       "      <td>3</td>\n",
       "      <td>Fin</td>\n",
       "      <td>1842</td>\n",
       "      <td>0</td>\n",
       "      <td>25</td>\n",
       "      <td>1</td>\n",
       "    </tr>\n",
       "    <tr>\n",
       "      <th>249</th>\n",
       "      <td>249</td>\n",
       "      <td>RL</td>\n",
       "      <td>2144</td>\n",
       "      <td>1958</td>\n",
       "      <td>277000</td>\n",
       "      <td>50000</td>\n",
       "      <td>2</td>\n",
       "      <td>4</td>\n",
       "      <td>7</td>\n",
       "      <td>2</td>\n",
       "      <td>Fin</td>\n",
       "      <td>1444</td>\n",
       "      <td>700</td>\n",
       "      <td>49</td>\n",
       "      <td>1</td>\n",
       "    </tr>\n",
       "    <tr>\n",
       "      <th>313</th>\n",
       "      <td>313</td>\n",
       "      <td>RL</td>\n",
       "      <td>2036</td>\n",
       "      <td>1965</td>\n",
       "      <td>375000</td>\n",
       "      <td>50000</td>\n",
       "      <td>2</td>\n",
       "      <td>3</td>\n",
       "      <td>8</td>\n",
       "      <td>2</td>\n",
       "      <td>RFn</td>\n",
       "      <td>2036</td>\n",
       "      <td>0</td>\n",
       "      <td>44</td>\n",
       "      <td>0</td>\n",
       "    </tr>\n",
       "    <tr>\n",
       "      <th>335</th>\n",
       "      <td>335</td>\n",
       "      <td>RL</td>\n",
       "      <td>1786</td>\n",
       "      <td>1965</td>\n",
       "      <td>228950</td>\n",
       "      <td>50000</td>\n",
       "      <td>2</td>\n",
       "      <td>3</td>\n",
       "      <td>7</td>\n",
       "      <td>2</td>\n",
       "      <td>Fin</td>\n",
       "      <td>1619</td>\n",
       "      <td>167</td>\n",
       "      <td>43</td>\n",
       "      <td>0</td>\n",
       "    </tr>\n",
       "    <tr>\n",
       "      <th>384</th>\n",
       "      <td>384</td>\n",
       "      <td>RL</td>\n",
       "      <td>1953</td>\n",
       "      <td>1992</td>\n",
       "      <td>240000</td>\n",
       "      <td>50000</td>\n",
       "      <td>2</td>\n",
       "      <td>3</td>\n",
       "      <td>9</td>\n",
       "      <td>2</td>\n",
       "      <td>Fin</td>\n",
       "      <td>1079</td>\n",
       "      <td>874</td>\n",
       "      <td>15</td>\n",
       "      <td>1</td>\n",
       "    </tr>\n",
       "    <tr>\n",
       "      <th>451</th>\n",
       "      <td>451</td>\n",
       "      <td>RL</td>\n",
       "      <td>1533</td>\n",
       "      <td>1975</td>\n",
       "      <td>280000</td>\n",
       "      <td>50000</td>\n",
       "      <td>2</td>\n",
       "      <td>2</td>\n",
       "      <td>5</td>\n",
       "      <td>2</td>\n",
       "      <td>Unf</td>\n",
       "      <td>1533</td>\n",
       "      <td>0</td>\n",
       "      <td>31</td>\n",
       "      <td>1</td>\n",
       "    </tr>\n",
       "    <tr>\n",
       "      <th>457</th>\n",
       "      <td>457</td>\n",
       "      <td>RL</td>\n",
       "      <td>1663</td>\n",
       "      <td>1954</td>\n",
       "      <td>256000</td>\n",
       "      <td>50000</td>\n",
       "      <td>1</td>\n",
       "      <td>2</td>\n",
       "      <td>6</td>\n",
       "      <td>2</td>\n",
       "      <td>Fin</td>\n",
       "      <td>1663</td>\n",
       "      <td>0</td>\n",
       "      <td>54</td>\n",
       "      <td>0</td>\n",
       "    </tr>\n",
       "    <tr>\n",
       "      <th>706</th>\n",
       "      <td>706</td>\n",
       "      <td>RL</td>\n",
       "      <td>1824</td>\n",
       "      <td>1971</td>\n",
       "      <td>302000</td>\n",
       "      <td>50000</td>\n",
       "      <td>2</td>\n",
       "      <td>2</td>\n",
       "      <td>5</td>\n",
       "      <td>2</td>\n",
       "      <td>Unf</td>\n",
       "      <td>1824</td>\n",
       "      <td>0</td>\n",
       "      <td>36</td>\n",
       "      <td>1</td>\n",
       "    </tr>\n",
       "    <tr>\n",
       "      <th>769</th>\n",
       "      <td>769</td>\n",
       "      <td>RL</td>\n",
       "      <td>3279</td>\n",
       "      <td>2003</td>\n",
       "      <td>538000</td>\n",
       "      <td>50000</td>\n",
       "      <td>3</td>\n",
       "      <td>4</td>\n",
       "      <td>12</td>\n",
       "      <td>3</td>\n",
       "      <td>Fin</td>\n",
       "      <td>1690</td>\n",
       "      <td>1589</td>\n",
       "      <td>7</td>\n",
       "      <td>0</td>\n",
       "    </tr>\n",
       "    <tr>\n",
       "      <th>1298</th>\n",
       "      <td>1298</td>\n",
       "      <td>RL</td>\n",
       "      <td>5642</td>\n",
       "      <td>2008</td>\n",
       "      <td>160000</td>\n",
       "      <td>50000</td>\n",
       "      <td>2</td>\n",
       "      <td>3</td>\n",
       "      <td>12</td>\n",
       "      <td>2</td>\n",
       "      <td>Fin</td>\n",
       "      <td>4692</td>\n",
       "      <td>950</td>\n",
       "      <td>0</td>\n",
       "      <td>0</td>\n",
       "    </tr>\n",
       "    <tr>\n",
       "      <th>1396</th>\n",
       "      <td>1396</td>\n",
       "      <td>RL</td>\n",
       "      <td>1687</td>\n",
       "      <td>1948</td>\n",
       "      <td>160000</td>\n",
       "      <td>50000</td>\n",
       "      <td>1</td>\n",
       "      <td>3</td>\n",
       "      <td>7</td>\n",
       "      <td>2</td>\n",
       "      <td>Unf</td>\n",
       "      <td>1687</td>\n",
       "      <td>0</td>\n",
       "      <td>62</td>\n",
       "      <td>0</td>\n",
       "    </tr>\n",
       "  </tbody>\n",
       "</table>\n",
       "</div>"
      ],
      "text/plain": [
       "      Unnamed: 0 MSZoning  GrLivArea  YearBuilt  SalePrice  LotArea  FullBath  \\\n",
       "53            53       RL       1842       1981     385000    50000         0   \n",
       "249          249       RL       2144       1958     277000    50000         2   \n",
       "313          313       RL       2036       1965     375000    50000         2   \n",
       "335          335       RL       1786       1965     228950    50000         2   \n",
       "384          384       RL       1953       1992     240000    50000         2   \n",
       "451          451       RL       1533       1975     280000    50000         2   \n",
       "457          457       RL       1663       1954     256000    50000         1   \n",
       "706          706       RL       1824       1971     302000    50000         2   \n",
       "769          769       RL       3279       2003     538000    50000         3   \n",
       "1298        1298       RL       5642       2008     160000    50000         2   \n",
       "1396        1396       RL       1687       1948     160000    50000         1   \n",
       "\n",
       "      BedroomAbvGr  TotRmsAbvGrd  GarageCars GarageFinish  1stFlrSF  2ndFlrSF  \\\n",
       "53               0             5           3          Fin      1842         0   \n",
       "249              4             7           2          Fin      1444       700   \n",
       "313              3             8           2          RFn      2036         0   \n",
       "335              3             7           2          Fin      1619       167   \n",
       "384              3             9           2          Fin      1079       874   \n",
       "451              2             5           2          Unf      1533         0   \n",
       "457              2             6           2          Fin      1663         0   \n",
       "706              2             5           2          Unf      1824         0   \n",
       "769              4            12           3          Fin      1690      1589   \n",
       "1298             3            12           2          Fin      4692       950   \n",
       "1396             3             7           2          Unf      1687         0   \n",
       "\n",
       "      YearsOld  before_'08  \n",
       "53          25           1  \n",
       "249         49           1  \n",
       "313         44           0  \n",
       "335         43           0  \n",
       "384         15           1  \n",
       "451         31           1  \n",
       "457         54           0  \n",
       "706         36           1  \n",
       "769          7           0  \n",
       "1298         0           0  \n",
       "1396        62           0  "
      ]
     },
     "execution_count": 15,
     "metadata": {},
     "output_type": "execute_result"
    }
   ],
   "source": [
    "## Your code here\n",
    "housing_data.loc[housing_data['LotArea'] > 50000, ['LotArea']] = 50000\n",
    "housing_data.loc[housing_data['LotArea'] >= 50000] # View the houses whose LotArea has been updated"
   ]
  },
  {
   "cell_type": "markdown",
   "metadata": {},
   "source": [
    "Let's look at garage cars next. First, let's see how much the feature alone adds... group homes by garage cars and use aggregate function to find the mean sale price for houses by how large their garage is. Hint: look above at the one I gave you..."
   ]
  },
  {
   "cell_type": "code",
   "execution_count": 16,
   "metadata": {},
   "outputs": [
    {
     "data": {
      "text/plain": [
       "GarageCars\n",
       "0    103317.283951\n",
       "1    128116.688347\n",
       "2    183851.663835\n",
       "3    309636.121547\n",
       "4    192655.800000\n",
       "Name: SalePrice, dtype: float64"
      ]
     },
     "execution_count": 16,
     "metadata": {},
     "output_type": "execute_result"
    }
   ],
   "source": [
    "#Your code here\n",
    "housing_data.groupby('GarageCars')['SalePrice'].aggregate(\"mean\")"
   ]
  },
  {
   "cell_type": "markdown",
   "metadata": {},
   "source": [
    "Garages also seem to have a large impact on home value. \n",
    "\n",
    "Next, we will deal with the categorical data. For fun lets group by the two categorical columns together and use aggregate to find the mean sale price for each combination of GarageFinish, MSZoning"
   ]
  },
  {
   "cell_type": "code",
   "execution_count": 17,
   "metadata": {},
   "outputs": [
    {
     "data": {
      "text/plain": [
       "GarageFinish  MSZoning\n",
       "Fin           FV          245674.750000\n",
       "              RH          157000.000000\n",
       "              RL          245879.843648\n",
       "              RM          164606.086957\n",
       "RFn           C (all)      84058.666667\n",
       "              FV          214087.300000\n",
       "              RL          204570.848000\n",
       "              RM          134585.714286\n",
       "Unf           C (all)      74640.800000\n",
       "              FV          171653.333333\n",
       "              RH          122193.400000\n",
       "              RL          148440.498807\n",
       "              RM          125885.442308\n",
       "Name: SalePrice, dtype: float64"
      ]
     },
     "execution_count": 17,
     "metadata": {},
     "output_type": "execute_result"
    }
   ],
   "source": [
    "housing_data.groupby([\"GarageFinish\", \"MSZoning\"])['SalePrice'].aggregate(\"mean\")"
   ]
  },
  {
   "cell_type": "markdown",
   "metadata": {},
   "source": [
    "Now use get_dummies to map the categorical data into 0s and 1s and then add them back to your main dataframe and drop the original columns as we won't need them anymore (it's generally best to do this in a copy of the original dataset but we'll ignore that for now...)"
   ]
  },
  {
   "cell_type": "code",
   "execution_count": 18,
   "metadata": {},
   "outputs": [
    {
     "data": {
      "text/html": [
       "<div>\n",
       "<style scoped>\n",
       "    .dataframe tbody tr th:only-of-type {\n",
       "        vertical-align: middle;\n",
       "    }\n",
       "\n",
       "    .dataframe tbody tr th {\n",
       "        vertical-align: top;\n",
       "    }\n",
       "\n",
       "    .dataframe thead th {\n",
       "        text-align: right;\n",
       "    }\n",
       "</style>\n",
       "<table border=\"1\" class=\"dataframe\">\n",
       "  <thead>\n",
       "    <tr style=\"text-align: right;\">\n",
       "      <th></th>\n",
       "      <th>Unnamed: 0</th>\n",
       "      <th>MSZoning</th>\n",
       "      <th>GrLivArea</th>\n",
       "      <th>YearBuilt</th>\n",
       "      <th>SalePrice</th>\n",
       "      <th>LotArea</th>\n",
       "      <th>FullBath</th>\n",
       "      <th>BedroomAbvGr</th>\n",
       "      <th>TotRmsAbvGrd</th>\n",
       "      <th>GarageCars</th>\n",
       "      <th>...</th>\n",
       "      <th>YearsOld</th>\n",
       "      <th>before_'08</th>\n",
       "      <th>GarageFinish_Fin</th>\n",
       "      <th>GarageFinish_RFn</th>\n",
       "      <th>GarageFinish_Unf</th>\n",
       "      <th>MSZoning_C (all)</th>\n",
       "      <th>MSZoning_FV</th>\n",
       "      <th>MSZoning_RH</th>\n",
       "      <th>MSZoning_RL</th>\n",
       "      <th>MSZoning_RM</th>\n",
       "    </tr>\n",
       "  </thead>\n",
       "  <tbody>\n",
       "    <tr>\n",
       "      <th>0</th>\n",
       "      <td>0</td>\n",
       "      <td>RL</td>\n",
       "      <td>1710</td>\n",
       "      <td>2003</td>\n",
       "      <td>208500</td>\n",
       "      <td>8450</td>\n",
       "      <td>2</td>\n",
       "      <td>3</td>\n",
       "      <td>8</td>\n",
       "      <td>2</td>\n",
       "      <td>...</td>\n",
       "      <td>5</td>\n",
       "      <td>0</td>\n",
       "      <td>0</td>\n",
       "      <td>1</td>\n",
       "      <td>0</td>\n",
       "      <td>0</td>\n",
       "      <td>0</td>\n",
       "      <td>0</td>\n",
       "      <td>1</td>\n",
       "      <td>0</td>\n",
       "    </tr>\n",
       "    <tr>\n",
       "      <th>1</th>\n",
       "      <td>1</td>\n",
       "      <td>RL</td>\n",
       "      <td>1262</td>\n",
       "      <td>1976</td>\n",
       "      <td>181500</td>\n",
       "      <td>9600</td>\n",
       "      <td>2</td>\n",
       "      <td>3</td>\n",
       "      <td>6</td>\n",
       "      <td>2</td>\n",
       "      <td>...</td>\n",
       "      <td>31</td>\n",
       "      <td>1</td>\n",
       "      <td>0</td>\n",
       "      <td>1</td>\n",
       "      <td>0</td>\n",
       "      <td>0</td>\n",
       "      <td>0</td>\n",
       "      <td>0</td>\n",
       "      <td>1</td>\n",
       "      <td>0</td>\n",
       "    </tr>\n",
       "    <tr>\n",
       "      <th>2</th>\n",
       "      <td>2</td>\n",
       "      <td>RL</td>\n",
       "      <td>1786</td>\n",
       "      <td>2001</td>\n",
       "      <td>223500</td>\n",
       "      <td>11250</td>\n",
       "      <td>2</td>\n",
       "      <td>3</td>\n",
       "      <td>6</td>\n",
       "      <td>2</td>\n",
       "      <td>...</td>\n",
       "      <td>7</td>\n",
       "      <td>0</td>\n",
       "      <td>0</td>\n",
       "      <td>1</td>\n",
       "      <td>0</td>\n",
       "      <td>0</td>\n",
       "      <td>0</td>\n",
       "      <td>0</td>\n",
       "      <td>1</td>\n",
       "      <td>0</td>\n",
       "    </tr>\n",
       "    <tr>\n",
       "      <th>3</th>\n",
       "      <td>3</td>\n",
       "      <td>RL</td>\n",
       "      <td>1717</td>\n",
       "      <td>1915</td>\n",
       "      <td>140000</td>\n",
       "      <td>9550</td>\n",
       "      <td>1</td>\n",
       "      <td>3</td>\n",
       "      <td>7</td>\n",
       "      <td>3</td>\n",
       "      <td>...</td>\n",
       "      <td>91</td>\n",
       "      <td>1</td>\n",
       "      <td>0</td>\n",
       "      <td>0</td>\n",
       "      <td>1</td>\n",
       "      <td>0</td>\n",
       "      <td>0</td>\n",
       "      <td>0</td>\n",
       "      <td>1</td>\n",
       "      <td>0</td>\n",
       "    </tr>\n",
       "    <tr>\n",
       "      <th>4</th>\n",
       "      <td>4</td>\n",
       "      <td>RL</td>\n",
       "      <td>2198</td>\n",
       "      <td>2000</td>\n",
       "      <td>250000</td>\n",
       "      <td>14260</td>\n",
       "      <td>2</td>\n",
       "      <td>4</td>\n",
       "      <td>9</td>\n",
       "      <td>3</td>\n",
       "      <td>...</td>\n",
       "      <td>8</td>\n",
       "      <td>0</td>\n",
       "      <td>0</td>\n",
       "      <td>1</td>\n",
       "      <td>0</td>\n",
       "      <td>0</td>\n",
       "      <td>0</td>\n",
       "      <td>0</td>\n",
       "      <td>1</td>\n",
       "      <td>0</td>\n",
       "    </tr>\n",
       "  </tbody>\n",
       "</table>\n",
       "<p>5 rows × 23 columns</p>\n",
       "</div>"
      ],
      "text/plain": [
       "   Unnamed: 0 MSZoning  GrLivArea  YearBuilt  SalePrice  LotArea  FullBath  \\\n",
       "0           0       RL       1710       2003     208500     8450         2   \n",
       "1           1       RL       1262       1976     181500     9600         2   \n",
       "2           2       RL       1786       2001     223500    11250         2   \n",
       "3           3       RL       1717       1915     140000     9550         1   \n",
       "4           4       RL       2198       2000     250000    14260         2   \n",
       "\n",
       "   BedroomAbvGr  TotRmsAbvGrd  GarageCars     ...      YearsOld  before_'08  \\\n",
       "0             3             8           2     ...             5           0   \n",
       "1             3             6           2     ...            31           1   \n",
       "2             3             6           2     ...             7           0   \n",
       "3             3             7           3     ...            91           1   \n",
       "4             4             9           3     ...             8           0   \n",
       "\n",
       "   GarageFinish_Fin  GarageFinish_RFn  GarageFinish_Unf  MSZoning_C (all)  \\\n",
       "0                 0                 1                 0                 0   \n",
       "1                 0                 1                 0                 0   \n",
       "2                 0                 1                 0                 0   \n",
       "3                 0                 0                 1                 0   \n",
       "4                 0                 1                 0                 0   \n",
       "\n",
       "   MSZoning_FV  MSZoning_RH  MSZoning_RL  MSZoning_RM  \n",
       "0            0            0            1            0  \n",
       "1            0            0            1            0  \n",
       "2            0            0            1            0  \n",
       "3            0            0            1            0  \n",
       "4            0            0            1            0  \n",
       "\n",
       "[5 rows x 23 columns]"
      ]
     },
     "execution_count": 18,
     "metadata": {},
     "output_type": "execute_result"
    }
   ],
   "source": [
    "categorical_data = [\"GarageFinish\", \"MSZoning\"]\n",
    "#your code here\n",
    "categorical_data = pd.get_dummies(housing_data[categorical_data])\n",
    "housing_data = pd.concat([housing_data, categorical_data], axis=1)\n",
    "housing_data.head()"
   ]
  },
  {
   "cell_type": "code",
   "execution_count": 19,
   "metadata": {},
   "outputs": [
    {
     "data": {
      "text/html": [
       "<div>\n",
       "<style scoped>\n",
       "    .dataframe tbody tr th:only-of-type {\n",
       "        vertical-align: middle;\n",
       "    }\n",
       "\n",
       "    .dataframe tbody tr th {\n",
       "        vertical-align: top;\n",
       "    }\n",
       "\n",
       "    .dataframe thead th {\n",
       "        text-align: right;\n",
       "    }\n",
       "</style>\n",
       "<table border=\"1\" class=\"dataframe\">\n",
       "  <thead>\n",
       "    <tr style=\"text-align: right;\">\n",
       "      <th></th>\n",
       "      <th>Unnamed: 0</th>\n",
       "      <th>GrLivArea</th>\n",
       "      <th>YearBuilt</th>\n",
       "      <th>SalePrice</th>\n",
       "      <th>LotArea</th>\n",
       "      <th>FullBath</th>\n",
       "      <th>BedroomAbvGr</th>\n",
       "      <th>TotRmsAbvGrd</th>\n",
       "      <th>GarageCars</th>\n",
       "      <th>1stFlrSF</th>\n",
       "      <th>...</th>\n",
       "      <th>YearsOld</th>\n",
       "      <th>before_'08</th>\n",
       "      <th>GarageFinish_Fin</th>\n",
       "      <th>GarageFinish_RFn</th>\n",
       "      <th>GarageFinish_Unf</th>\n",
       "      <th>MSZoning_C (all)</th>\n",
       "      <th>MSZoning_FV</th>\n",
       "      <th>MSZoning_RH</th>\n",
       "      <th>MSZoning_RL</th>\n",
       "      <th>MSZoning_RM</th>\n",
       "    </tr>\n",
       "  </thead>\n",
       "  <tbody>\n",
       "    <tr>\n",
       "      <th>0</th>\n",
       "      <td>0</td>\n",
       "      <td>1710</td>\n",
       "      <td>2003</td>\n",
       "      <td>208500</td>\n",
       "      <td>8450</td>\n",
       "      <td>2</td>\n",
       "      <td>3</td>\n",
       "      <td>8</td>\n",
       "      <td>2</td>\n",
       "      <td>856</td>\n",
       "      <td>...</td>\n",
       "      <td>5</td>\n",
       "      <td>0</td>\n",
       "      <td>0</td>\n",
       "      <td>1</td>\n",
       "      <td>0</td>\n",
       "      <td>0</td>\n",
       "      <td>0</td>\n",
       "      <td>0</td>\n",
       "      <td>1</td>\n",
       "      <td>0</td>\n",
       "    </tr>\n",
       "    <tr>\n",
       "      <th>1</th>\n",
       "      <td>1</td>\n",
       "      <td>1262</td>\n",
       "      <td>1976</td>\n",
       "      <td>181500</td>\n",
       "      <td>9600</td>\n",
       "      <td>2</td>\n",
       "      <td>3</td>\n",
       "      <td>6</td>\n",
       "      <td>2</td>\n",
       "      <td>1262</td>\n",
       "      <td>...</td>\n",
       "      <td>31</td>\n",
       "      <td>1</td>\n",
       "      <td>0</td>\n",
       "      <td>1</td>\n",
       "      <td>0</td>\n",
       "      <td>0</td>\n",
       "      <td>0</td>\n",
       "      <td>0</td>\n",
       "      <td>1</td>\n",
       "      <td>0</td>\n",
       "    </tr>\n",
       "    <tr>\n",
       "      <th>2</th>\n",
       "      <td>2</td>\n",
       "      <td>1786</td>\n",
       "      <td>2001</td>\n",
       "      <td>223500</td>\n",
       "      <td>11250</td>\n",
       "      <td>2</td>\n",
       "      <td>3</td>\n",
       "      <td>6</td>\n",
       "      <td>2</td>\n",
       "      <td>920</td>\n",
       "      <td>...</td>\n",
       "      <td>7</td>\n",
       "      <td>0</td>\n",
       "      <td>0</td>\n",
       "      <td>1</td>\n",
       "      <td>0</td>\n",
       "      <td>0</td>\n",
       "      <td>0</td>\n",
       "      <td>0</td>\n",
       "      <td>1</td>\n",
       "      <td>0</td>\n",
       "    </tr>\n",
       "    <tr>\n",
       "      <th>3</th>\n",
       "      <td>3</td>\n",
       "      <td>1717</td>\n",
       "      <td>1915</td>\n",
       "      <td>140000</td>\n",
       "      <td>9550</td>\n",
       "      <td>1</td>\n",
       "      <td>3</td>\n",
       "      <td>7</td>\n",
       "      <td>3</td>\n",
       "      <td>961</td>\n",
       "      <td>...</td>\n",
       "      <td>91</td>\n",
       "      <td>1</td>\n",
       "      <td>0</td>\n",
       "      <td>0</td>\n",
       "      <td>1</td>\n",
       "      <td>0</td>\n",
       "      <td>0</td>\n",
       "      <td>0</td>\n",
       "      <td>1</td>\n",
       "      <td>0</td>\n",
       "    </tr>\n",
       "    <tr>\n",
       "      <th>4</th>\n",
       "      <td>4</td>\n",
       "      <td>2198</td>\n",
       "      <td>2000</td>\n",
       "      <td>250000</td>\n",
       "      <td>14260</td>\n",
       "      <td>2</td>\n",
       "      <td>4</td>\n",
       "      <td>9</td>\n",
       "      <td>3</td>\n",
       "      <td>1145</td>\n",
       "      <td>...</td>\n",
       "      <td>8</td>\n",
       "      <td>0</td>\n",
       "      <td>0</td>\n",
       "      <td>1</td>\n",
       "      <td>0</td>\n",
       "      <td>0</td>\n",
       "      <td>0</td>\n",
       "      <td>0</td>\n",
       "      <td>1</td>\n",
       "      <td>0</td>\n",
       "    </tr>\n",
       "  </tbody>\n",
       "</table>\n",
       "<p>5 rows × 21 columns</p>\n",
       "</div>"
      ],
      "text/plain": [
       "   Unnamed: 0  GrLivArea  YearBuilt  SalePrice  LotArea  FullBath  \\\n",
       "0           0       1710       2003     208500     8450         2   \n",
       "1           1       1262       1976     181500     9600         2   \n",
       "2           2       1786       2001     223500    11250         2   \n",
       "3           3       1717       1915     140000     9550         1   \n",
       "4           4       2198       2000     250000    14260         2   \n",
       "\n",
       "   BedroomAbvGr  TotRmsAbvGrd  GarageCars  1stFlrSF     ...       YearsOld  \\\n",
       "0             3             8           2       856     ...              5   \n",
       "1             3             6           2      1262     ...             31   \n",
       "2             3             6           2       920     ...              7   \n",
       "3             3             7           3       961     ...             91   \n",
       "4             4             9           3      1145     ...              8   \n",
       "\n",
       "   before_'08  GarageFinish_Fin  GarageFinish_RFn  GarageFinish_Unf  \\\n",
       "0           0                 0                 1                 0   \n",
       "1           1                 0                 1                 0   \n",
       "2           0                 0                 1                 0   \n",
       "3           1                 0                 0                 1   \n",
       "4           0                 0                 1                 0   \n",
       "\n",
       "   MSZoning_C (all)  MSZoning_FV  MSZoning_RH  MSZoning_RL  MSZoning_RM  \n",
       "0                 0            0            0            1            0  \n",
       "1                 0            0            0            1            0  \n",
       "2                 0            0            0            1            0  \n",
       "3                 0            0            0            1            0  \n",
       "4                 0            0            0            1            0  \n",
       "\n",
       "[5 rows x 21 columns]"
      ]
     },
     "execution_count": 19,
     "metadata": {},
     "output_type": "execute_result"
    }
   ],
   "source": [
    "housing_data = housing_data.drop(columns=['GarageFinish', 'MSZoning'])\n",
    "housing_data.head()"
   ]
  },
  {
   "cell_type": "markdown",
   "metadata": {},
   "source": [
    "We are getting things to pretty good shape. Let's use pd.corr() function to find the columns that correlate the best with sale price and sort them by ascending levels of correlation so that most positively correlating are at the bottom. Hint: sort_values()"
   ]
  },
  {
   "cell_type": "code",
   "execution_count": 20,
   "metadata": {},
   "outputs": [
    {
     "data": {
      "text/plain": [
       "YearsOld           -0.523350\n",
       "GarageFinish_Unf   -0.410608\n",
       "MSZoning_RM        -0.288065\n",
       "MSZoning_C (all)   -0.111257\n",
       "MSZoning_RH        -0.065429\n",
       "Unnamed: 0         -0.021917\n",
       "before_'08          0.038273\n",
       "MSZoning_FV         0.089950\n",
       "BedroomAbvGr        0.168213\n",
       "GarageFinish_RFn    0.169792\n",
       "MSZoning_RL         0.245063\n",
       "2ndFlrSF            0.319334\n",
       "LotArea             0.370210\n",
       "GarageFinish_Fin    0.419678\n",
       "YearBuilt           0.522897\n",
       "TotRmsAbvGrd        0.533723\n",
       "FullBath            0.560664\n",
       "1stFlrSF            0.605852\n",
       "GarageCars          0.640409\n",
       "GrLivArea           0.708624\n",
       "SalePrice           1.000000\n",
       "Name: SalePrice, dtype: float64"
      ]
     },
     "execution_count": 20,
     "metadata": {},
     "output_type": "execute_result"
    }
   ],
   "source": [
    "#your code here... Only show correlations with the sale price columns, don't show the whole matrix\n",
    "housing_data.corr()['SalePrice'].sort_values(ascending=True)"
   ]
  },
  {
   "cell_type": "markdown",
   "metadata": {},
   "source": [
    "The final thing we will want to do is scale our features so that they are on the same scale with one another. We'll discuss why this is important later (basically it's too make sure one feature doesn't have a bigger impact than another just because it has a larger absolute value). \n",
    "\n",
    "First, make a new list containing strings with all the numerical column names in it -- you can skip things like number of bedrooms as this data is already reasonably standardized. \n",
    "\n",
    "There are some packages that will do this for us, but for now let's do it manually so we can build an intuition for what is happening. A good way to scale data is to set it as the number of standard deviations over the mean data point that a variable is. A formula for this is x = (x - x_mean) / x_std. Apply this transformation to all your columns except the dummy variables, which are already scaled. You can use the transform function in pandas to do this and attach a lambda function to it. "
   ]
  },
  {
   "cell_type": "code",
   "execution_count": 21,
   "metadata": {},
   "outputs": [],
   "source": [
    "complete_housing_data = housing_data # Checkpoint"
   ]
  },
  {
   "cell_type": "code",
   "execution_count": 22,
   "metadata": {},
   "outputs": [
    {
     "data": {
      "text/html": [
       "<div>\n",
       "<style scoped>\n",
       "    .dataframe tbody tr th:only-of-type {\n",
       "        vertical-align: middle;\n",
       "    }\n",
       "\n",
       "    .dataframe tbody tr th {\n",
       "        vertical-align: top;\n",
       "    }\n",
       "\n",
       "    .dataframe thead th {\n",
       "        text-align: right;\n",
       "    }\n",
       "</style>\n",
       "<table border=\"1\" class=\"dataframe\">\n",
       "  <thead>\n",
       "    <tr style=\"text-align: right;\">\n",
       "      <th></th>\n",
       "      <th>GrLivArea</th>\n",
       "      <th>YearsOld</th>\n",
       "      <th>LotArea</th>\n",
       "      <th>1stFlrSF</th>\n",
       "      <th>2ndFlrSF</th>\n",
       "    </tr>\n",
       "  </thead>\n",
       "  <tbody>\n",
       "    <tr>\n",
       "      <th>0</th>\n",
       "      <td>0.370207</td>\n",
       "      <td>-1.042902</td>\n",
       "      <td>-0.300120</td>\n",
       "      <td>-0.793162</td>\n",
       "      <td>1.161454</td>\n",
       "    </tr>\n",
       "    <tr>\n",
       "      <th>1</th>\n",
       "      <td>-0.482347</td>\n",
       "      <td>-0.183402</td>\n",
       "      <td>-0.099487</td>\n",
       "      <td>0.257052</td>\n",
       "      <td>-0.794891</td>\n",
       "    </tr>\n",
       "    <tr>\n",
       "      <th>2</th>\n",
       "      <td>0.514836</td>\n",
       "      <td>-0.976787</td>\n",
       "      <td>0.188378</td>\n",
       "      <td>-0.627611</td>\n",
       "      <td>1.188943</td>\n",
       "    </tr>\n",
       "    <tr>\n",
       "      <th>3</th>\n",
       "      <td>0.383528</td>\n",
       "      <td>1.800059</td>\n",
       "      <td>-0.108210</td>\n",
       "      <td>-0.521555</td>\n",
       "      <td>0.936955</td>\n",
       "    </tr>\n",
       "    <tr>\n",
       "      <th>4</th>\n",
       "      <td>1.298881</td>\n",
       "      <td>-0.943729</td>\n",
       "      <td>0.713513</td>\n",
       "      <td>-0.045596</td>\n",
       "      <td>1.617323</td>\n",
       "    </tr>\n",
       "  </tbody>\n",
       "</table>\n",
       "</div>"
      ],
      "text/plain": [
       "   GrLivArea  YearsOld   LotArea  1stFlrSF  2ndFlrSF\n",
       "0   0.370207 -1.042902 -0.300120 -0.793162  1.161454\n",
       "1  -0.482347 -0.183402 -0.099487  0.257052 -0.794891\n",
       "2   0.514836 -0.976787  0.188378 -0.627611  1.188943\n",
       "3   0.383528  1.800059 -0.108210 -0.521555  0.936955\n",
       "4   1.298881 -0.943729  0.713513 -0.045596  1.617323"
      ]
     },
     "execution_count": 22,
     "metadata": {},
     "output_type": "execute_result"
    }
   ],
   "source": [
    "lambda_func = lambda x: (x - x.mean())/x.std()\n",
    "numerical_features = [\"GrLivArea\", \"YearsOld\", \"LotArea\", \"1stFlrSF\", \"2ndFlrSF\"]\n",
    "housing_data[numerical_features] = housing_data[numerical_features].transform(lambda_func)\n",
    "housing_data[numerical_features].head()\n",
    "#housing_data.to_csv(\"clean_housing_data.csv\")"
   ]
  },
  {
   "cell_type": "markdown",
   "metadata": {},
   "source": [
    "Ordinarily we might want to see if we can create any additional features here (known as feature engineering) but let's skip that for now and get a baseline model. First we will want to split data into a test and train set so that you can get a good read of model performance on a dataset that the model was not trained on (it's easy to train a model to output data it has already seen, harder to get it to generalize to new data). First split out home price into its own data frame (actually a series) called \"y\". You don't want the answer to be a feature of the model! Call the other data frame (housing data minus the house value) \"X\". "
   ]
  },
  {
   "cell_type": "code",
   "execution_count": 23,
   "metadata": {},
   "outputs": [],
   "source": [
    "## Your code here\n",
    "y = housing_data['SalePrice']\n",
    "X = housing_data[housing_data.columns.difference(['SalePrice'])]"
   ]
  },
  {
   "cell_type": "code",
   "execution_count": 24,
   "metadata": {},
   "outputs": [
    {
     "name": "stdout",
     "output_type": "stream",
     "text": [
      "(1460, 20) (1460,)\n"
     ]
    }
   ],
   "source": [
    "print(X.shape, y.shape)"
   ]
  },
  {
   "cell_type": "markdown",
   "metadata": {},
   "source": [
    "Now use the scikit learn function train_test_split to split your data into test and training pieces"
   ]
  },
  {
   "cell_type": "code",
   "execution_count": 25,
   "metadata": {},
   "outputs": [
    {
     "name": "stdout",
     "output_type": "stream",
     "text": [
      "(1095, 20) (1095,)\n",
      "(365, 20) (365,)\n"
     ]
    }
   ],
   "source": [
    "## Your code here\n",
    "from sklearn.model_selection import train_test_split\n",
    "X_train, X_test, y_train, y_test = train_test_split(X,y)\n",
    "print(X_train.shape, y_train.shape)\n",
    "print(X_test.shape, y_test.shape)"
   ]
  },
  {
   "cell_type": "markdown",
   "metadata": {},
   "source": [
    "It's time to actually build a model. Use sklearn.linear_model to train the model using the fit command. "
   ]
  },
  {
   "cell_type": "code",
   "execution_count": 26,
   "metadata": {},
   "outputs": [
    {
     "data": {
      "text/plain": [
       "LinearRegression(copy_X=True, fit_intercept=True, n_jobs=None,\n",
       "         normalize=False)"
      ]
     },
     "execution_count": 26,
     "metadata": {},
     "output_type": "execute_result"
    }
   ],
   "source": [
    "import sklearn.linear_model\n",
    "lr = sklearn.linear_model.LinearRegression()\n",
    "## Your code here\n",
    "lr.fit(X_train,y_train)"
   ]
  },
  {
   "cell_type": "markdown",
   "metadata": {},
   "source": [
    "Now use the model object returned to make predictions on your test set. Save them in a Series called y_true so you can use them later. "
   ]
  },
  {
   "cell_type": "code",
   "execution_count": 27,
   "metadata": {},
   "outputs": [
    {
     "name": "stdout",
     "output_type": "stream",
     "text": [
      "(365,)\n"
     ]
    }
   ],
   "source": [
    "## Your code here\n",
    "predictions = lr.predict(X_test)\n",
    "print(predictions.shape)"
   ]
  },
  {
   "cell_type": "markdown",
   "metadata": {},
   "source": [
    "Finally, let's score the model based on its r squared. You can use scikit learn's metrics.r2_score function to do this"
   ]
  },
  {
   "cell_type": "code",
   "execution_count": 28,
   "metadata": {},
   "outputs": [
    {
     "name": "stdout",
     "output_type": "stream",
     "text": [
      "0.7661225564190549\n"
     ]
    }
   ],
   "source": [
    "## Your code here (you can add more cells for this part if you would like)\n",
    "import sklearn.metrics\n",
    "print(sklearn.metrics.r2_score(y_test, predictions))"
   ]
  },
  {
   "cell_type": "markdown",
   "metadata": {},
   "source": [
    "Make a scatter plot of your predicted values (x axis) vs. the actual values (y axis). "
   ]
  },
  {
   "cell_type": "code",
   "execution_count": 1,
   "metadata": {},
   "outputs": [
    {
     "ename": "NameError",
     "evalue": "name 'plt' is not defined",
     "output_type": "error",
     "traceback": [
      "\u001b[0;31m---------------------------------------------------------------------------\u001b[0m",
      "\u001b[0;31mNameError\u001b[0m                                 Traceback (most recent call last)",
      "\u001b[0;32m<ipython-input-1-d273891a0950>\u001b[0m in \u001b[0;36m<module>\u001b[0;34m()\u001b[0m\n\u001b[1;32m      1\u001b[0m \u001b[0;31m##Your code here\u001b[0m\u001b[0;34m\u001b[0m\u001b[0;34m\u001b[0m\u001b[0;34m\u001b[0m\u001b[0m\n\u001b[0;32m----> 2\u001b[0;31m \u001b[0mplt\u001b[0m\u001b[0;34m.\u001b[0m\u001b[0mfigure\u001b[0m\u001b[0;34m(\u001b[0m\u001b[0mfigsize\u001b[0m\u001b[0;34m=\u001b[0m\u001b[0;34m(\u001b[0m\u001b[0;36m7\u001b[0m\u001b[0;34m,\u001b[0m\u001b[0;36m6\u001b[0m\u001b[0;34m)\u001b[0m\u001b[0;34m)\u001b[0m\u001b[0;34m\u001b[0m\u001b[0;34m\u001b[0m\u001b[0m\n\u001b[0m\u001b[1;32m      3\u001b[0m \u001b[0mplt\u001b[0m\u001b[0;34m.\u001b[0m\u001b[0mscatter\u001b[0m\u001b[0;34m(\u001b[0m\u001b[0mpredictions\u001b[0m\u001b[0;34m,\u001b[0m \u001b[0my_test\u001b[0m\u001b[0;34m,\u001b[0m \u001b[0ms\u001b[0m\u001b[0;34m=\u001b[0m\u001b[0;36m40\u001b[0m\u001b[0;34m)\u001b[0m\u001b[0;34m\u001b[0m\u001b[0;34m\u001b[0m\u001b[0m\n\u001b[1;32m      4\u001b[0m \u001b[0mplt\u001b[0m\u001b[0;34m.\u001b[0m\u001b[0mxlabel\u001b[0m\u001b[0;34m(\u001b[0m\u001b[0;34m\"Predicted Values\"\u001b[0m\u001b[0;34m,\u001b[0m \u001b[0mfontsize\u001b[0m\u001b[0;34m=\u001b[0m\u001b[0;36m18\u001b[0m\u001b[0;34m)\u001b[0m\u001b[0;34m\u001b[0m\u001b[0;34m\u001b[0m\u001b[0m\n\u001b[1;32m      5\u001b[0m \u001b[0mplt\u001b[0m\u001b[0;34m.\u001b[0m\u001b[0mylabel\u001b[0m\u001b[0;34m(\u001b[0m\u001b[0;34m\"True Values\"\u001b[0m\u001b[0;34m,\u001b[0m \u001b[0mfontsize\u001b[0m\u001b[0;34m=\u001b[0m\u001b[0;36m18\u001b[0m\u001b[0;34m)\u001b[0m\u001b[0;34m\u001b[0m\u001b[0;34m\u001b[0m\u001b[0m\n",
      "\u001b[0;31mNameError\u001b[0m: name 'plt' is not defined"
     ]
    }
   ],
   "source": [
    "##Your code here\n",
    "plt.figure(figsize=(7,6))\n",
    "plt.scatter(predictions, y_test, s=40)\n",
    "plt.xlabel(\"Predicted Values\", fontsize=18)\n",
    "plt.ylabel(\"True Values\", fontsize=18)\n",
    "plt.legend()"
   ]
  },
  {
   "cell_type": "markdown",
   "metadata": {},
   "source": [
    "At least in my case, my errors do not seem normally distributed. Particuarly, I seem to be consistently underestimating the price of houses that sold for over $300000. To see this more clearly I will plot residuals (error from the regression) against house price."
   ]
  },
  {
   "cell_type": "code",
   "execution_count": 30,
   "metadata": {},
   "outputs": [
    {
     "data": {
      "text/plain": [
       "<matplotlib.legend.Legend at 0x1a2320c6d8>"
      ]
     },
     "execution_count": 30,
     "metadata": {},
     "output_type": "execute_result"
    },
    {
     "name": "stderr",
     "output_type": "stream",
     "text": [
      "/Users/jguevara/miniconda3/lib/python3.6/site-packages/matplotlib/figure.py:2267: UserWarning: This figure includes Axes that are not compatible with tight_layout, so results might be incorrect.\n",
      "  warnings.warn(\"This figure includes Axes that are not compatible \"\n"
     ]
    },
    {
     "data": {
      "image/png": "[encoded data removed]",
      "text/plain": [
       "<Figure size 504x432 with 1 Axes>"
      ]
     },
     "metadata": {},
     "output_type": "display_data"
    }
   ],
   "source": [
    "##Your code here\n",
    "plt.figure(figsize=(7,6))\n",
    "plt.scatter(y_test, predictions - y_test, s=40)\n",
    "plt.xlabel(\"Housing Prices (\\$)\", fontsize=18)\n",
    "plt.ylabel(\"Residuals\", fontsize=18)\n",
    "plt.legend()"
   ]
  },
  {
   "cell_type": "markdown",
   "metadata": {},
   "source": [
    "Can you improve the model? Experiment with removing less relevant columns or adding additional features to see if you can improve the r squared as measured on the test set. We will explore more systematic ways of doing this later. "
   ]
  },
  {
   "cell_type": "code",
   "execution_count": 31,
   "metadata": {},
   "outputs": [],
   "source": [
    "#complete_housing_data = housing_data # Checkpoint\n",
    "housing_data = complete_housing_data # Going back before we transformed our data"
   ]
  },
  {
   "cell_type": "code",
   "execution_count": 32,
   "metadata": {},
   "outputs": [
    {
     "data": {
      "text/html": [
       "<div>\n",
       "<style scoped>\n",
       "    .dataframe tbody tr th:only-of-type {\n",
       "        vertical-align: middle;\n",
       "    }\n",
       "\n",
       "    .dataframe tbody tr th {\n",
       "        vertical-align: top;\n",
       "    }\n",
       "\n",
       "    .dataframe thead th {\n",
       "        text-align: right;\n",
       "    }\n",
       "</style>\n",
       "<table border=\"1\" class=\"dataframe\">\n",
       "  <thead>\n",
       "    <tr style=\"text-align: right;\">\n",
       "      <th></th>\n",
       "      <th>GrLivArea</th>\n",
       "      <th>LotArea</th>\n",
       "      <th>1stFlrSF</th>\n",
       "      <th>2ndFlrSF</th>\n",
       "    </tr>\n",
       "  </thead>\n",
       "  <tbody>\n",
       "    <tr>\n",
       "      <th>0</th>\n",
       "      <td>0.370207</td>\n",
       "      <td>-0.300120</td>\n",
       "      <td>-0.793162</td>\n",
       "      <td>1.161454</td>\n",
       "    </tr>\n",
       "    <tr>\n",
       "      <th>1</th>\n",
       "      <td>-0.482347</td>\n",
       "      <td>-0.099487</td>\n",
       "      <td>0.257052</td>\n",
       "      <td>-0.794891</td>\n",
       "    </tr>\n",
       "    <tr>\n",
       "      <th>2</th>\n",
       "      <td>0.514836</td>\n",
       "      <td>0.188378</td>\n",
       "      <td>-0.627611</td>\n",
       "      <td>1.188943</td>\n",
       "    </tr>\n",
       "    <tr>\n",
       "      <th>3</th>\n",
       "      <td>0.383528</td>\n",
       "      <td>-0.108210</td>\n",
       "      <td>-0.521555</td>\n",
       "      <td>0.936955</td>\n",
       "    </tr>\n",
       "    <tr>\n",
       "      <th>4</th>\n",
       "      <td>1.298881</td>\n",
       "      <td>0.713513</td>\n",
       "      <td>-0.045596</td>\n",
       "      <td>1.617323</td>\n",
       "    </tr>\n",
       "  </tbody>\n",
       "</table>\n",
       "</div>"
      ],
      "text/plain": [
       "   GrLivArea   LotArea  1stFlrSF  2ndFlrSF\n",
       "0   0.370207 -0.300120 -0.793162  1.161454\n",
       "1  -0.482347 -0.099487  0.257052 -0.794891\n",
       "2   0.514836  0.188378 -0.627611  1.188943\n",
       "3   0.383528 -0.108210 -0.521555  0.936955\n",
       "4   1.298881  0.713513 -0.045596  1.617323"
      ]
     },
     "execution_count": 32,
     "metadata": {},
     "output_type": "execute_result"
    }
   ],
   "source": [
    "### Your code here (you may add additional cells below this one if you desire)\n",
    "# Based on the correlation data, the age of a house showed the least correlation to its sale price\n",
    "# Therefore maybe if we remove it from our numerical data we'll get better correlated features\n",
    "\n",
    "## The lambda function shouldn't have changed therefore no need to recall it\n",
    "numerical_features = [\"GrLivArea\", \"LotArea\", \"1stFlrSF\", \"2ndFlrSF\"]\n",
    "housing_data[numerical_features] = housing_data[numerical_features].transform(lambda_func)\n",
    "housing_data[numerical_features].head()"
   ]
  },
  {
   "cell_type": "code",
   "execution_count": 33,
   "metadata": {},
   "outputs": [],
   "source": [
    "# Split out the home price\n",
    "y2 = housing_data['SalePrice']\n",
    "X2 = housing_data[housing_data.columns.difference(['SalePrice'])]"
   ]
  },
  {
   "cell_type": "code",
   "execution_count": 34,
   "metadata": {},
   "outputs": [],
   "source": [
    "# Split data into train and test sets\n",
    "X2_train, X2_test, y2_train, y2_test = train_test_split(X2,y2)"
   ]
  },
  {
   "cell_type": "code",
   "execution_count": 35,
   "metadata": {},
   "outputs": [
    {
     "data": {
      "text/plain": [
       "LinearRegression(copy_X=True, fit_intercept=True, n_jobs=None,\n",
       "         normalize=False)"
      ]
     },
     "execution_count": 35,
     "metadata": {},
     "output_type": "execute_result"
    }
   ],
   "source": [
    "# Train the model to fit into a linear regression\n",
    "lr = sklearn.linear_model.LinearRegression()\n",
    "lr.fit(X2_train,y2_train)"
   ]
  },
  {
   "cell_type": "code",
   "execution_count": 36,
   "metadata": {},
   "outputs": [],
   "source": [
    "# Generate predictions from our test set\n",
    "predictions2 = lr.predict(X2_test)"
   ]
  },
  {
   "cell_type": "code",
   "execution_count": 37,
   "metadata": {},
   "outputs": [
    {
     "name": "stdout",
     "output_type": "stream",
     "text": [
      "0.5853677791969438\n"
     ]
    }
   ],
   "source": [
    "# Check the score of our model\n",
    "print(sklearn.metrics.r2_score(y2_test, predictions2))"
   ]
  },
  {
   "cell_type": "markdown",
   "metadata": {},
   "source": [
    "JG: Just by looking at the new score, it seems that removing the age of the house may not have improved our model."
   ]
  },
  {
   "cell_type": "code",
   "execution_count": 38,
   "metadata": {},
   "outputs": [
    {
     "data": {
      "text/plain": [
       "<matplotlib.legend.Legend at 0x1a23277c50>"
      ]
     },
     "execution_count": 38,
     "metadata": {},
     "output_type": "execute_result"
    },
    {
     "name": "stderr",
     "output_type": "stream",
     "text": [
      "/Users/jguevara/miniconda3/lib/python3.6/site-packages/matplotlib/figure.py:2267: UserWarning: This figure includes Axes that are not compatible with tight_layout, so results might be incorrect.\n",
      "  warnings.warn(\"This figure includes Axes that are not compatible \"\n"
     ]
    },
    {
     "data": {
      "image/png": "[encoded data removed]",
      "text/plain": [
       "<Figure size 504x432 with 1 Axes>"
      ]
     },
     "metadata": {},
     "output_type": "display_data"
    }
   ],
   "source": [
    "# Plot the results to visually check our results\n",
    "plt.figure(figsize=(7,6))\n",
    "plt.scatter(predictions2, y2_test, s=40)\n",
    "plt.xlabel(\"Predicted Values\", fontsize=18)\n",
    "plt.ylabel(\"True Values\", fontsize=18)\n",
    "plt.legend()"
   ]
  },
  {
   "cell_type": "code",
   "execution_count": 39,
   "metadata": {
    "scrolled": false
   },
   "outputs": [
    {
     "data": {
      "text/plain": [
       "<matplotlib.legend.Legend at 0x1a2338d160>"
      ]
     },
     "execution_count": 39,
     "metadata": {},
     "output_type": "execute_result"
    },
    {
     "name": "stderr",
     "output_type": "stream",
     "text": [
      "/Users/jguevara/miniconda3/lib/python3.6/site-packages/matplotlib/figure.py:2267: UserWarning: This figure includes Axes that are not compatible with tight_layout, so results might be incorrect.\n",
      "  warnings.warn(\"This figure includes Axes that are not compatible \"\n"
     ]
    },
    {
     "data": {
      "image/png": "[encoded data removed]",
      "text/plain": [
       "<Figure size 504x432 with 1 Axes>"
      ]
     },
     "metadata": {},
     "output_type": "display_data"
    }
   ],
   "source": [
    "# Check the residuals \n",
    "plt.figure(figsize=(7,6))\n",
    "plt.scatter(y2_test, predictions2 - y2_test, s=40)\n",
    "plt.xlabel(\"Housing Prices (\\$)\", fontsize=18)\n",
    "plt.ylabel(\"Residuals\", fontsize=18)\n",
    "plt.legend()"
   ]
  },
  {
   "cell_type": "markdown",
   "metadata": {},
   "source": [
    "JG: Interestingly enough, the residual plot shows that we have had a slight decay of our model"
   ]
  },
  {
   "cell_type": "code",
   "execution_count": 40,
   "metadata": {},
   "outputs": [],
   "source": [
    "housing_data = complete_housing_data # Going back before we transformed our data"
   ]
  },
  {
   "cell_type": "code",
   "execution_count": 41,
   "metadata": {},
   "outputs": [
    {
     "data": {
      "text/html": [
       "<div>\n",
       "<style scoped>\n",
       "    .dataframe tbody tr th:only-of-type {\n",
       "        vertical-align: middle;\n",
       "    }\n",
       "\n",
       "    .dataframe tbody tr th {\n",
       "        vertical-align: top;\n",
       "    }\n",
       "\n",
       "    .dataframe thead th {\n",
       "        text-align: right;\n",
       "    }\n",
       "</style>\n",
       "<table border=\"1\" class=\"dataframe\">\n",
       "  <thead>\n",
       "    <tr style=\"text-align: right;\">\n",
       "      <th></th>\n",
       "      <th>GrLivArea</th>\n",
       "      <th>GarageCars</th>\n",
       "      <th>LotArea</th>\n",
       "      <th>1stFlrSF</th>\n",
       "      <th>2ndFlrSF</th>\n",
       "    </tr>\n",
       "  </thead>\n",
       "  <tbody>\n",
       "    <tr>\n",
       "      <th>0</th>\n",
       "      <td>0.370207</td>\n",
       "      <td>0.311618</td>\n",
       "      <td>-0.300120</td>\n",
       "      <td>-0.793162</td>\n",
       "      <td>1.161454</td>\n",
       "    </tr>\n",
       "    <tr>\n",
       "      <th>1</th>\n",
       "      <td>-0.482347</td>\n",
       "      <td>0.311618</td>\n",
       "      <td>-0.099487</td>\n",
       "      <td>0.257052</td>\n",
       "      <td>-0.794891</td>\n",
       "    </tr>\n",
       "    <tr>\n",
       "      <th>2</th>\n",
       "      <td>0.514836</td>\n",
       "      <td>0.311618</td>\n",
       "      <td>0.188378</td>\n",
       "      <td>-0.627611</td>\n",
       "      <td>1.188943</td>\n",
       "    </tr>\n",
       "    <tr>\n",
       "      <th>3</th>\n",
       "      <td>0.383528</td>\n",
       "      <td>1.649742</td>\n",
       "      <td>-0.108210</td>\n",
       "      <td>-0.521555</td>\n",
       "      <td>0.936955</td>\n",
       "    </tr>\n",
       "    <tr>\n",
       "      <th>4</th>\n",
       "      <td>1.298881</td>\n",
       "      <td>1.649742</td>\n",
       "      <td>0.713513</td>\n",
       "      <td>-0.045596</td>\n",
       "      <td>1.617323</td>\n",
       "    </tr>\n",
       "  </tbody>\n",
       "</table>\n",
       "</div>"
      ],
      "text/plain": [
       "   GrLivArea  GarageCars   LotArea  1stFlrSF  2ndFlrSF\n",
       "0   0.370207    0.311618 -0.300120 -0.793162  1.161454\n",
       "1  -0.482347    0.311618 -0.099487  0.257052 -0.794891\n",
       "2   0.514836    0.311618  0.188378 -0.627611  1.188943\n",
       "3   0.383528    1.649742 -0.108210 -0.521555  0.936955\n",
       "4   1.298881    1.649742  0.713513 -0.045596  1.617323"
      ]
     },
     "execution_count": 41,
     "metadata": {},
     "output_type": "execute_result"
    }
   ],
   "source": [
    "# Another previous observation is that garage size affected price (or seemed to)\n",
    "# Therefore maybe if we add GarageCars from our numerical data we'll get better correlated features\n",
    "numerical_features = [\"GrLivArea\", \"GarageCars\", \"LotArea\", \"1stFlrSF\", \"2ndFlrSF\"]\n",
    "housing_data[numerical_features] = housing_data[numerical_features].transform(lambda_func)\n",
    "housing_data[numerical_features].head()"
   ]
  },
  {
   "cell_type": "code",
   "execution_count": 42,
   "metadata": {},
   "outputs": [],
   "source": [
    "# Split out the home price\n",
    "y3 = housing_data['SalePrice']\n",
    "X3 = housing_data[housing_data.columns.difference(['SalePrice'])]"
   ]
  },
  {
   "cell_type": "code",
   "execution_count": 43,
   "metadata": {},
   "outputs": [],
   "source": [
    "# Split data into train and test sets\n",
    "X3_train, X3_test, y3_train, y3_test = train_test_split(X3,y3)"
   ]
  },
  {
   "cell_type": "code",
   "execution_count": 44,
   "metadata": {},
   "outputs": [
    {
     "data": {
      "text/plain": [
       "LinearRegression(copy_X=True, fit_intercept=True, n_jobs=None,\n",
       "         normalize=False)"
      ]
     },
     "execution_count": 44,
     "metadata": {},
     "output_type": "execute_result"
    }
   ],
   "source": [
    "# Train the model to fit into a linear regression\n",
    "lr = sklearn.linear_model.LinearRegression()\n",
    "lr.fit(X3_train,y3_train)"
   ]
  },
  {
   "cell_type": "code",
   "execution_count": 45,
   "metadata": {},
   "outputs": [],
   "source": [
    "# Generate predictions from our test set\n",
    "predictions3 = lr.predict(X3_test)"
   ]
  },
  {
   "cell_type": "code",
   "execution_count": 46,
   "metadata": {},
   "outputs": [
    {
     "name": "stdout",
     "output_type": "stream",
     "text": [
      "0.7535417377649967\n"
     ]
    }
   ],
   "source": [
    "# Check the score of our model\n",
    "print(sklearn.metrics.r2_score(y3_test, predictions3))"
   ]
  },
  {
   "cell_type": "code",
   "execution_count": 47,
   "metadata": {},
   "outputs": [
    {
     "data": {
      "text/plain": [
       "<matplotlib.legend.Legend at 0x1a234afda0>"
      ]
     },
     "execution_count": 47,
     "metadata": {},
     "output_type": "execute_result"
    },
    {
     "name": "stderr",
     "output_type": "stream",
     "text": [
      "/Users/jguevara/miniconda3/lib/python3.6/site-packages/matplotlib/figure.py:2267: UserWarning: This figure includes Axes that are not compatible with tight_layout, so results might be incorrect.\n",
      "  warnings.warn(\"This figure includes Axes that are not compatible \"\n"
     ]
    },
    {
     "data": {
      "image/png": "[encoded data removed]",
      "text/plain": [
       "<Figure size 576x432 with 1 Axes>"
      ]
     },
     "metadata": {},
     "output_type": "display_data"
    }
   ],
   "source": [
    "# Plot the results to visually check our results\n",
    "plt.figure(figsize=(8,6))\n",
    "plt.scatter(predictions3, y3_test, s=40)\n",
    "plt.xlabel(\"Predicted Values\", fontsize=18)\n",
    "plt.ylabel(\"True Values\", fontsize=18)\n",
    "plt.legend()"
   ]
  },
  {
   "cell_type": "code",
   "execution_count": 48,
   "metadata": {},
   "outputs": [
    {
     "data": {
      "text/plain": [
       "<matplotlib.legend.Legend at 0x1a235f08d0>"
      ]
     },
     "execution_count": 48,
     "metadata": {},
     "output_type": "execute_result"
    },
    {
     "name": "stderr",
     "output_type": "stream",
     "text": [
      "/Users/jguevara/miniconda3/lib/python3.6/site-packages/matplotlib/figure.py:2267: UserWarning: This figure includes Axes that are not compatible with tight_layout, so results might be incorrect.\n",
      "  warnings.warn(\"This figure includes Axes that are not compatible \"\n"
     ]
    },
    {
     "data": {
      "image/png": "[encoded data removed]",
      "text/plain": [
       "<Figure size 504x432 with 1 Axes>"
      ]
     },
     "metadata": {},
     "output_type": "display_data"
    }
   ],
   "source": [
    "# Check the residuals \n",
    "plt.figure(figsize=(7,6))\n",
    "plt.scatter(y3_test, predictions3 - y3_test, s=40)\n",
    "plt.xlabel(\"Housing Prices (\\$)\", fontsize=18)\n",
    "plt.ylabel(\"Residuals\", fontsize=18)\n",
    "plt.legend()"
   ]
  },
  {
   "cell_type": "markdown",
   "metadata": {},
   "source": [
    "JG: Our model has improved (?) as our residuals seemed diminished"
   ]
  },
  {
   "cell_type": "code",
   "execution_count": 49,
   "metadata": {
    "scrolled": false
   },
   "outputs": [
    {
     "data": {
      "text/plain": [
       "<matplotlib.legend.Legend at 0x1a23855cc0>"
      ]
     },
     "execution_count": 49,
     "metadata": {},
     "output_type": "execute_result"
    },
    {
     "name": "stderr",
     "output_type": "stream",
     "text": [
      "/Users/jguevara/miniconda3/lib/python3.6/site-packages/matplotlib/figure.py:2267: UserWarning: This figure includes Axes that are not compatible with tight_layout, so results might be incorrect.\n",
      "  warnings.warn(\"This figure includes Axes that are not compatible \"\n"
     ]
    },
    {
     "data": {
      "image/png": "[encoded data removed]",
      "text/plain": [
       "<Figure size 504x432 with 1 Axes>"
      ]
     },
     "metadata": {},
     "output_type": "display_data"
    }
   ],
   "source": [
    "# Plot all three of our previous models\n",
    "plt.figure(figsize=(7,6))\n",
    "plt.scatter(predictions, y_test, s=40, label=\"w/ Age\")\n",
    "plt.scatter(predictions2, y2_test, s=40, alpha=0.75, label=\"w/o Age\")\n",
    "plt.scatter(predictions3, y3_test, s=40, alpha=0.5, label=\"w/o Age, w/ Garage Size\")\n",
    "plt.xlabel(\"Housing Prices (\\$)\", fontsize=18)\n",
    "plt.ylabel(\"Residuals\", fontsize=18)\n",
    "plt.legend()"
   ]
  },
  {
   "cell_type": "code",
   "execution_count": 50,
   "metadata": {},
   "outputs": [
    {
     "data": {
      "text/plain": [
       "<matplotlib.legend.Legend at 0x1a237242b0>"
      ]
     },
     "execution_count": 50,
     "metadata": {},
     "output_type": "execute_result"
    },
    {
     "name": "stderr",
     "output_type": "stream",
     "text": [
      "/Users/jguevara/miniconda3/lib/python3.6/site-packages/matplotlib/figure.py:2267: UserWarning: This figure includes Axes that are not compatible with tight_layout, so results might be incorrect.\n",
      "  warnings.warn(\"This figure includes Axes that are not compatible \"\n"
     ]
    },
    {
     "data": {
      "image/png": "[encoded data removed]",
      "text/plain": [
       "<Figure size 504x432 with 1 Axes>"
      ]
     },
     "metadata": {},
     "output_type": "display_data"
    }
   ],
   "source": [
    "# Compare their residuals\n",
    "plt.figure(figsize=(7,6))\n",
    "plt.scatter(y_test, predictions - y_test, s=40, label=\"w/ Age\")\n",
    "plt.scatter(y2_test, predictions2 - y2_test, s=40, alpha=0.75, label=\"w/o Age\")\n",
    "plt.scatter(y3_test, predictions3 - y3_test, s=40, alpha=0.5, label=\"w/o Age, w/ Garage Size\")\n",
    "plt.xlabel(\"Housing Prices (\\$)\", fontsize=18)\n",
    "plt.ylabel(\"Residuals\", fontsize=18)\n",
    "plt.legend()"
   ]
  },
  {
   "cell_type": "markdown",
   "metadata": {},
   "source": [
    "JG: Seems that when we removed Age our model worsened, but once we added the garage size it became better"
   ]
  },
  {
   "cell_type": "code",
   "execution_count": 51,
   "metadata": {},
   "outputs": [],
   "source": [
    "housing_data = complete_housing_data # Going back before we transformed our data"
   ]
  },
  {
   "cell_type": "code",
   "execution_count": 52,
   "metadata": {},
   "outputs": [
    {
     "data": {
      "text/html": [
       "<div>\n",
       "<style scoped>\n",
       "    .dataframe tbody tr th:only-of-type {\n",
       "        vertical-align: middle;\n",
       "    }\n",
       "\n",
       "    .dataframe tbody tr th {\n",
       "        vertical-align: top;\n",
       "    }\n",
       "\n",
       "    .dataframe thead th {\n",
       "        text-align: right;\n",
       "    }\n",
       "</style>\n",
       "<table border=\"1\" class=\"dataframe\">\n",
       "  <thead>\n",
       "    <tr style=\"text-align: right;\">\n",
       "      <th></th>\n",
       "      <th>GrLivArea</th>\n",
       "      <th>GarageCars</th>\n",
       "      <th>FullBath</th>\n",
       "      <th>LotArea</th>\n",
       "      <th>1stFlrSF</th>\n",
       "      <th>2ndFlrSF</th>\n",
       "    </tr>\n",
       "  </thead>\n",
       "  <tbody>\n",
       "    <tr>\n",
       "      <th>0</th>\n",
       "      <td>0.370207</td>\n",
       "      <td>0.311618</td>\n",
       "      <td>0.789470</td>\n",
       "      <td>-0.300120</td>\n",
       "      <td>-0.793162</td>\n",
       "      <td>1.161454</td>\n",
       "    </tr>\n",
       "    <tr>\n",
       "      <th>1</th>\n",
       "      <td>-0.482347</td>\n",
       "      <td>0.311618</td>\n",
       "      <td>0.789470</td>\n",
       "      <td>-0.099487</td>\n",
       "      <td>0.257052</td>\n",
       "      <td>-0.794891</td>\n",
       "    </tr>\n",
       "    <tr>\n",
       "      <th>2</th>\n",
       "      <td>0.514836</td>\n",
       "      <td>0.311618</td>\n",
       "      <td>0.789470</td>\n",
       "      <td>0.188378</td>\n",
       "      <td>-0.627611</td>\n",
       "      <td>1.188943</td>\n",
       "    </tr>\n",
       "    <tr>\n",
       "      <th>3</th>\n",
       "      <td>0.383528</td>\n",
       "      <td>1.649742</td>\n",
       "      <td>-1.025689</td>\n",
       "      <td>-0.108210</td>\n",
       "      <td>-0.521555</td>\n",
       "      <td>0.936955</td>\n",
       "    </tr>\n",
       "    <tr>\n",
       "      <th>4</th>\n",
       "      <td>1.298881</td>\n",
       "      <td>1.649742</td>\n",
       "      <td>0.789470</td>\n",
       "      <td>0.713513</td>\n",
       "      <td>-0.045596</td>\n",
       "      <td>1.617323</td>\n",
       "    </tr>\n",
       "  </tbody>\n",
       "</table>\n",
       "</div>"
      ],
      "text/plain": [
       "   GrLivArea  GarageCars  FullBath   LotArea  1stFlrSF  2ndFlrSF\n",
       "0   0.370207    0.311618  0.789470 -0.300120 -0.793162  1.161454\n",
       "1  -0.482347    0.311618  0.789470 -0.099487  0.257052 -0.794891\n",
       "2   0.514836    0.311618  0.789470  0.188378 -0.627611  1.188943\n",
       "3   0.383528    1.649742 -1.025689 -0.108210 -0.521555  0.936955\n",
       "4   1.298881    1.649742  0.789470  0.713513 -0.045596  1.617323"
      ]
     },
     "execution_count": 52,
     "metadata": {},
     "output_type": "execute_result"
    }
   ],
   "source": [
    "# A last observation: FullBath had a high correlation to SalePrice\n",
    "numerical_features = [\"GrLivArea\", \"GarageCars\", \"FullBath\", \"LotArea\", \"1stFlrSF\", \"2ndFlrSF\"]\n",
    "housing_data[numerical_features] = housing_data[numerical_features].transform(lambda_func)\n",
    "housing_data[numerical_features].head()"
   ]
  },
  {
   "cell_type": "code",
   "execution_count": 53,
   "metadata": {},
   "outputs": [],
   "source": [
    "# Split out the home price\n",
    "y4 = housing_data['SalePrice']\n",
    "X4 = housing_data[housing_data.columns.difference(['SalePrice'])]"
   ]
  },
  {
   "cell_type": "code",
   "execution_count": 54,
   "metadata": {},
   "outputs": [],
   "source": [
    "# Split data into train and test sets\n",
    "X4_train, X4_test, y4_train, y4_test = train_test_split(X4,y4)"
   ]
  },
  {
   "cell_type": "code",
   "execution_count": 55,
   "metadata": {},
   "outputs": [
    {
     "data": {
      "text/plain": [
       "LinearRegression(copy_X=True, fit_intercept=True, n_jobs=None,\n",
       "         normalize=False)"
      ]
     },
     "execution_count": 55,
     "metadata": {},
     "output_type": "execute_result"
    }
   ],
   "source": [
    "# Train the model to fit into a linear regression\n",
    "lr = sklearn.linear_model.LinearRegression()\n",
    "lr.fit(X4_train,y4_train)"
   ]
  },
  {
   "cell_type": "code",
   "execution_count": 56,
   "metadata": {},
   "outputs": [],
   "source": [
    "# Generate predictions from our test set\n",
    "predictions4 = lr.predict(X4_test)"
   ]
  },
  {
   "cell_type": "code",
   "execution_count": 57,
   "metadata": {},
   "outputs": [
    {
     "name": "stdout",
     "output_type": "stream",
     "text": [
      "0.7087074124233543\n"
     ]
    }
   ],
   "source": [
    "# Check the score of our model\n",
    "print(sklearn.metrics.r2_score(y4_test, predictions4))"
   ]
  },
  {
   "cell_type": "code",
   "execution_count": 58,
   "metadata": {},
   "outputs": [
    {
     "data": {
      "text/plain": [
       "<matplotlib.legend.Legend at 0x1a23a95cf8>"
      ]
     },
     "execution_count": 58,
     "metadata": {},
     "output_type": "execute_result"
    },
    {
     "name": "stderr",
     "output_type": "stream",
     "text": [
      "/Users/jguevara/miniconda3/lib/python3.6/site-packages/matplotlib/figure.py:2267: UserWarning: This figure includes Axes that are not compatible with tight_layout, so results might be incorrect.\n",
      "  warnings.warn(\"This figure includes Axes that are not compatible \"\n"
     ]
    },
    {
     "data": {
      "image/png": "[encoded data removed]",
      "text/plain": [
       "<Figure size 504x432 with 1 Axes>"
      ]
     },
     "metadata": {},
     "output_type": "display_data"
    }
   ],
   "source": [
    "# Plot the results to visually check our results\n",
    "plt.figure(figsize=(7,6))\n",
    "plt.scatter(predictions4, y4_test, s=40)\n",
    "plt.xlabel(\"Predicted Values\", fontsize=18)\n",
    "plt.ylabel(\"True Values\", fontsize=18)\n",
    "plt.legend()"
   ]
  },
  {
   "cell_type": "code",
   "execution_count": 59,
   "metadata": {},
   "outputs": [
    {
     "data": {
      "text/plain": [
       "<matplotlib.legend.Legend at 0x1a23ac3f98>"
      ]
     },
     "execution_count": 59,
     "metadata": {},
     "output_type": "execute_result"
    },
    {
     "name": "stderr",
     "output_type": "stream",
     "text": [
      "/Users/jguevara/miniconda3/lib/python3.6/site-packages/matplotlib/figure.py:2267: UserWarning: This figure includes Axes that are not compatible with tight_layout, so results might be incorrect.\n",
      "  warnings.warn(\"This figure includes Axes that are not compatible \"\n"
     ]
    },
    {
     "data": {
      "image/png": "[encoded data removed]",
      "text/plain": [
       "<Figure size 504x432 with 1 Axes>"
      ]
     },
     "metadata": {},
     "output_type": "display_data"
    }
   ],
   "source": [
    "# Check the residuals \n",
    "plt.figure(figsize=(7,6))\n",
    "plt.scatter(y4_test, predictions4 - y4_test, s=40)\n",
    "plt.xlabel(\"Housing Prices (\\$)\", fontsize=18)\n",
    "plt.ylabel(\"Residuals\", fontsize=18)\n",
    "plt.legend()"
   ]
  },
  {
   "cell_type": "code",
   "execution_count": 60,
   "metadata": {
    "scrolled": false
   },
   "outputs": [
    {
     "data": {
      "text/plain": [
       "<matplotlib.legend.Legend at 0x1a23d13f60>"
      ]
     },
     "execution_count": 60,
     "metadata": {},
     "output_type": "execute_result"
    },
    {
     "name": "stderr",
     "output_type": "stream",
     "text": [
      "/Users/jguevara/miniconda3/lib/python3.6/site-packages/matplotlib/figure.py:2267: UserWarning: This figure includes Axes that are not compatible with tight_layout, so results might be incorrect.\n",
      "  warnings.warn(\"This figure includes Axes that are not compatible \"\n"
     ]
    },
    {
     "data": {
      "image/png": "[encoded data removed]",
      "text/plain": [
       "<Figure size 504x432 with 1 Axes>"
      ]
     },
     "metadata": {},
     "output_type": "display_data"
    }
   ],
   "source": [
    "# Plot all of our models\n",
    "plt.figure(figsize=(7,6))\n",
    "plt.scatter(predictions, y_test, s=40, marker='o', label=\"w/ Age\")\n",
    "plt.scatter(predictions2, y2_test, s=40, alpha=0.75, marker='s', label=\"w/o Age\")\n",
    "plt.scatter(predictions3, y3_test, s=40, alpha=0.75, marker='D', label=\"w/o Age, w/ Garage Size\")\n",
    "plt.scatter(predictions4, y4_test, s=40, alpha=0.75, marker='^', label=\"w/o Age, w/ Garage Size & Full Bath\")\n",
    "plt.xlabel(\"Housing Prices (\\$)\", fontsize=18)\n",
    "plt.ylabel(\"Residuals\", fontsize=18)\n",
    "plt.legend()"
   ]
  },
  {
   "cell_type": "code",
   "execution_count": 61,
   "metadata": {},
   "outputs": [
    {
     "data": {
      "text/plain": [
       "<matplotlib.legend.Legend at 0x1a23df69e8>"
      ]
     },
     "execution_count": 61,
     "metadata": {},
     "output_type": "execute_result"
    },
    {
     "name": "stderr",
     "output_type": "stream",
     "text": [
      "/Users/jguevara/miniconda3/lib/python3.6/site-packages/matplotlib/figure.py:2267: UserWarning: This figure includes Axes that are not compatible with tight_layout, so results might be incorrect.\n",
      "  warnings.warn(\"This figure includes Axes that are not compatible \"\n"
     ]
    },
    {
     "data": {
      "image/png": "[encoded data removed]",
      "text/plain": [
       "<Figure size 504x432 with 1 Axes>"
      ]
     },
     "metadata": {},
     "output_type": "display_data"
    }
   ],
   "source": [
    "# Compare residuals\n",
    "plt.figure(figsize=(7,6))\n",
    "plt.scatter(y_test, predictions - y_test, s=40, alpha=0.75, marker='o', label=\"w/ Age\")\n",
    "plt.scatter(y2_test, predictions2 - y2_test, s=40, alpha=0.75, marker='s', label=\"w/o Age\")\n",
    "plt.scatter(y3_test, predictions3 - y3_test, s=40, alpha=0.75, marker='D', label=\"w/o Age, w/ Garage Size\")\n",
    "plt.scatter(y4_test, predictions4 - y4_test, s=40, alpha=0.75, marker='^', label=\"w/o Age, w/ Garage Size & Full Bath\")\n",
    "plt.xlabel(\"Housing Prices (\\$)\", fontsize=18)\n",
    "plt.ylabel(\"Residuals\", fontsize=18)\n",
    "plt.legend()"
   ]
  },
  {
   "cell_type": "markdown",
   "metadata": {},
   "source": [
    "JG: It seems that the addition of FullBath has improved the model yet again. Maybe there's a correlation between adding in columns that have more correlation to our feature of interest and improvement of the model?"
   ]
  },
  {
   "cell_type": "markdown",
   "metadata": {},
   "source": [
    "If you were actually a data scientist working on this problem, what would your thoughts on this model be? What are the top three things you would prioritize working on or doing to make it better?"
   ]
  },
  {
   "cell_type": "markdown",
   "metadata": {},
   "source": [
    "<p style='color:#ee5500'>\n",
    "1. Remove the age of the house from the numerical data, just because the correlation of \n",
    "   YearsOld and SalePrice is pretty far removed\n",
    "    <br/><br/>\n",
    "2 & 3. Adding columns that more closely correlate to SalePrice to the numerical data we want to \n",
    "       transform\n",
    "</p>"
   ]
  },
  {
   "cell_type": "markdown",
   "metadata": {},
   "source": [
    "Finally, some feedback....What did you like about this assignment and what questions or concerns do you have about it?"
   ]
  },
  {
   "cell_type": "markdown",
   "metadata": {},
   "source": [
    "<p style='color:#ee5500'>I really liked this format for the assignments, it teaches you concepts while at the same time not giving you the answer (which I feel helps to reinforce the concept if I have to go search for the answer, but at least have some sort of guidance for where to begin). I'd have to say though that there were areas were I got tricked, mostly when we were doing the encodings (for the longest time I thought that we had to use get_dummies and it took far longer than it really should have). Overall, I'd say this is a good way to go!</p>"
   ]
  },
  {
   "cell_type": "markdown",
   "metadata": {},
   "source": []
  }
 ],
 "metadata": {
  "kernelspec": {
   "display_name": "Python 3",
   "language": "python",
   "name": "python3"
  },
  "language_info": {
   "codemirror_mode": {
    "name": "ipython",
    "version": 3
   },
   "file_extension": ".py",
   "mimetype": "text/x-python",
   "name": "python",
   "nbconvert_exporter": "python",
   "pygments_lexer": "ipython3",
   "version": "3.6.8"
  }
 },
 "nbformat": 4,
 "nbformat_minor": 2
}
