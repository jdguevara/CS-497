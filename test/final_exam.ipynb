{
 "cells": [
  {
   "cell_type": "code",
   "execution_count": 1,
   "metadata": {},
   "outputs": [
    {
     "name": "stderr",
     "output_type": "stream",
     "text": [
      "Using TensorFlow backend.\n"
     ]
    }
   ],
   "source": [
    "import pandas as pd\n",
    "import numpy as np\n",
    "from sklearn.linear_model import LinearRegression\n",
    "from matplotlib import pyplot as plt\n",
    "from sklearn.metrics import mean_squared_error, accuracy_score, roc_auc_score\n",
    "from sklearn.model_selection import train_test_split\n",
    "from keras.layers import Dense, Dropout, Conv2D, LSTM, MaxPooling2D, Flatten\n",
    "from keras.models import Sequential\n",
    "from keras.utils import to_categorical\n",
    "\n",
    "##Example usages for your reference\n",
    "\n",
    "#model.add(Dense(32, activation = \"relu\"))\n",
    "#model.compile(optimizer=\"Adam\", loss=\"\", metrics=[]) metrics can be \"accuracy\", \"mse\"; loss can be 'mse', \n",
    "#'binary_crossentropy', 'categorical_crossentropy'\n",
    "#model.fit(x=None, y=None, batch_size=None, epochs=1, verbose=1, callbacks=None, validation_split=0.0, validation_data=None, shuffle=True, class_weight=None, sample_weight=None, initial_epoch=0, steps_per_epoch=None, validation_steps=None, validation_freq=1)\n",
    "#X_train, x_test, y_train, y_test = train_test_split(X_total, y)\n",
    "#lr = LinearRegression()\n",
    "#lr.fit()\n",
    "#lr.predict()\n",
    "\n"
   ]
  },
  {
   "cell_type": "markdown",
   "metadata": {},
   "source": [
    "## 1) Wine Problem (45 points). \n",
    "\n",
    "Your goal is to predict the quality score of a wine based on its characterisitcs. There are a few approaches to this problem. Let’s start by treating quality score as if it is a continuous value so we can use our old friend, linear regression.  Preprocess the data below to make it work well with linear regression and split it into train and test sets (X and Y) (5 points). \n"
   ]
  },
  {
   "cell_type": "code",
   "execution_count": 75,
   "metadata": {},
   "outputs": [],
   "source": [
    "wine  = pd.read_csv(\"winequality-red.csv\", sep=\";\") #Modify here to read in your file"
   ]
  },
  {
   "cell_type": "code",
   "execution_count": 76,
   "metadata": {
    "scrolled": true
   },
   "outputs": [
    {
     "data": {
      "text/html": [
       "<div>\n",
       "<style scoped>\n",
       "    .dataframe tbody tr th:only-of-type {\n",
       "        vertical-align: middle;\n",
       "    }\n",
       "\n",
       "    .dataframe tbody tr th {\n",
       "        vertical-align: top;\n",
       "    }\n",
       "\n",
       "    .dataframe thead th {\n",
       "        text-align: right;\n",
       "    }\n",
       "</style>\n",
       "<table border=\"1\" class=\"dataframe\">\n",
       "  <thead>\n",
       "    <tr style=\"text-align: right;\">\n",
       "      <th></th>\n",
       "      <th>fixed acidity</th>\n",
       "      <th>volatile acidity</th>\n",
       "      <th>citric acid</th>\n",
       "      <th>residual sugar</th>\n",
       "      <th>chlorides</th>\n",
       "      <th>free sulfur dioxide</th>\n",
       "      <th>total sulfur dioxide</th>\n",
       "      <th>density</th>\n",
       "      <th>pH</th>\n",
       "      <th>sulphates</th>\n",
       "      <th>alcohol</th>\n",
       "      <th>quality</th>\n",
       "    </tr>\n",
       "  </thead>\n",
       "  <tbody>\n",
       "    <tr>\n",
       "      <th>count</th>\n",
       "      <td>1599.000000</td>\n",
       "      <td>1599.000000</td>\n",
       "      <td>1599.000000</td>\n",
       "      <td>1599.000000</td>\n",
       "      <td>1599.000000</td>\n",
       "      <td>1599.000000</td>\n",
       "      <td>1599.000000</td>\n",
       "      <td>1599.000000</td>\n",
       "      <td>1599.000000</td>\n",
       "      <td>1599.000000</td>\n",
       "      <td>1599.000000</td>\n",
       "      <td>1599.000000</td>\n",
       "    </tr>\n",
       "    <tr>\n",
       "      <th>mean</th>\n",
       "      <td>8.319637</td>\n",
       "      <td>0.527821</td>\n",
       "      <td>0.270976</td>\n",
       "      <td>2.538806</td>\n",
       "      <td>0.087467</td>\n",
       "      <td>15.874922</td>\n",
       "      <td>46.467792</td>\n",
       "      <td>0.996747</td>\n",
       "      <td>3.311113</td>\n",
       "      <td>0.658149</td>\n",
       "      <td>10.422983</td>\n",
       "      <td>5.636023</td>\n",
       "    </tr>\n",
       "    <tr>\n",
       "      <th>std</th>\n",
       "      <td>1.741096</td>\n",
       "      <td>0.179060</td>\n",
       "      <td>0.194801</td>\n",
       "      <td>1.409928</td>\n",
       "      <td>0.047065</td>\n",
       "      <td>10.460157</td>\n",
       "      <td>32.895324</td>\n",
       "      <td>0.001887</td>\n",
       "      <td>0.154386</td>\n",
       "      <td>0.169507</td>\n",
       "      <td>1.065668</td>\n",
       "      <td>0.807569</td>\n",
       "    </tr>\n",
       "    <tr>\n",
       "      <th>min</th>\n",
       "      <td>4.600000</td>\n",
       "      <td>0.120000</td>\n",
       "      <td>0.000000</td>\n",
       "      <td>0.900000</td>\n",
       "      <td>0.012000</td>\n",
       "      <td>1.000000</td>\n",
       "      <td>6.000000</td>\n",
       "      <td>0.990070</td>\n",
       "      <td>2.740000</td>\n",
       "      <td>0.330000</td>\n",
       "      <td>8.400000</td>\n",
       "      <td>3.000000</td>\n",
       "    </tr>\n",
       "    <tr>\n",
       "      <th>25%</th>\n",
       "      <td>7.100000</td>\n",
       "      <td>0.390000</td>\n",
       "      <td>0.090000</td>\n",
       "      <td>1.900000</td>\n",
       "      <td>0.070000</td>\n",
       "      <td>7.000000</td>\n",
       "      <td>22.000000</td>\n",
       "      <td>0.995600</td>\n",
       "      <td>3.210000</td>\n",
       "      <td>0.550000</td>\n",
       "      <td>9.500000</td>\n",
       "      <td>5.000000</td>\n",
       "    </tr>\n",
       "    <tr>\n",
       "      <th>50%</th>\n",
       "      <td>7.900000</td>\n",
       "      <td>0.520000</td>\n",
       "      <td>0.260000</td>\n",
       "      <td>2.200000</td>\n",
       "      <td>0.079000</td>\n",
       "      <td>14.000000</td>\n",
       "      <td>38.000000</td>\n",
       "      <td>0.996750</td>\n",
       "      <td>3.310000</td>\n",
       "      <td>0.620000</td>\n",
       "      <td>10.200000</td>\n",
       "      <td>6.000000</td>\n",
       "    </tr>\n",
       "    <tr>\n",
       "      <th>75%</th>\n",
       "      <td>9.200000</td>\n",
       "      <td>0.640000</td>\n",
       "      <td>0.420000</td>\n",
       "      <td>2.600000</td>\n",
       "      <td>0.090000</td>\n",
       "      <td>21.000000</td>\n",
       "      <td>62.000000</td>\n",
       "      <td>0.997835</td>\n",
       "      <td>3.400000</td>\n",
       "      <td>0.730000</td>\n",
       "      <td>11.100000</td>\n",
       "      <td>6.000000</td>\n",
       "    </tr>\n",
       "    <tr>\n",
       "      <th>max</th>\n",
       "      <td>15.900000</td>\n",
       "      <td>1.580000</td>\n",
       "      <td>1.000000</td>\n",
       "      <td>15.500000</td>\n",
       "      <td>0.611000</td>\n",
       "      <td>72.000000</td>\n",
       "      <td>289.000000</td>\n",
       "      <td>1.003690</td>\n",
       "      <td>4.010000</td>\n",
       "      <td>2.000000</td>\n",
       "      <td>14.900000</td>\n",
       "      <td>8.000000</td>\n",
       "    </tr>\n",
       "  </tbody>\n",
       "</table>\n",
       "</div>"
      ],
      "text/plain": [
       "       fixed acidity  volatile acidity  citric acid  residual sugar  \\\n",
       "count    1599.000000       1599.000000  1599.000000     1599.000000   \n",
       "mean        8.319637          0.527821     0.270976        2.538806   \n",
       "std         1.741096          0.179060     0.194801        1.409928   \n",
       "min         4.600000          0.120000     0.000000        0.900000   \n",
       "25%         7.100000          0.390000     0.090000        1.900000   \n",
       "50%         7.900000          0.520000     0.260000        2.200000   \n",
       "75%         9.200000          0.640000     0.420000        2.600000   \n",
       "max        15.900000          1.580000     1.000000       15.500000   \n",
       "\n",
       "         chlorides  free sulfur dioxide  total sulfur dioxide      density  \\\n",
       "count  1599.000000          1599.000000           1599.000000  1599.000000   \n",
       "mean      0.087467            15.874922             46.467792     0.996747   \n",
       "std       0.047065            10.460157             32.895324     0.001887   \n",
       "min       0.012000             1.000000              6.000000     0.990070   \n",
       "25%       0.070000             7.000000             22.000000     0.995600   \n",
       "50%       0.079000            14.000000             38.000000     0.996750   \n",
       "75%       0.090000            21.000000             62.000000     0.997835   \n",
       "max       0.611000            72.000000            289.000000     1.003690   \n",
       "\n",
       "                pH    sulphates      alcohol      quality  \n",
       "count  1599.000000  1599.000000  1599.000000  1599.000000  \n",
       "mean      3.311113     0.658149    10.422983     5.636023  \n",
       "std       0.154386     0.169507     1.065668     0.807569  \n",
       "min       2.740000     0.330000     8.400000     3.000000  \n",
       "25%       3.210000     0.550000     9.500000     5.000000  \n",
       "50%       3.310000     0.620000    10.200000     6.000000  \n",
       "75%       3.400000     0.730000    11.100000     6.000000  \n",
       "max       4.010000     2.000000    14.900000     8.000000  "
      ]
     },
     "execution_count": 76,
     "metadata": {},
     "output_type": "execute_result"
    }
   ],
   "source": [
    "wine.describe()"
   ]
  },
  {
   "cell_type": "code",
   "execution_count": 77,
   "metadata": {},
   "outputs": [
    {
     "name": "stderr",
     "output_type": "stream",
     "text": [
      "/Users/jguevara/miniconda3/lib/python3.6/site-packages/matplotlib/figure.py:2267: UserWarning: This figure includes Axes that are not compatible with tight_layout, so results might be incorrect.\n",
      "  warnings.warn(\"This figure includes Axes that are not compatible \"\n"
     ]
    },
    {
     "data": {
      "image/png": "[encoded data removed]",
      "text/plain": [
       "<Figure size 504x432 with 1 Axes>"
      ]
     },
     "metadata": {},
     "output_type": "display_data"
    }
   ],
   "source": [
    "##additional pre-processing here\n",
    "#get your data ready to run a model on \n",
    "\n",
    "# At a glance, one could say that a wine's quality could be based on its alcohol content so I'll check that out\n",
    "plt.figure(figsize=(7,6))\n",
    "Alcohol = wine['alcohol']\n",
    "Quality = wine['quality']\n",
    "plt.scatter(Quality, Alcohol)\n",
    "plt.xlabel(\"Quality Score\",fontsize=18)\n",
    "plt.ylabel(\"Alcohol (%)\", fontsize=18)\n",
    "plt.show()"
   ]
  },
  {
   "cell_type": "code",
   "execution_count": 78,
   "metadata": {},
   "outputs": [
    {
     "data": {
      "text/plain": [
       "volatile acidity       -0.390558\n",
       "total sulfur dioxide   -0.185100\n",
       "density                -0.174919\n",
       "chlorides              -0.128907\n",
       "pH                     -0.057731\n",
       "free sulfur dioxide    -0.050656\n",
       "residual sugar          0.013732\n",
       "fixed acidity           0.124052\n",
       "citric acid             0.226373\n",
       "sulphates               0.251397\n",
       "alcohol                 0.476166\n",
       "quality                 1.000000\n",
       "Name: quality, dtype: float64"
      ]
     },
     "execution_count": 78,
     "metadata": {},
     "output_type": "execute_result"
    }
   ],
   "source": [
    "# Probably a good idea to check correlations\n",
    "wine.corr()['quality'].sort_values(ascending=True)"
   ]
  },
  {
   "cell_type": "code",
   "execution_count": 79,
   "metadata": {},
   "outputs": [
    {
     "data": {
      "text/html": [
       "<div>\n",
       "<style scoped>\n",
       "    .dataframe tbody tr th:only-of-type {\n",
       "        vertical-align: middle;\n",
       "    }\n",
       "\n",
       "    .dataframe tbody tr th {\n",
       "        vertical-align: top;\n",
       "    }\n",
       "\n",
       "    .dataframe thead th {\n",
       "        text-align: right;\n",
       "    }\n",
       "</style>\n",
       "<table border=\"1\" class=\"dataframe\">\n",
       "  <thead>\n",
       "    <tr style=\"text-align: right;\">\n",
       "      <th></th>\n",
       "      <th>volatile acidity</th>\n",
       "      <th>total sulfur dioxide</th>\n",
       "      <th>density</th>\n",
       "      <th>alcohol</th>\n",
       "      <th>sulphates</th>\n",
       "      <th>citric acid</th>\n",
       "    </tr>\n",
       "  </thead>\n",
       "  <tbody>\n",
       "    <tr>\n",
       "      <th>0</th>\n",
       "      <td>0.961576</td>\n",
       "      <td>-0.379014</td>\n",
       "      <td>0.558100</td>\n",
       "      <td>-0.959946</td>\n",
       "      <td>-0.579025</td>\n",
       "      <td>-1.391037</td>\n",
       "    </tr>\n",
       "    <tr>\n",
       "      <th>1</th>\n",
       "      <td>1.966827</td>\n",
       "      <td>0.624168</td>\n",
       "      <td>0.028252</td>\n",
       "      <td>-0.584594</td>\n",
       "      <td>0.128910</td>\n",
       "      <td>-1.391037</td>\n",
       "    </tr>\n",
       "    <tr>\n",
       "      <th>2</th>\n",
       "      <td>1.296660</td>\n",
       "      <td>0.228975</td>\n",
       "      <td>0.134222</td>\n",
       "      <td>-0.584594</td>\n",
       "      <td>-0.048074</td>\n",
       "      <td>-1.185699</td>\n",
       "    </tr>\n",
       "    <tr>\n",
       "      <th>3</th>\n",
       "      <td>-1.384011</td>\n",
       "      <td>0.411372</td>\n",
       "      <td>0.664069</td>\n",
       "      <td>-0.584594</td>\n",
       "      <td>-0.461036</td>\n",
       "      <td>1.483689</td>\n",
       "    </tr>\n",
       "    <tr>\n",
       "      <th>4</th>\n",
       "      <td>0.961576</td>\n",
       "      <td>-0.379014</td>\n",
       "      <td>0.558100</td>\n",
       "      <td>-0.959946</td>\n",
       "      <td>-0.579025</td>\n",
       "      <td>-1.391037</td>\n",
       "    </tr>\n",
       "  </tbody>\n",
       "</table>\n",
       "</div>"
      ],
      "text/plain": [
       "   volatile acidity  total sulfur dioxide   density   alcohol  sulphates  \\\n",
       "0          0.961576             -0.379014  0.558100 -0.959946  -0.579025   \n",
       "1          1.966827              0.624168  0.028252 -0.584594   0.128910   \n",
       "2          1.296660              0.228975  0.134222 -0.584594  -0.048074   \n",
       "3         -1.384011              0.411372  0.664069 -0.584594  -0.461036   \n",
       "4          0.961576             -0.379014  0.558100 -0.959946  -0.579025   \n",
       "\n",
       "   citric acid  \n",
       "0    -1.391037  \n",
       "1    -1.391037  \n",
       "2    -1.185699  \n",
       "3     1.483689  \n",
       "4    -1.391037  "
      ]
     },
     "execution_count": 79,
     "metadata": {},
     "output_type": "execute_result"
    }
   ],
   "source": [
    "lambda_func = lambda x: (x - x.mean())/x.std()\n",
    "# I'll take the three most negative and the three most positive correlations as my numerical features since they probably have the most pull\n",
    "wine_features = [\"volatile acidity\", \"total sulfur dioxide\", \"density\", \"alcohol\", \"sulphates\", \"citric acid\"]\n",
    "wine[wine_features] = wine[wine_features].transform(lambda_func)\n",
    "wine[wine_features].head()"
   ]
  },
  {
   "cell_type": "code",
   "execution_count": 80,
   "metadata": {},
   "outputs": [],
   "source": [
    "y = wine['quality']\n",
    "X = wine[wine_features]"
   ]
  },
  {
   "cell_type": "code",
   "execution_count": 81,
   "metadata": {},
   "outputs": [
    {
     "data": {
      "text/html": [
       "<div>\n",
       "<style scoped>\n",
       "    .dataframe tbody tr th:only-of-type {\n",
       "        vertical-align: middle;\n",
       "    }\n",
       "\n",
       "    .dataframe tbody tr th {\n",
       "        vertical-align: top;\n",
       "    }\n",
       "\n",
       "    .dataframe thead th {\n",
       "        text-align: right;\n",
       "    }\n",
       "</style>\n",
       "<table border=\"1\" class=\"dataframe\">\n",
       "  <thead>\n",
       "    <tr style=\"text-align: right;\">\n",
       "      <th></th>\n",
       "      <th>volatile acidity</th>\n",
       "      <th>total sulfur dioxide</th>\n",
       "      <th>density</th>\n",
       "      <th>alcohol</th>\n",
       "      <th>sulphates</th>\n",
       "      <th>citric acid</th>\n",
       "    </tr>\n",
       "  </thead>\n",
       "  <tbody>\n",
       "    <tr>\n",
       "      <th>count</th>\n",
       "      <td>1.599000e+03</td>\n",
       "      <td>1.599000e+03</td>\n",
       "      <td>1.599000e+03</td>\n",
       "      <td>1.599000e+03</td>\n",
       "      <td>1.599000e+03</td>\n",
       "      <td>1.599000e+03</td>\n",
       "    </tr>\n",
       "    <tr>\n",
       "      <th>mean</th>\n",
       "      <td>1.688594e-16</td>\n",
       "      <td>2.666202e-17</td>\n",
       "      <td>2.360477e-14</td>\n",
       "      <td>7.109871e-17</td>\n",
       "      <td>6.665504e-16</td>\n",
       "      <td>-1.066481e-16</td>\n",
       "    </tr>\n",
       "    <tr>\n",
       "      <th>std</th>\n",
       "      <td>1.000000e+00</td>\n",
       "      <td>1.000000e+00</td>\n",
       "      <td>1.000000e+00</td>\n",
       "      <td>1.000000e+00</td>\n",
       "      <td>1.000000e+00</td>\n",
       "      <td>1.000000e+00</td>\n",
       "    </tr>\n",
       "    <tr>\n",
       "      <th>min</th>\n",
       "      <td>-2.277567e+00</td>\n",
       "      <td>-1.230199e+00</td>\n",
       "      <td>-3.537625e+00</td>\n",
       "      <td>-1.898325e+00</td>\n",
       "      <td>-1.935902e+00</td>\n",
       "      <td>-1.391037e+00</td>\n",
       "    </tr>\n",
       "    <tr>\n",
       "      <th>25%</th>\n",
       "      <td>-7.696903e-01</td>\n",
       "      <td>-7.438076e-01</td>\n",
       "      <td>-6.075656e-01</td>\n",
       "      <td>-8.661079e-01</td>\n",
       "      <td>-6.380200e-01</td>\n",
       "      <td>-9.290275e-01</td>\n",
       "    </tr>\n",
       "    <tr>\n",
       "      <th>50%</th>\n",
       "      <td>-4.367545e-02</td>\n",
       "      <td>-2.574163e-01</td>\n",
       "      <td>1.759533e-03</td>\n",
       "      <td>-2.092427e-01</td>\n",
       "      <td>-2.250577e-01</td>\n",
       "      <td>-5.634264e-02</td>\n",
       "    </tr>\n",
       "    <tr>\n",
       "      <th>75%</th>\n",
       "      <td>6.264921e-01</td>\n",
       "      <td>4.721707e-01</td>\n",
       "      <td>5.766445e-01</td>\n",
       "      <td>6.352984e-01</td>\n",
       "      <td>4.238832e-01</td>\n",
       "      <td>7.650078e-01</td>\n",
       "    </tr>\n",
       "    <tr>\n",
       "      <th>max</th>\n",
       "      <td>5.876138e+00</td>\n",
       "      <td>7.372847e+00</td>\n",
       "      <td>3.678904e+00</td>\n",
       "      <td>4.201138e+00</td>\n",
       "      <td>7.916200e+00</td>\n",
       "      <td>3.742403e+00</td>\n",
       "    </tr>\n",
       "  </tbody>\n",
       "</table>\n",
       "</div>"
      ],
      "text/plain": [
       "       volatile acidity  total sulfur dioxide       density       alcohol  \\\n",
       "count      1.599000e+03          1.599000e+03  1.599000e+03  1.599000e+03   \n",
       "mean       1.688594e-16          2.666202e-17  2.360477e-14  7.109871e-17   \n",
       "std        1.000000e+00          1.000000e+00  1.000000e+00  1.000000e+00   \n",
       "min       -2.277567e+00         -1.230199e+00 -3.537625e+00 -1.898325e+00   \n",
       "25%       -7.696903e-01         -7.438076e-01 -6.075656e-01 -8.661079e-01   \n",
       "50%       -4.367545e-02         -2.574163e-01  1.759533e-03 -2.092427e-01   \n",
       "75%        6.264921e-01          4.721707e-01  5.766445e-01  6.352984e-01   \n",
       "max        5.876138e+00          7.372847e+00  3.678904e+00  4.201138e+00   \n",
       "\n",
       "          sulphates   citric acid  \n",
       "count  1.599000e+03  1.599000e+03  \n",
       "mean   6.665504e-16 -1.066481e-16  \n",
       "std    1.000000e+00  1.000000e+00  \n",
       "min   -1.935902e+00 -1.391037e+00  \n",
       "25%   -6.380200e-01 -9.290275e-01  \n",
       "50%   -2.250577e-01 -5.634264e-02  \n",
       "75%    4.238832e-01  7.650078e-01  \n",
       "max    7.916200e+00  3.742403e+00  "
      ]
     },
     "execution_count": 81,
     "metadata": {},
     "output_type": "execute_result"
    }
   ],
   "source": [
    "#print(X.shape, y.shape)\n",
    "X.describe()"
   ]
  },
  {
   "cell_type": "code",
   "execution_count": 82,
   "metadata": {},
   "outputs": [],
   "source": [
    "X_train, X_test, y_train, y_test = train_test_split(X,y)"
   ]
  },
  {
   "cell_type": "markdown",
   "metadata": {},
   "source": [
    "Now \n",
    "\n",
    "1) run a linear regression model, \n",
    "\n",
    "2) use it to make predictions on your test data\n",
    "\n",
    "3) make a scatter plot (plt.scatter) of your predicted values vs. the actual values from your test data. \n",
    "\n",
    "4) Finally compute and n appropriate error score for your model on your test data so we can compare it to later versions (you can add more cells here to do this in multiple steps). \n",
    "\n",
    "(10 points)"
   ]
  },
  {
   "cell_type": "code",
   "execution_count": 83,
   "metadata": {},
   "outputs": [
    {
     "data": {
      "text/plain": [
       "LinearRegression(copy_X=True, fit_intercept=True, n_jobs=None,\n",
       "         normalize=False)"
      ]
     },
     "execution_count": 83,
     "metadata": {},
     "output_type": "execute_result"
    }
   ],
   "source": [
    "# Build the linear regression model\n",
    "lr = LinearRegression()\n",
    "lr.fit(X_train,y_train)"
   ]
  },
  {
   "cell_type": "code",
   "execution_count": 84,
   "metadata": {},
   "outputs": [],
   "source": [
    "# Generate a prediction\n",
    "predictions = lr.predict(X_test)"
   ]
  },
  {
   "cell_type": "code",
   "execution_count": 85,
   "metadata": {},
   "outputs": [
    {
     "name": "stdout",
     "output_type": "stream",
     "text": [
      "0.4126684136581723\n",
      "0.2913662872518642\n"
     ]
    }
   ],
   "source": [
    "# Score prediction - two different methods to see how far off we are\n",
    "print(mean_squared_error(y_test, predictions))\n",
    "from sklearn.metrics import r2_score\n",
    "print(r2_score(y_test, predictions))"
   ]
  },
  {
   "cell_type": "code",
   "execution_count": 86,
   "metadata": {},
   "outputs": [
    {
     "data": {
      "text/plain": [
       "<matplotlib.legend.Legend at 0x1a401a1438>"
      ]
     },
     "execution_count": 86,
     "metadata": {},
     "output_type": "execute_result"
    },
    {
     "name": "stderr",
     "output_type": "stream",
     "text": [
      "/Users/jguevara/miniconda3/lib/python3.6/site-packages/matplotlib/figure.py:2267: UserWarning: This figure includes Axes that are not compatible with tight_layout, so results might be incorrect.\n",
      "  warnings.warn(\"This figure includes Axes that are not compatible \"\n"
     ]
    },
    {
     "data": {
      "image/png": "[encoded data removed]",
      "text/plain": [
       "<Figure size 504x432 with 1 Axes>"
      ]
     },
     "metadata": {},
     "output_type": "display_data"
    }
   ],
   "source": [
    "# Plot the predictions vs the actual values\n",
    "plt.figure(figsize=(7,6))\n",
    "plt.scatter(predictions, y_test, s=40)\n",
    "plt.xlabel(\"Predicted Values\", fontsize=18)\n",
    "plt.ylabel(\"True Values\", fontsize=18)\n",
    "plt.legend(fontsize='x-large', frameon=True, framealpha=1.0, shadow=True)"
   ]
  },
  {
   "cell_type": "markdown",
   "metadata": {},
   "source": [
    "Now try using a neural network. You can keep with the approach of treating quality score as a number so your network should spit out a real-valued number. Pass \"mse\" to get mean-squared error metric. Evaluate after running the model to determine if you are overfitting or not. (10 points)"
   ]
  },
  {
   "cell_type": "code",
   "execution_count": 87,
   "metadata": {},
   "outputs": [
    {
     "data": {
      "text/html": [
       "<div>\n",
       "<style scoped>\n",
       "    .dataframe tbody tr th:only-of-type {\n",
       "        vertical-align: middle;\n",
       "    }\n",
       "\n",
       "    .dataframe tbody tr th {\n",
       "        vertical-align: top;\n",
       "    }\n",
       "\n",
       "    .dataframe thead th {\n",
       "        text-align: right;\n",
       "    }\n",
       "</style>\n",
       "<table border=\"1\" class=\"dataframe\">\n",
       "  <thead>\n",
       "    <tr style=\"text-align: right;\">\n",
       "      <th></th>\n",
       "      <th>volatile acidity</th>\n",
       "      <th>total sulfur dioxide</th>\n",
       "      <th>density</th>\n",
       "      <th>alcohol</th>\n",
       "      <th>sulphates</th>\n",
       "      <th>citric acid</th>\n",
       "    </tr>\n",
       "  </thead>\n",
       "  <tbody>\n",
       "    <tr>\n",
       "      <th>1377</th>\n",
       "      <td>-0.211217</td>\n",
       "      <td>0.836964</td>\n",
       "      <td>-0.766520</td>\n",
       "      <td>1.667515</td>\n",
       "      <td>-0.225058</td>\n",
       "      <td>-0.056343</td>\n",
       "    </tr>\n",
       "    <tr>\n",
       "      <th>1270</th>\n",
       "      <td>-0.825538</td>\n",
       "      <td>0.411372</td>\n",
       "      <td>-3.129642</td>\n",
       "      <td>3.356597</td>\n",
       "      <td>0.541872</td>\n",
       "      <td>-1.339703</td>\n",
       "    </tr>\n",
       "    <tr>\n",
       "      <th>707</th>\n",
       "      <td>-0.211217</td>\n",
       "      <td>-0.287816</td>\n",
       "      <td>-0.077718</td>\n",
       "      <td>0.072271</td>\n",
       "      <td>-0.873998</td>\n",
       "      <td>-0.415683</td>\n",
       "    </tr>\n",
       "    <tr>\n",
       "      <th>391</th>\n",
       "      <td>-0.630072</td>\n",
       "      <td>-0.105419</td>\n",
       "      <td>2.465552</td>\n",
       "      <td>-0.396918</td>\n",
       "      <td>0.836846</td>\n",
       "      <td>2.099702</td>\n",
       "    </tr>\n",
       "    <tr>\n",
       "      <th>963</th>\n",
       "      <td>-1.439858</td>\n",
       "      <td>-0.591810</td>\n",
       "      <td>-0.681744</td>\n",
       "      <td>0.729136</td>\n",
       "      <td>0.187905</td>\n",
       "      <td>0.611005</td>\n",
       "    </tr>\n",
       "  </tbody>\n",
       "</table>\n",
       "</div>"
      ],
      "text/plain": [
       "      volatile acidity  total sulfur dioxide   density   alcohol  sulphates  \\\n",
       "1377         -0.211217              0.836964 -0.766520  1.667515  -0.225058   \n",
       "1270         -0.825538              0.411372 -3.129642  3.356597   0.541872   \n",
       "707          -0.211217             -0.287816 -0.077718  0.072271  -0.873998   \n",
       "391          -0.630072             -0.105419  2.465552 -0.396918   0.836846   \n",
       "963          -1.439858             -0.591810 -0.681744  0.729136   0.187905   \n",
       "\n",
       "      citric acid  \n",
       "1377    -0.056343  \n",
       "1270    -1.339703  \n",
       "707     -0.415683  \n",
       "391      2.099702  \n",
       "963      0.611005  "
      ]
     },
     "execution_count": 87,
     "metadata": {},
     "output_type": "execute_result"
    }
   ],
   "source": [
    "X_train.head()"
   ]
  },
  {
   "cell_type": "code",
   "execution_count": 88,
   "metadata": {},
   "outputs": [
    {
     "data": {
      "text/html": [
       "<div>\n",
       "<style scoped>\n",
       "    .dataframe tbody tr th:only-of-type {\n",
       "        vertical-align: middle;\n",
       "    }\n",
       "\n",
       "    .dataframe tbody tr th {\n",
       "        vertical-align: top;\n",
       "    }\n",
       "\n",
       "    .dataframe thead th {\n",
       "        text-align: right;\n",
       "    }\n",
       "</style>\n",
       "<table border=\"1\" class=\"dataframe\">\n",
       "  <thead>\n",
       "    <tr style=\"text-align: right;\">\n",
       "      <th></th>\n",
       "      <th>volatile acidity</th>\n",
       "      <th>total sulfur dioxide</th>\n",
       "      <th>density</th>\n",
       "      <th>alcohol</th>\n",
       "      <th>sulphates</th>\n",
       "      <th>citric acid</th>\n",
       "    </tr>\n",
       "  </thead>\n",
       "  <tbody>\n",
       "    <tr>\n",
       "      <th>0</th>\n",
       "      <td>0.961576</td>\n",
       "      <td>-0.379014</td>\n",
       "      <td>0.558100</td>\n",
       "      <td>-0.959946</td>\n",
       "      <td>-0.579025</td>\n",
       "      <td>-1.391037</td>\n",
       "    </tr>\n",
       "    <tr>\n",
       "      <th>1</th>\n",
       "      <td>1.966827</td>\n",
       "      <td>0.624168</td>\n",
       "      <td>0.028252</td>\n",
       "      <td>-0.584594</td>\n",
       "      <td>0.128910</td>\n",
       "      <td>-1.391037</td>\n",
       "    </tr>\n",
       "    <tr>\n",
       "      <th>2</th>\n",
       "      <td>1.296660</td>\n",
       "      <td>0.228975</td>\n",
       "      <td>0.134222</td>\n",
       "      <td>-0.584594</td>\n",
       "      <td>-0.048074</td>\n",
       "      <td>-1.185699</td>\n",
       "    </tr>\n",
       "    <tr>\n",
       "      <th>3</th>\n",
       "      <td>-1.384011</td>\n",
       "      <td>0.411372</td>\n",
       "      <td>0.664069</td>\n",
       "      <td>-0.584594</td>\n",
       "      <td>-0.461036</td>\n",
       "      <td>1.483689</td>\n",
       "    </tr>\n",
       "    <tr>\n",
       "      <th>4</th>\n",
       "      <td>0.961576</td>\n",
       "      <td>-0.379014</td>\n",
       "      <td>0.558100</td>\n",
       "      <td>-0.959946</td>\n",
       "      <td>-0.579025</td>\n",
       "      <td>-1.391037</td>\n",
       "    </tr>\n",
       "  </tbody>\n",
       "</table>\n",
       "</div>"
      ],
      "text/plain": [
       "   volatile acidity  total sulfur dioxide   density   alcohol  sulphates  \\\n",
       "0          0.961576             -0.379014  0.558100 -0.959946  -0.579025   \n",
       "1          1.966827              0.624168  0.028252 -0.584594   0.128910   \n",
       "2          1.296660              0.228975  0.134222 -0.584594  -0.048074   \n",
       "3         -1.384011              0.411372  0.664069 -0.584594  -0.461036   \n",
       "4          0.961576             -0.379014  0.558100 -0.959946  -0.579025   \n",
       "\n",
       "   citric acid  \n",
       "0    -1.391037  \n",
       "1    -1.391037  \n",
       "2    -1.185699  \n",
       "3     1.483689  \n",
       "4    -1.391037  "
      ]
     },
     "execution_count": 88,
     "metadata": {},
     "output_type": "execute_result"
    }
   ],
   "source": [
    "X.head()"
   ]
  },
  {
   "cell_type": "code",
   "execution_count": 99,
   "metadata": {},
   "outputs": [
    {
     "name": "stdout",
     "output_type": "stream",
     "text": [
      "Train on 1199 samples, validate on 400 samples\n",
      "Epoch 1/80\n",
      "1199/1199 [==============================] - 3s 3ms/step - loss: -44.1834 - mean_squared_error: 17.4325 - val_loss: -73.1357 - val_mean_squared_error: 7.1583\n",
      "Epoch 2/80\n",
      "1199/1199 [==============================] - 0s 221us/step - loss: -74.1673 - mean_squared_error: 6.6190 - val_loss: -73.1357 - val_mean_squared_error: 6.0990\n",
      "Epoch 3/80\n",
      "1199/1199 [==============================] - 0s 231us/step - loss: -74.1673 - mean_squared_error: 6.3066 - val_loss: -73.1357 - val_mean_squared_error: 6.0748\n",
      "Epoch 4/80\n",
      "1199/1199 [==============================] - 0s 222us/step - loss: -74.1673 - mean_squared_error: 6.2996 - val_loss: -73.1357 - val_mean_squared_error: 6.0742\n",
      "Epoch 5/80\n",
      "1199/1199 [==============================] - 0s 208us/step - loss: -74.1673 - mean_squared_error: 6.2995 - val_loss: -73.1357 - val_mean_squared_error: 6.0742\n",
      "Epoch 6/80\n",
      "1199/1199 [==============================] - 0s 209us/step - loss: -74.1673 - mean_squared_error: 6.2995 - val_loss: -73.1357 - val_mean_squared_error: 6.0742\n",
      "Epoch 7/80\n",
      "1199/1199 [==============================] - 0s 205us/step - loss: -74.1673 - mean_squared_error: 6.2995 - val_loss: -73.1357 - val_mean_squared_error: 6.0742\n",
      "Epoch 8/80\n",
      "1199/1199 [==============================] - 0s 229us/step - loss: -74.1673 - mean_squared_error: 6.2995 - val_loss: -73.1357 - val_mean_squared_error: 6.0742\n",
      "Epoch 9/80\n",
      "1199/1199 [==============================] - 0s 234us/step - loss: -74.1673 - mean_squared_error: 6.2995 - val_loss: -73.1357 - val_mean_squared_error: 6.0742\n",
      "Epoch 10/80\n",
      "1199/1199 [==============================] - 0s 229us/step - loss: -74.1673 - mean_squared_error: 6.2995 - val_loss: -73.1357 - val_mean_squared_error: 6.0742\n",
      "Epoch 11/80\n",
      "1199/1199 [==============================] - 0s 235us/step - loss: -74.1673 - mean_squared_error: 6.2995 - val_loss: -73.1357 - val_mean_squared_error: 6.0742\n",
      "Epoch 12/80\n",
      "1199/1199 [==============================] - 0s 220us/step - loss: -74.1673 - mean_squared_error: 6.2995 - val_loss: -73.1357 - val_mean_squared_error: 6.0742\n",
      "Epoch 13/80\n",
      "1199/1199 [==============================] - 0s 222us/step - loss: -74.1673 - mean_squared_error: 6.2995 - val_loss: -73.1357 - val_mean_squared_error: 6.0742\n",
      "Epoch 14/80\n",
      "1199/1199 [==============================] - 0s 221us/step - loss: -74.1673 - mean_squared_error: 6.2995 - val_loss: -73.1357 - val_mean_squared_error: 6.0742\n",
      "Epoch 15/80\n",
      "1199/1199 [==============================] - 0s 220us/step - loss: -74.1673 - mean_squared_error: 6.2995 - val_loss: -73.1357 - val_mean_squared_error: 6.0742\n",
      "Epoch 16/80\n",
      "1199/1199 [==============================] - 0s 228us/step - loss: -74.1673 - mean_squared_error: 6.2995 - val_loss: -73.1357 - val_mean_squared_error: 6.0742\n",
      "Epoch 17/80\n",
      "1199/1199 [==============================] - 0s 235us/step - loss: -74.1673 - mean_squared_error: 6.2995 - val_loss: -73.1357 - val_mean_squared_error: 6.0742\n",
      "Epoch 18/80\n",
      "1199/1199 [==============================] - 0s 226us/step - loss: -74.1673 - mean_squared_error: 6.2995 - val_loss: -73.1357 - val_mean_squared_error: 6.0742\n",
      "Epoch 19/80\n",
      "1199/1199 [==============================] - 0s 220us/step - loss: -74.1673 - mean_squared_error: 6.2995 - val_loss: -73.1357 - val_mean_squared_error: 6.0742\n",
      "Epoch 20/80\n",
      "1199/1199 [==============================] - 0s 219us/step - loss: -74.1673 - mean_squared_error: 6.2995 - val_loss: -73.1357 - val_mean_squared_error: 6.0742\n",
      "Epoch 21/80\n",
      "1199/1199 [==============================] - 0s 219us/step - loss: -74.1673 - mean_squared_error: 6.2995 - val_loss: -73.1357 - val_mean_squared_error: 6.0742\n",
      "Epoch 22/80\n",
      "1199/1199 [==============================] - 0s 206us/step - loss: -74.1673 - mean_squared_error: 6.2995 - val_loss: -73.1357 - val_mean_squared_error: 6.0742\n",
      "Epoch 23/80\n",
      "1199/1199 [==============================] - 0s 223us/step - loss: -74.1673 - mean_squared_error: 6.2995 - val_loss: -73.1357 - val_mean_squared_error: 6.0742\n",
      "Epoch 24/80\n",
      "1199/1199 [==============================] - 0s 210us/step - loss: -74.1673 - mean_squared_error: 6.2995 - val_loss: -73.1357 - val_mean_squared_error: 6.0742\n",
      "Epoch 25/80\n",
      "1199/1199 [==============================] - 0s 241us/step - loss: -74.1673 - mean_squared_error: 6.2995 - val_loss: -73.1357 - val_mean_squared_error: 6.0742\n",
      "Epoch 26/80\n",
      "1199/1199 [==============================] - 0s 226us/step - loss: -74.1673 - mean_squared_error: 6.2995 - val_loss: -73.1357 - val_mean_squared_error: 6.0742\n",
      "Epoch 27/80\n",
      "1199/1199 [==============================] - 0s 235us/step - loss: -74.1673 - mean_squared_error: 6.2995 - val_loss: -73.1357 - val_mean_squared_error: 6.0742\n",
      "Epoch 28/80\n",
      "1199/1199 [==============================] - 0s 222us/step - loss: -74.1673 - mean_squared_error: 6.2995 - val_loss: -73.1357 - val_mean_squared_error: 6.0742\n",
      "Epoch 29/80\n",
      "1199/1199 [==============================] - 0s 224us/step - loss: -74.1673 - mean_squared_error: 6.2995 - val_loss: -73.1357 - val_mean_squared_error: 6.0742\n",
      "Epoch 30/80\n",
      "1199/1199 [==============================] - 0s 245us/step - loss: -74.1673 - mean_squared_error: 6.2995 - val_loss: -73.1357 - val_mean_squared_error: 6.0742\n",
      "Epoch 31/80\n",
      "1199/1199 [==============================] - 0s 241us/step - loss: -74.1673 - mean_squared_error: 6.2995 - val_loss: -73.1357 - val_mean_squared_error: 6.0742\n",
      "Epoch 32/80\n",
      "1199/1199 [==============================] - 0s 225us/step - loss: -74.1673 - mean_squared_error: 6.2995 - val_loss: -73.1357 - val_mean_squared_error: 6.0742\n",
      "Epoch 33/80\n",
      "1199/1199 [==============================] - 0s 219us/step - loss: -74.1673 - mean_squared_error: 6.2995 - val_loss: -73.1357 - val_mean_squared_error: 6.0742\n",
      "Epoch 34/80\n",
      "1199/1199 [==============================] - 0s 216us/step - loss: -74.1673 - mean_squared_error: 6.2995 - val_loss: -73.1357 - val_mean_squared_error: 6.0742\n",
      "Epoch 35/80\n",
      "1199/1199 [==============================] - 0s 228us/step - loss: -74.1673 - mean_squared_error: 6.2995 - val_loss: -73.1357 - val_mean_squared_error: 6.0742\n",
      "Epoch 36/80\n",
      "1199/1199 [==============================] - 0s 212us/step - loss: -74.1673 - mean_squared_error: 6.2995 - val_loss: -73.1357 - val_mean_squared_error: 6.0742\n",
      "Epoch 37/80\n",
      "1199/1199 [==============================] - 0s 228us/step - loss: -74.1673 - mean_squared_error: 6.2995 - val_loss: -73.1357 - val_mean_squared_error: 6.0742\n",
      "Epoch 38/80\n",
      "1199/1199 [==============================] - 0s 234us/step - loss: -74.1673 - mean_squared_error: 6.2995 - val_loss: -73.1357 - val_mean_squared_error: 6.0742\n",
      "Epoch 39/80\n",
      "1199/1199 [==============================] - 0s 230us/step - loss: -74.1673 - mean_squared_error: 6.2995 - val_loss: -73.1357 - val_mean_squared_error: 6.0742\n",
      "Epoch 40/80\n",
      "1199/1199 [==============================] - 0s 226us/step - loss: -74.1673 - mean_squared_error: 6.2995 - val_loss: -73.1357 - val_mean_squared_error: 6.0742\n",
      "Epoch 41/80\n",
      "1199/1199 [==============================] - 0s 230us/step - loss: -74.1673 - mean_squared_error: 6.2995 - val_loss: -73.1357 - val_mean_squared_error: 6.0742\n",
      "Epoch 42/80\n",
      "1199/1199 [==============================] - 0s 240us/step - loss: -74.1673 - mean_squared_error: 6.2995 - val_loss: -73.1357 - val_mean_squared_error: 6.0742\n",
      "Epoch 43/80\n",
      "1199/1199 [==============================] - 0s 213us/step - loss: -74.1673 - mean_squared_error: 6.2995 - val_loss: -73.1357 - val_mean_squared_error: 6.0742\n",
      "Epoch 44/80\n",
      "1199/1199 [==============================] - 0s 216us/step - loss: -74.1673 - mean_squared_error: 6.2995 - val_loss: -73.1357 - val_mean_squared_error: 6.0742\n",
      "Epoch 45/80\n",
      "1199/1199 [==============================] - 0s 255us/step - loss: -74.1673 - mean_squared_error: 6.2995 - val_loss: -73.1357 - val_mean_squared_error: 6.0742\n",
      "Epoch 46/80\n",
      "1199/1199 [==============================] - 0s 245us/step - loss: -74.1673 - mean_squared_error: 6.2995 - val_loss: -73.1357 - val_mean_squared_error: 6.0742\n",
      "Epoch 47/80\n",
      "1199/1199 [==============================] - 0s 246us/step - loss: -74.1673 - mean_squared_error: 6.2995 - val_loss: -73.1357 - val_mean_squared_error: 6.0742\n",
      "Epoch 48/80\n",
      "1199/1199 [==============================] - 0s 219us/step - loss: -74.1673 - mean_squared_error: 6.2995 - val_loss: -73.1357 - val_mean_squared_error: 6.0742\n"
     ]
    },
    {
     "name": "stdout",
     "output_type": "stream",
     "text": [
      "Epoch 49/80\n",
      "1199/1199 [==============================] - 0s 214us/step - loss: -74.1673 - mean_squared_error: 6.2995 - val_loss: -73.1357 - val_mean_squared_error: 6.0742\n",
      "Epoch 50/80\n",
      "1199/1199 [==============================] - 0s 257us/step - loss: -74.1673 - mean_squared_error: 6.2995 - val_loss: -73.1357 - val_mean_squared_error: 6.0742\n",
      "Epoch 51/80\n",
      "1199/1199 [==============================] - 0s 240us/step - loss: -74.1673 - mean_squared_error: 6.2995 - val_loss: -73.1357 - val_mean_squared_error: 6.0742\n",
      "Epoch 52/80\n",
      "1199/1199 [==============================] - 0s 222us/step - loss: -74.1673 - mean_squared_error: 6.2995 - val_loss: -73.1357 - val_mean_squared_error: 6.0742\n",
      "Epoch 53/80\n",
      "1199/1199 [==============================] - 0s 223us/step - loss: -74.1673 - mean_squared_error: 6.2995 - val_loss: -73.1357 - val_mean_squared_error: 6.0742\n",
      "Epoch 54/80\n",
      "1199/1199 [==============================] - 0s 226us/step - loss: -74.1673 - mean_squared_error: 6.2995 - val_loss: -73.1357 - val_mean_squared_error: 6.0742\n",
      "Epoch 55/80\n",
      "1199/1199 [==============================] - 0s 251us/step - loss: -74.1673 - mean_squared_error: 6.2995 - val_loss: -73.1357 - val_mean_squared_error: 6.0742\n",
      "Epoch 56/80\n",
      "1199/1199 [==============================] - 0s 233us/step - loss: -74.1673 - mean_squared_error: 6.2995 - val_loss: -73.1357 - val_mean_squared_error: 6.0742\n",
      "Epoch 57/80\n",
      "1199/1199 [==============================] - 0s 212us/step - loss: -74.1673 - mean_squared_error: 6.2995 - val_loss: -73.1357 - val_mean_squared_error: 6.0742\n",
      "Epoch 58/80\n",
      "1199/1199 [==============================] - 0s 253us/step - loss: -74.1673 - mean_squared_error: 6.2995 - val_loss: -73.1357 - val_mean_squared_error: 6.0742\n",
      "Epoch 59/80\n",
      "1199/1199 [==============================] - 0s 215us/step - loss: -74.1673 - mean_squared_error: 6.2995 - val_loss: -73.1357 - val_mean_squared_error: 6.0742\n",
      "Epoch 60/80\n",
      "1199/1199 [==============================] - 0s 236us/step - loss: -74.1673 - mean_squared_error: 6.2995 - val_loss: -73.1357 - val_mean_squared_error: 6.0742\n",
      "Epoch 61/80\n",
      "1199/1199 [==============================] - 0s 200us/step - loss: -74.1673 - mean_squared_error: 6.2995 - val_loss: -73.1357 - val_mean_squared_error: 6.0742\n",
      "Epoch 62/80\n",
      "1199/1199 [==============================] - 0s 220us/step - loss: -74.1673 - mean_squared_error: 6.2995 - val_loss: -73.1357 - val_mean_squared_error: 6.0742\n",
      "Epoch 63/80\n",
      "1199/1199 [==============================] - 0s 202us/step - loss: -74.1673 - mean_squared_error: 6.2995 - val_loss: -73.1357 - val_mean_squared_error: 6.0742\n",
      "Epoch 64/80\n",
      "1199/1199 [==============================] - 0s 201us/step - loss: -74.1673 - mean_squared_error: 6.2995 - val_loss: -73.1357 - val_mean_squared_error: 6.0742\n",
      "Epoch 65/80\n",
      "1199/1199 [==============================] - 0s 222us/step - loss: -74.1673 - mean_squared_error: 6.2995 - val_loss: -73.1357 - val_mean_squared_error: 6.0742\n",
      "Epoch 66/80\n",
      "1199/1199 [==============================] - 0s 243us/step - loss: -74.1673 - mean_squared_error: 6.2995 - val_loss: -73.1357 - val_mean_squared_error: 6.0742\n",
      "Epoch 67/80\n",
      "1199/1199 [==============================] - 0s 244us/step - loss: -74.1673 - mean_squared_error: 6.2995 - val_loss: -73.1357 - val_mean_squared_error: 6.0742\n",
      "Epoch 68/80\n",
      "1199/1199 [==============================] - 0s 239us/step - loss: -74.1673 - mean_squared_error: 6.2995 - val_loss: -73.1357 - val_mean_squared_error: 6.0742\n",
      "Epoch 69/80\n",
      "1199/1199 [==============================] - 0s 210us/step - loss: -74.1673 - mean_squared_error: 6.2995 - val_loss: -73.1357 - val_mean_squared_error: 6.0742\n",
      "Epoch 70/80\n",
      "1199/1199 [==============================] - 0s 215us/step - loss: -74.1673 - mean_squared_error: 6.2995 - val_loss: -73.1357 - val_mean_squared_error: 6.0742\n",
      "Epoch 71/80\n",
      "1199/1199 [==============================] - 0s 219us/step - loss: -74.1673 - mean_squared_error: 6.2995 - val_loss: -73.1357 - val_mean_squared_error: 6.0742\n",
      "Epoch 72/80\n",
      "1199/1199 [==============================] - 0s 213us/step - loss: -74.1673 - mean_squared_error: 6.2995 - val_loss: -73.1357 - val_mean_squared_error: 6.0742\n",
      "Epoch 73/80\n",
      "1199/1199 [==============================] - 0s 224us/step - loss: -74.1673 - mean_squared_error: 6.2995 - val_loss: -73.1357 - val_mean_squared_error: 6.0742\n",
      "Epoch 74/80\n",
      "1199/1199 [==============================] - 0s 261us/step - loss: -74.1673 - mean_squared_error: 6.2995 - val_loss: -73.1357 - val_mean_squared_error: 6.0742\n",
      "Epoch 75/80\n",
      "1199/1199 [==============================] - 0s 250us/step - loss: -74.1673 - mean_squared_error: 6.2995 - val_loss: -73.1357 - val_mean_squared_error: 6.0742\n",
      "Epoch 76/80\n",
      "1199/1199 [==============================] - 0s 222us/step - loss: -74.1673 - mean_squared_error: 6.2995 - val_loss: -73.1357 - val_mean_squared_error: 6.0742\n",
      "Epoch 77/80\n",
      "1199/1199 [==============================] - 0s 219us/step - loss: -74.1673 - mean_squared_error: 6.2995 - val_loss: -73.1357 - val_mean_squared_error: 6.0742\n",
      "Epoch 78/80\n",
      "1199/1199 [==============================] - 0s 203us/step - loss: -74.1673 - mean_squared_error: 6.2995 - val_loss: -73.1357 - val_mean_squared_error: 6.0742\n",
      "Epoch 79/80\n",
      "1199/1199 [==============================] - 0s 230us/step - loss: -74.1673 - mean_squared_error: 6.2995 - val_loss: -73.1357 - val_mean_squared_error: 6.0742\n",
      "Epoch 80/80\n",
      "1199/1199 [==============================] - 0s 212us/step - loss: -74.1673 - mean_squared_error: 6.2995 - val_loss: -73.1357 - val_mean_squared_error: 6.0742\n"
     ]
    },
    {
     "data": {
      "text/plain": [
       "<keras.callbacks.History at 0x1a43e4c780>"
      ]
     },
     "execution_count": 99,
     "metadata": {},
     "output_type": "execute_result"
    }
   ],
   "source": [
    "# Try with no dropout\n",
    "model = Sequential()\n",
    "model.add(Dense(100, activation = \"relu\", input_dim = X_train.shape[1]))\n",
    "model.add(Dense(100, activation = \"relu\"))\n",
    "model.add(Dense(100, activation = \"relu\"))\n",
    "model.add(Dense(1, activation = \"relu\"))\n",
    "model.compile(loss='binary_crossentropy', optimizer=\"Adam\", metrics=['mean_squared_error'])\n",
    "model.fit(x=X_train, y=y_train, epochs = 80, validation_data=[X_test, y_test])"
   ]
  },
  {
   "cell_type": "code",
   "execution_count": null,
   "metadata": {},
   "outputs": [],
   "source": [
    "#model.fit(X_train.values, y_train.values, epochs=80, validation_data=[x_test.values, y_test.values])"
   ]
  },
  {
   "cell_type": "markdown",
   "metadata": {},
   "source": [
    "QUESTION: How is the neural network that you used different from linear regression? What parts are the same? Describe funtionality as well as what kinds of thing the network can learn (5 points)"
   ]
  },
  {
   "cell_type": "markdown",
   "metadata": {},
   "source": [
    "The neural network that I built was supposed to take the same test and train sets that the linear regression model used. So no difference there. However, the added layers of the neural network and its backpropagation should've helped the model learn which of the features that I chose had most of an effect in predicting wine quality therefore adjusting them accordingly until our loss was at its lowest. Thoug I did not use the drop off, the mean_squared error metric did go down so it's at least promising."
   ]
  },
  {
   "cell_type": "markdown",
   "metadata": {},
   "source": [
    "QUESTION: If you were going to implement your own linear regression function instead of using the scikit learn function, what are the major components / steps you would implement? Briefly describe what your program would do. You need not be verbose, a numbered list is sufficient. (5 points)\n",
    "\n"
   ]
  },
  {
   "cell_type": "markdown",
   "metadata": {},
   "source": [
    "<ul>\n",
    "    <li>\n",
    "<ul/>"
   ]
  },
  {
   "cell_type": "markdown",
   "metadata": {},
   "source": [
    "QUESTION: If you have a neural network with 10 (single-valued) inputs, 5 units in the first layer, 3 units in the second layer, and 1 output unit, how many weights would you have total? Ignore bias terms and show your math (you don't need to provide an explanation, just show the math). (5 points)"
   ]
  },
  {
   "cell_type": "code",
   "execution_count": 101,
   "metadata": {},
   "outputs": [
    {
     "name": "stdout",
     "output_type": "stream",
     "text": [
      "Total weights =  68\n"
     ]
    }
   ],
   "source": [
    "total_weights = (10 * 5) + (5*3) + (3*1) # 10 inputs to each of the 5 units in the first layer, 5 inputs to each of the 3 units in the second layer, and 3 inputs to into the last layer\n",
    "print(\"Total weights = \", total_weights)"
   ]
  },
  {
   "cell_type": "markdown",
   "metadata": {},
   "source": [
    "QUESTION: We could have treated this problem as a multi-class classification problem. How would this have impacted your neural network if you treated it as a classification task? Why might it not be a good idea to do this in this case? (5 points)"
   ]
  },
  {
   "cell_type": "markdown",
   "metadata": {},
   "source": []
  },
  {
   "cell_type": "markdown",
   "metadata": {},
   "source": [
    "### 2 - Recognizing images (35 points)\n",
    "\n",
    "We're going to work on image recognition problem. The images you will be using come from the \"Fasion MNIST\" dataset that is already cataloged in Keras. Items are classified into 10 different types of fashion. \n",
    "\n",
    "Your objective is to design from scratch a neural network to get as high of a classification accuracy as possible. Keep in mind your dataset is small. \n",
    "\n",
    "I've done some of the preprocessing for you in this case to speed things up. "
   ]
  },
  {
   "cell_type": "code",
   "execution_count": 102,
   "metadata": {},
   "outputs": [
    {
     "name": "stdout",
     "output_type": "stream",
     "text": [
      "Downloading data from http://fashion-mnist.s3-website.eu-central-1.amazonaws.com/train-labels-idx1-ubyte.gz\n",
      "32768/29515 [=================================] - 0s 0us/step\n",
      "Downloading data from http://fashion-mnist.s3-website.eu-central-1.amazonaws.com/train-images-idx3-ubyte.gz\n",
      "26427392/26421880 [==============================] - 7s 0us/step\n",
      "Downloading data from http://fashion-mnist.s3-website.eu-central-1.amazonaws.com/t10k-labels-idx1-ubyte.gz\n",
      "8192/5148 [===============================================] - 0s 0us/step\n",
      "Downloading data from http://fashion-mnist.s3-website.eu-central-1.amazonaws.com/t10k-images-idx3-ubyte.gz\n",
      "4423680/4422102 [==============================] - 1s 0us/step\n"
     ]
    }
   ],
   "source": [
    "#Loads data into test and training sets\n",
    "from keras.datasets import fashion_mnist\n",
    "(x_train, y_train), (x_test, y_test) = fashion_mnist.load_data()"
   ]
  },
  {
   "cell_type": "code",
   "execution_count": 103,
   "metadata": {},
   "outputs": [
    {
     "data": {
      "text/plain": [
       "<matplotlib.image.AxesImage at 0x1a4468c320>"
      ]
     },
     "execution_count": 103,
     "metadata": {},
     "output_type": "execute_result"
    },
    {
     "name": "stderr",
     "output_type": "stream",
     "text": [
      "/Users/jguevara/miniconda3/lib/python3.6/site-packages/matplotlib/figure.py:2267: UserWarning: This figure includes Axes that are not compatible with tight_layout, so results might be incorrect.\n",
      "  warnings.warn(\"This figure includes Axes that are not compatible \"\n"
     ]
    },
    {
     "data": {
      "image/png": "[encoded data removed]",
      "text/plain": [
       "<Figure size 432x288 with 1 Axes>"
      ]
     },
     "metadata": {},
     "output_type": "display_data"
    }
   ],
   "source": [
    "plt.imshow(x_train[9])"
   ]
  },
  {
   "cell_type": "code",
   "execution_count": 104,
   "metadata": {},
   "outputs": [
    {
     "data": {
      "text/plain": [
       "<matplotlib.image.AxesImage at 0x1a4462e898>"
      ]
     },
     "execution_count": 104,
     "metadata": {},
     "output_type": "execute_result"
    },
    {
     "name": "stderr",
     "output_type": "stream",
     "text": [
      "/Users/jguevara/miniconda3/lib/python3.6/site-packages/matplotlib/figure.py:2267: UserWarning: This figure includes Axes that are not compatible with tight_layout, so results might be incorrect.\n",
      "  warnings.warn(\"This figure includes Axes that are not compatible \"\n"
     ]
    },
    {
     "data": {
      "image/png": "[encoded data removed]",
      "text/plain": [
       "<Figure size 432x288 with 1 Axes>"
      ]
     },
     "metadata": {},
     "output_type": "display_data"
    }
   ],
   "source": [
    "plt.imshow(x_train[5])"
   ]
  },
  {
   "cell_type": "code",
   "execution_count": 105,
   "metadata": {},
   "outputs": [],
   "source": [
    "#creating one-hot ys\n",
    "x_train = x_train.reshape((60000, 28, 28, 1))\n",
    "x_train = x_train.astype('float32') / 255\n",
    "\n",
    "x_test = x_test.reshape((10000, 28, 28, 1))\n",
    "x_test = x_test.astype('float32') / 255\n",
    "\n",
    "#one-hot encode the ys to map from indices to vectors\n",
    "y_train = to_categorical(y_train)\n",
    "y_test = to_categorical(y_test)"
   ]
  },
  {
   "cell_type": "code",
   "execution_count": 122,
   "metadata": {},
   "outputs": [
    {
     "data": {
      "text/plain": [
       "array([[1., 0., 0., 0., 0., 0., 0., 0., 0., 0.],\n",
       "       [1., 0., 0., 0., 0., 0., 0., 0., 0., 0.],\n",
       "       [0., 0., 0., 1., 0., 0., 0., 0., 0., 0.],\n",
       "       [1., 0., 0., 0., 0., 0., 0., 0., 0., 0.],\n",
       "       [0., 0., 1., 0., 0., 0., 0., 0., 0., 0.],\n",
       "       [0., 0., 0., 0., 0., 0., 0., 1., 0., 0.],\n",
       "       [0., 0., 1., 0., 0., 0., 0., 0., 0., 0.],\n",
       "       [0., 0., 0., 0., 0., 1., 0., 0., 0., 0.],\n",
       "       [0., 0., 0., 0., 0., 1., 0., 0., 0., 0.]], dtype=float32)"
      ]
     },
     "execution_count": 122,
     "metadata": {},
     "output_type": "execute_result"
    }
   ],
   "source": [
    "#looking at the outputs\n",
    "y_train[1:10]"
   ]
  },
  {
   "cell_type": "markdown",
   "metadata": {},
   "source": [
    "Build your network below. \n",
    "\n",
    "Important: build a network such that your feature map has shrunk 4x by the time you get to the end (shoudl be about 7 x 7). (20 points)"
   ]
  },
  {
   "cell_type": "code",
   "execution_count": 144,
   "metadata": {},
   "outputs": [
    {
     "name": "stdout",
     "output_type": "stream",
     "text": [
      "_________________________________________________________________\n",
      "Layer (type)                 Output Shape              Param #   \n",
      "=================================================================\n",
      "conv2d_77 (Conv2D)           (None, 26, 26, 32)        320       \n",
      "_________________________________________________________________\n",
      "max_pooling2d_19 (MaxPooling (None, 13, 13, 32)        0         \n",
      "_________________________________________________________________\n",
      "conv2d_78 (Conv2D)           (None, 11, 11, 64)        18496     \n",
      "_________________________________________________________________\n",
      "conv2d_79 (Conv2D)           (None, 9, 9, 64)          36928     \n",
      "_________________________________________________________________\n",
      "conv2d_80 (Conv2D)           (None, 7, 7, 64)          36928     \n",
      "=================================================================\n",
      "Total params: 92,672\n",
      "Trainable params: 92,672\n",
      "Non-trainable params: 0\n",
      "_________________________________________________________________\n"
     ]
    }
   ],
   "source": [
    "##your network here... shrink your feature map 4x from input\n",
    "model = Sequential()\n",
    "model.add(Conv2D(32, (3, 3), activation='relu',\n",
    "                        input_shape=(28, 28, 1)))\n",
    "model.add(MaxPooling2D((2, 2)))\n",
    "model.add(Conv2D(64, (3, 3), activation='relu'))\n",
    "model.add(Conv2D(64, (3, 3), activation='relu'))\n",
    "model.add(Conv2D(64, (3, 3), activation='relu'))\n",
    "model.summary()"
   ]
  },
  {
   "cell_type": "code",
   "execution_count": 113,
   "metadata": {},
   "outputs": [],
   "source": [
    "model.compile(loss='categorical_crossentropy',\n",
    "              optimizer=\"Adam\",\n",
    "              metrics=['acc'])"
   ]
  },
  {
   "cell_type": "code",
   "execution_count": 116,
   "metadata": {},
   "outputs": [
    {
     "ename": "ValueError",
     "evalue": "Error when checking input: expected conv2d_1_input to have shape (100, 100, 3) but got array with shape (28, 28, 1)",
     "output_type": "error",
     "traceback": [
      "\u001b[0;31m---------------------------------------------------------------------------\u001b[0m",
      "\u001b[0;31mValueError\u001b[0m                                Traceback (most recent call last)",
      "\u001b[0;32m<ipython-input-116-b83b4dd3c85f>\u001b[0m in \u001b[0;36m<module>\u001b[0;34m()\u001b[0m\n\u001b[0;32m----> 1\u001b[0;31m \u001b[0mmodel\u001b[0m\u001b[0;34m.\u001b[0m\u001b[0mfit\u001b[0m\u001b[0;34m(\u001b[0m\u001b[0mx_train\u001b[0m\u001b[0;34m,\u001b[0m \u001b[0my_train\u001b[0m\u001b[0;34m,\u001b[0m \u001b[0mepochs\u001b[0m\u001b[0;34m=\u001b[0m\u001b[0;36m2\u001b[0m\u001b[0;34m,\u001b[0m \u001b[0mvalidation_data\u001b[0m\u001b[0;34m=\u001b[0m\u001b[0;34m[\u001b[0m\u001b[0mx_test\u001b[0m\u001b[0;34m,\u001b[0m \u001b[0my_test\u001b[0m\u001b[0;34m]\u001b[0m\u001b[0;34m)\u001b[0m\u001b[0;34m\u001b[0m\u001b[0;34m\u001b[0m\u001b[0m\n\u001b[0m",
      "\u001b[0;32m~/miniconda3/lib/python3.6/site-packages/keras/engine/training.py\u001b[0m in \u001b[0;36mfit\u001b[0;34m(self, x, y, batch_size, epochs, verbose, callbacks, validation_split, validation_data, shuffle, class_weight, sample_weight, initial_epoch, steps_per_epoch, validation_steps, **kwargs)\u001b[0m\n\u001b[1;32m    950\u001b[0m             \u001b[0msample_weight\u001b[0m\u001b[0;34m=\u001b[0m\u001b[0msample_weight\u001b[0m\u001b[0;34m,\u001b[0m\u001b[0;34m\u001b[0m\u001b[0;34m\u001b[0m\u001b[0m\n\u001b[1;32m    951\u001b[0m             \u001b[0mclass_weight\u001b[0m\u001b[0;34m=\u001b[0m\u001b[0mclass_weight\u001b[0m\u001b[0;34m,\u001b[0m\u001b[0;34m\u001b[0m\u001b[0;34m\u001b[0m\u001b[0m\n\u001b[0;32m--> 952\u001b[0;31m             batch_size=batch_size)\n\u001b[0m\u001b[1;32m    953\u001b[0m         \u001b[0;31m# Prepare validation data.\u001b[0m\u001b[0;34m\u001b[0m\u001b[0;34m\u001b[0m\u001b[0;34m\u001b[0m\u001b[0m\n\u001b[1;32m    954\u001b[0m         \u001b[0mdo_validation\u001b[0m \u001b[0;34m=\u001b[0m \u001b[0;32mFalse\u001b[0m\u001b[0;34m\u001b[0m\u001b[0;34m\u001b[0m\u001b[0m\n",
      "\u001b[0;32m~/miniconda3/lib/python3.6/site-packages/keras/engine/training.py\u001b[0m in \u001b[0;36m_standardize_user_data\u001b[0;34m(self, x, y, sample_weight, class_weight, check_array_lengths, batch_size)\u001b[0m\n\u001b[1;32m    749\u001b[0m             \u001b[0mfeed_input_shapes\u001b[0m\u001b[0;34m,\u001b[0m\u001b[0;34m\u001b[0m\u001b[0;34m\u001b[0m\u001b[0m\n\u001b[1;32m    750\u001b[0m             \u001b[0mcheck_batch_axis\u001b[0m\u001b[0;34m=\u001b[0m\u001b[0;32mFalse\u001b[0m\u001b[0;34m,\u001b[0m  \u001b[0;31m# Don't enforce the batch size.\u001b[0m\u001b[0;34m\u001b[0m\u001b[0;34m\u001b[0m\u001b[0m\n\u001b[0;32m--> 751\u001b[0;31m             exception_prefix='input')\n\u001b[0m\u001b[1;32m    752\u001b[0m \u001b[0;34m\u001b[0m\u001b[0m\n\u001b[1;32m    753\u001b[0m         \u001b[0;32mif\u001b[0m \u001b[0my\u001b[0m \u001b[0;32mis\u001b[0m \u001b[0;32mnot\u001b[0m \u001b[0;32mNone\u001b[0m\u001b[0;34m:\u001b[0m\u001b[0;34m\u001b[0m\u001b[0;34m\u001b[0m\u001b[0m\n",
      "\u001b[0;32m~/miniconda3/lib/python3.6/site-packages/keras/engine/training_utils.py\u001b[0m in \u001b[0;36mstandardize_input_data\u001b[0;34m(data, names, shapes, check_batch_axis, exception_prefix)\u001b[0m\n\u001b[1;32m    136\u001b[0m                             \u001b[0;34m': expected '\u001b[0m \u001b[0;34m+\u001b[0m \u001b[0mnames\u001b[0m\u001b[0;34m[\u001b[0m\u001b[0mi\u001b[0m\u001b[0;34m]\u001b[0m \u001b[0;34m+\u001b[0m \u001b[0;34m' to have shape '\u001b[0m \u001b[0;34m+\u001b[0m\u001b[0;34m\u001b[0m\u001b[0;34m\u001b[0m\u001b[0m\n\u001b[1;32m    137\u001b[0m                             \u001b[0mstr\u001b[0m\u001b[0;34m(\u001b[0m\u001b[0mshape\u001b[0m\u001b[0;34m)\u001b[0m \u001b[0;34m+\u001b[0m \u001b[0;34m' but got array with shape '\u001b[0m \u001b[0;34m+\u001b[0m\u001b[0;34m\u001b[0m\u001b[0;34m\u001b[0m\u001b[0m\n\u001b[0;32m--> 138\u001b[0;31m                             str(data_shape))\n\u001b[0m\u001b[1;32m    139\u001b[0m     \u001b[0;32mreturn\u001b[0m \u001b[0mdata\u001b[0m\u001b[0;34m\u001b[0m\u001b[0;34m\u001b[0m\u001b[0m\n\u001b[1;32m    140\u001b[0m \u001b[0;34m\u001b[0m\u001b[0m\n",
      "\u001b[0;31mValueError\u001b[0m: Error when checking input: expected conv2d_1_input to have shape (100, 100, 3) but got array with shape (28, 28, 1)"
     ]
    }
   ],
   "source": [
    "#model.fit(x_train, y_train, epochs=2, validation_data=[x_test, y_test]) Couldn't get the model to fit"
   ]
  },
  {
   "cell_type": "markdown",
   "metadata": {},
   "source": [
    "QUESTION: Why does the type of neural network you chose work well for the task (image recognition)? What properties does it have that make it work well for this? (5 points)"
   ]
  },
  {
   "cell_type": "markdown",
   "metadata": {},
   "source": [
    "Ideally a CNN should be able to take the individual pixel values that the image possesses and simplify them down to values that can be used to identify edges. By combining multiply layers of these filters we can then try to get a perceived output that can be determined to be, or not to be, what we desire to identify in the image."
   ]
  },
  {
   "cell_type": "markdown",
   "metadata": {},
   "source": [
    "QUESTION: If you wanted to improve performance at the task of identifying these images, what other approach would you try and why? (5 points)"
   ]
  },
  {
   "cell_type": "markdown",
   "metadata": {},
   "source": []
  },
  {
   "cell_type": "markdown",
   "metadata": {},
   "source": []
  },
  {
   "cell_type": "markdown",
   "metadata": {},
   "source": [
    "### 3 - A Plan for dealing with text (20 points)\n",
    "\n",
    "QUESTION: You are a data scientist working with the organization Donors Choose, which accepts applications for small grants from school teachers and then enables them to get crowdfunded. Imagine you were building a model to predict whether an application would get accepted or not based ONLY ON THE TEACHER'S ESSAY. The org has given you access to a dataset containing 200,000 applications and their result (funded or not funded). \n",
    "\n",
    "Walk through what approach you would take. You should cover: How would you encode the essay into something a computer could understand? What kind of neural network would you use? How many outputs would your neural network produce and what would they look like? How would you evaluate whether you were successful or not?\n",
    "\n",
    "Working code is not required. "
   ]
  },
  {
   "cell_type": "markdown",
   "metadata": {},
   "source": [
    "The first thing to do would be to do start out by building a dictionary or vector of sorts that could be used on each of the essays received. Having this dictionary would allow us to have the machine find correlation between words that we'd like to see from these essays, and words that actually appear in the essays. This is to say, if we were to have a dictionary then one could score an essay based on how many times specific keywords within their essay are identified within the text itself. As for the architecture itself, I'd probably go with something along the lines of a many-to-one architecture so that we could proccure a score that corresponds to each essay presented."
   ]
  },
  {
   "cell_type": "code",
   "execution_count": null,
   "metadata": {},
   "outputs": [],
   "source": []
  }
 ],
 "metadata": {
  "kernelspec": {
   "display_name": "Python 3",
   "language": "python",
   "name": "python3"
  },
  "language_info": {
   "codemirror_mode": {
    "name": "ipython",
    "version": 3
   },
   "file_extension": ".py",
   "mimetype": "text/x-python",
   "name": "python",
   "nbconvert_exporter": "python",
   "pygments_lexer": "ipython3",
   "version": "3.6.8"
  }
 },
 "nbformat": 4,
 "nbformat_minor": 2
}
